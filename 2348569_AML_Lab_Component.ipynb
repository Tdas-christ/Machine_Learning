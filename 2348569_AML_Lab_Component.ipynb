{
  "cells": [
    {
      "cell_type": "code",
      "execution_count": null,
      "metadata": {
        "id": "T1sq012t-73v"
      },
      "outputs": [],
      "source": [
        "import pandas as pd\n",
        "import numpy as np\n",
        "import matplotlib.pyplot as plt\n",
        "import seaborn as sns"
      ]
    },
    {
      "cell_type": "code",
      "execution_count": null,
      "metadata": {
        "colab": {
          "base_uri": "https://localhost:8080/",
          "height": 255
        },
        "id": "p-GsrEPSG5Zk",
        "outputId": "ed35f478-9a0a-4ed4-8e42-5f726208ecaa"
      },
      "outputs": [
        {
          "output_type": "execute_result",
          "data": {
            "text/plain": [
              "   EmployeeID  Age Attrition     BusinessTravel  DailyRate  Department  \\\n",
              "0     1313919   41        No      Travel_Rarely       1102  Cardiology   \n",
              "1     1200302   49        No  Travel_Frequently        279   Maternity   \n",
              "2     1060315   37       Yes      Travel_Rarely       1373   Maternity   \n",
              "3     1272912   33        No  Travel_Frequently       1392   Maternity   \n",
              "4     1414939   27        No      Travel_Rarely        591   Maternity   \n",
              "\n",
              "   DistanceFromHome  Education EducationField  EmployeeCount  ...  \\\n",
              "0                 1          2  Life Sciences              1  ...   \n",
              "1                 8          1  Life Sciences              1  ...   \n",
              "2                 2          2          Other              1  ...   \n",
              "3                 3          4  Life Sciences              1  ...   \n",
              "4                 2          1        Medical              1  ...   \n",
              "\n",
              "   RelationshipSatisfaction StandardHours  Shift  TotalWorkingYears  \\\n",
              "0                         1          80.0    0.0                  8   \n",
              "1                         4          80.0    1.0                 10   \n",
              "2                         2          54.0    0.0                  7   \n",
              "3                         3          56.0    0.0                  8   \n",
              "4                         4          80.0    1.0                  6   \n",
              "\n",
              "   TrainingTimesLastYear WorkLifeBalance  YearsAtCompany YearsInCurrentRole  \\\n",
              "0                      0               1               6                  4   \n",
              "1                      3               3              10                  7   \n",
              "2                      3               3               0                  0   \n",
              "3                      3               3               8                  7   \n",
              "4                      3               3               2                  2   \n",
              "\n",
              "   YearsSinceLastPromotion  YearsWithCurrManager  \n",
              "0                        0                     5  \n",
              "1                        1                     7  \n",
              "2                        0                     0  \n",
              "3                        3                     0  \n",
              "4                        2                     2  \n",
              "\n",
              "[5 rows x 35 columns]"
            ],
            "text/html": [
              "\n",
              "  <div id=\"df-c2f7dae9-01cd-4a2f-a2e9-a0b1fcad1aea\" class=\"colab-df-container\">\n",
              "    <div>\n",
              "<style scoped>\n",
              "    .dataframe tbody tr th:only-of-type {\n",
              "        vertical-align: middle;\n",
              "    }\n",
              "\n",
              "    .dataframe tbody tr th {\n",
              "        vertical-align: top;\n",
              "    }\n",
              "\n",
              "    .dataframe thead th {\n",
              "        text-align: right;\n",
              "    }\n",
              "</style>\n",
              "<table border=\"1\" class=\"dataframe\">\n",
              "  <thead>\n",
              "    <tr style=\"text-align: right;\">\n",
              "      <th></th>\n",
              "      <th>EmployeeID</th>\n",
              "      <th>Age</th>\n",
              "      <th>Attrition</th>\n",
              "      <th>BusinessTravel</th>\n",
              "      <th>DailyRate</th>\n",
              "      <th>Department</th>\n",
              "      <th>DistanceFromHome</th>\n",
              "      <th>Education</th>\n",
              "      <th>EducationField</th>\n",
              "      <th>EmployeeCount</th>\n",
              "      <th>...</th>\n",
              "      <th>RelationshipSatisfaction</th>\n",
              "      <th>StandardHours</th>\n",
              "      <th>Shift</th>\n",
              "      <th>TotalWorkingYears</th>\n",
              "      <th>TrainingTimesLastYear</th>\n",
              "      <th>WorkLifeBalance</th>\n",
              "      <th>YearsAtCompany</th>\n",
              "      <th>YearsInCurrentRole</th>\n",
              "      <th>YearsSinceLastPromotion</th>\n",
              "      <th>YearsWithCurrManager</th>\n",
              "    </tr>\n",
              "  </thead>\n",
              "  <tbody>\n",
              "    <tr>\n",
              "      <th>0</th>\n",
              "      <td>1313919</td>\n",
              "      <td>41</td>\n",
              "      <td>No</td>\n",
              "      <td>Travel_Rarely</td>\n",
              "      <td>1102</td>\n",
              "      <td>Cardiology</td>\n",
              "      <td>1</td>\n",
              "      <td>2</td>\n",
              "      <td>Life Sciences</td>\n",
              "      <td>1</td>\n",
              "      <td>...</td>\n",
              "      <td>1</td>\n",
              "      <td>80.0</td>\n",
              "      <td>0.0</td>\n",
              "      <td>8</td>\n",
              "      <td>0</td>\n",
              "      <td>1</td>\n",
              "      <td>6</td>\n",
              "      <td>4</td>\n",
              "      <td>0</td>\n",
              "      <td>5</td>\n",
              "    </tr>\n",
              "    <tr>\n",
              "      <th>1</th>\n",
              "      <td>1200302</td>\n",
              "      <td>49</td>\n",
              "      <td>No</td>\n",
              "      <td>Travel_Frequently</td>\n",
              "      <td>279</td>\n",
              "      <td>Maternity</td>\n",
              "      <td>8</td>\n",
              "      <td>1</td>\n",
              "      <td>Life Sciences</td>\n",
              "      <td>1</td>\n",
              "      <td>...</td>\n",
              "      <td>4</td>\n",
              "      <td>80.0</td>\n",
              "      <td>1.0</td>\n",
              "      <td>10</td>\n",
              "      <td>3</td>\n",
              "      <td>3</td>\n",
              "      <td>10</td>\n",
              "      <td>7</td>\n",
              "      <td>1</td>\n",
              "      <td>7</td>\n",
              "    </tr>\n",
              "    <tr>\n",
              "      <th>2</th>\n",
              "      <td>1060315</td>\n",
              "      <td>37</td>\n",
              "      <td>Yes</td>\n",
              "      <td>Travel_Rarely</td>\n",
              "      <td>1373</td>\n",
              "      <td>Maternity</td>\n",
              "      <td>2</td>\n",
              "      <td>2</td>\n",
              "      <td>Other</td>\n",
              "      <td>1</td>\n",
              "      <td>...</td>\n",
              "      <td>2</td>\n",
              "      <td>54.0</td>\n",
              "      <td>0.0</td>\n",
              "      <td>7</td>\n",
              "      <td>3</td>\n",
              "      <td>3</td>\n",
              "      <td>0</td>\n",
              "      <td>0</td>\n",
              "      <td>0</td>\n",
              "      <td>0</td>\n",
              "    </tr>\n",
              "    <tr>\n",
              "      <th>3</th>\n",
              "      <td>1272912</td>\n",
              "      <td>33</td>\n",
              "      <td>No</td>\n",
              "      <td>Travel_Frequently</td>\n",
              "      <td>1392</td>\n",
              "      <td>Maternity</td>\n",
              "      <td>3</td>\n",
              "      <td>4</td>\n",
              "      <td>Life Sciences</td>\n",
              "      <td>1</td>\n",
              "      <td>...</td>\n",
              "      <td>3</td>\n",
              "      <td>56.0</td>\n",
              "      <td>0.0</td>\n",
              "      <td>8</td>\n",
              "      <td>3</td>\n",
              "      <td>3</td>\n",
              "      <td>8</td>\n",
              "      <td>7</td>\n",
              "      <td>3</td>\n",
              "      <td>0</td>\n",
              "    </tr>\n",
              "    <tr>\n",
              "      <th>4</th>\n",
              "      <td>1414939</td>\n",
              "      <td>27</td>\n",
              "      <td>No</td>\n",
              "      <td>Travel_Rarely</td>\n",
              "      <td>591</td>\n",
              "      <td>Maternity</td>\n",
              "      <td>2</td>\n",
              "      <td>1</td>\n",
              "      <td>Medical</td>\n",
              "      <td>1</td>\n",
              "      <td>...</td>\n",
              "      <td>4</td>\n",
              "      <td>80.0</td>\n",
              "      <td>1.0</td>\n",
              "      <td>6</td>\n",
              "      <td>3</td>\n",
              "      <td>3</td>\n",
              "      <td>2</td>\n",
              "      <td>2</td>\n",
              "      <td>2</td>\n",
              "      <td>2</td>\n",
              "    </tr>\n",
              "  </tbody>\n",
              "</table>\n",
              "<p>5 rows × 35 columns</p>\n",
              "</div>\n",
              "    <div class=\"colab-df-buttons\">\n",
              "\n",
              "  <div class=\"colab-df-container\">\n",
              "    <button class=\"colab-df-convert\" onclick=\"convertToInteractive('df-c2f7dae9-01cd-4a2f-a2e9-a0b1fcad1aea')\"\n",
              "            title=\"Convert this dataframe to an interactive table.\"\n",
              "            style=\"display:none;\">\n",
              "\n",
              "  <svg xmlns=\"http://www.w3.org/2000/svg\" height=\"24px\" viewBox=\"0 -960 960 960\">\n",
              "    <path d=\"M120-120v-720h720v720H120Zm60-500h600v-160H180v160Zm220 220h160v-160H400v160Zm0 220h160v-160H400v160ZM180-400h160v-160H180v160Zm440 0h160v-160H620v160ZM180-180h160v-160H180v160Zm440 0h160v-160H620v160Z\"/>\n",
              "  </svg>\n",
              "    </button>\n",
              "\n",
              "  <style>\n",
              "    .colab-df-container {\n",
              "      display:flex;\n",
              "      gap: 12px;\n",
              "    }\n",
              "\n",
              "    .colab-df-convert {\n",
              "      background-color: #E8F0FE;\n",
              "      border: none;\n",
              "      border-radius: 50%;\n",
              "      cursor: pointer;\n",
              "      display: none;\n",
              "      fill: #1967D2;\n",
              "      height: 32px;\n",
              "      padding: 0 0 0 0;\n",
              "      width: 32px;\n",
              "    }\n",
              "\n",
              "    .colab-df-convert:hover {\n",
              "      background-color: #E2EBFA;\n",
              "      box-shadow: 0px 1px 2px rgba(60, 64, 67, 0.3), 0px 1px 3px 1px rgba(60, 64, 67, 0.15);\n",
              "      fill: #174EA6;\n",
              "    }\n",
              "\n",
              "    .colab-df-buttons div {\n",
              "      margin-bottom: 4px;\n",
              "    }\n",
              "\n",
              "    [theme=dark] .colab-df-convert {\n",
              "      background-color: #3B4455;\n",
              "      fill: #D2E3FC;\n",
              "    }\n",
              "\n",
              "    [theme=dark] .colab-df-convert:hover {\n",
              "      background-color: #434B5C;\n",
              "      box-shadow: 0px 1px 3px 1px rgba(0, 0, 0, 0.15);\n",
              "      filter: drop-shadow(0px 1px 2px rgba(0, 0, 0, 0.3));\n",
              "      fill: #FFFFFF;\n",
              "    }\n",
              "  </style>\n",
              "\n",
              "    <script>\n",
              "      const buttonEl =\n",
              "        document.querySelector('#df-c2f7dae9-01cd-4a2f-a2e9-a0b1fcad1aea button.colab-df-convert');\n",
              "      buttonEl.style.display =\n",
              "        google.colab.kernel.accessAllowed ? 'block' : 'none';\n",
              "\n",
              "      async function convertToInteractive(key) {\n",
              "        const element = document.querySelector('#df-c2f7dae9-01cd-4a2f-a2e9-a0b1fcad1aea');\n",
              "        const dataTable =\n",
              "          await google.colab.kernel.invokeFunction('convertToInteractive',\n",
              "                                                    [key], {});\n",
              "        if (!dataTable) return;\n",
              "\n",
              "        const docLinkHtml = 'Like what you see? Visit the ' +\n",
              "          '<a target=\"_blank\" href=https://colab.research.google.com/notebooks/data_table.ipynb>data table notebook</a>'\n",
              "          + ' to learn more about interactive tables.';\n",
              "        element.innerHTML = '';\n",
              "        dataTable['output_type'] = 'display_data';\n",
              "        await google.colab.output.renderOutput(dataTable, element);\n",
              "        const docLink = document.createElement('div');\n",
              "        docLink.innerHTML = docLinkHtml;\n",
              "        element.appendChild(docLink);\n",
              "      }\n",
              "    </script>\n",
              "  </div>\n",
              "\n",
              "\n",
              "<div id=\"df-15836305-cd42-49c8-b326-11fe451b8698\">\n",
              "  <button class=\"colab-df-quickchart\" onclick=\"quickchart('df-15836305-cd42-49c8-b326-11fe451b8698')\"\n",
              "            title=\"Suggest charts\"\n",
              "            style=\"display:none;\">\n",
              "\n",
              "<svg xmlns=\"http://www.w3.org/2000/svg\" height=\"24px\"viewBox=\"0 0 24 24\"\n",
              "     width=\"24px\">\n",
              "    <g>\n",
              "        <path d=\"M19 3H5c-1.1 0-2 .9-2 2v14c0 1.1.9 2 2 2h14c1.1 0 2-.9 2-2V5c0-1.1-.9-2-2-2zM9 17H7v-7h2v7zm4 0h-2V7h2v10zm4 0h-2v-4h2v4z\"/>\n",
              "    </g>\n",
              "</svg>\n",
              "  </button>\n",
              "\n",
              "<style>\n",
              "  .colab-df-quickchart {\n",
              "      --bg-color: #E8F0FE;\n",
              "      --fill-color: #1967D2;\n",
              "      --hover-bg-color: #E2EBFA;\n",
              "      --hover-fill-color: #174EA6;\n",
              "      --disabled-fill-color: #AAA;\n",
              "      --disabled-bg-color: #DDD;\n",
              "  }\n",
              "\n",
              "  [theme=dark] .colab-df-quickchart {\n",
              "      --bg-color: #3B4455;\n",
              "      --fill-color: #D2E3FC;\n",
              "      --hover-bg-color: #434B5C;\n",
              "      --hover-fill-color: #FFFFFF;\n",
              "      --disabled-bg-color: #3B4455;\n",
              "      --disabled-fill-color: #666;\n",
              "  }\n",
              "\n",
              "  .colab-df-quickchart {\n",
              "    background-color: var(--bg-color);\n",
              "    border: none;\n",
              "    border-radius: 50%;\n",
              "    cursor: pointer;\n",
              "    display: none;\n",
              "    fill: var(--fill-color);\n",
              "    height: 32px;\n",
              "    padding: 0;\n",
              "    width: 32px;\n",
              "  }\n",
              "\n",
              "  .colab-df-quickchart:hover {\n",
              "    background-color: var(--hover-bg-color);\n",
              "    box-shadow: 0 1px 2px rgba(60, 64, 67, 0.3), 0 1px 3px 1px rgba(60, 64, 67, 0.15);\n",
              "    fill: var(--button-hover-fill-color);\n",
              "  }\n",
              "\n",
              "  .colab-df-quickchart-complete:disabled,\n",
              "  .colab-df-quickchart-complete:disabled:hover {\n",
              "    background-color: var(--disabled-bg-color);\n",
              "    fill: var(--disabled-fill-color);\n",
              "    box-shadow: none;\n",
              "  }\n",
              "\n",
              "  .colab-df-spinner {\n",
              "    border: 2px solid var(--fill-color);\n",
              "    border-color: transparent;\n",
              "    border-bottom-color: var(--fill-color);\n",
              "    animation:\n",
              "      spin 1s steps(1) infinite;\n",
              "  }\n",
              "\n",
              "  @keyframes spin {\n",
              "    0% {\n",
              "      border-color: transparent;\n",
              "      border-bottom-color: var(--fill-color);\n",
              "      border-left-color: var(--fill-color);\n",
              "    }\n",
              "    20% {\n",
              "      border-color: transparent;\n",
              "      border-left-color: var(--fill-color);\n",
              "      border-top-color: var(--fill-color);\n",
              "    }\n",
              "    30% {\n",
              "      border-color: transparent;\n",
              "      border-left-color: var(--fill-color);\n",
              "      border-top-color: var(--fill-color);\n",
              "      border-right-color: var(--fill-color);\n",
              "    }\n",
              "    40% {\n",
              "      border-color: transparent;\n",
              "      border-right-color: var(--fill-color);\n",
              "      border-top-color: var(--fill-color);\n",
              "    }\n",
              "    60% {\n",
              "      border-color: transparent;\n",
              "      border-right-color: var(--fill-color);\n",
              "    }\n",
              "    80% {\n",
              "      border-color: transparent;\n",
              "      border-right-color: var(--fill-color);\n",
              "      border-bottom-color: var(--fill-color);\n",
              "    }\n",
              "    90% {\n",
              "      border-color: transparent;\n",
              "      border-bottom-color: var(--fill-color);\n",
              "    }\n",
              "  }\n",
              "</style>\n",
              "\n",
              "  <script>\n",
              "    async function quickchart(key) {\n",
              "      const quickchartButtonEl =\n",
              "        document.querySelector('#' + key + ' button');\n",
              "      quickchartButtonEl.disabled = true;  // To prevent multiple clicks.\n",
              "      quickchartButtonEl.classList.add('colab-df-spinner');\n",
              "      try {\n",
              "        const charts = await google.colab.kernel.invokeFunction(\n",
              "            'suggestCharts', [key], {});\n",
              "      } catch (error) {\n",
              "        console.error('Error during call to suggestCharts:', error);\n",
              "      }\n",
              "      quickchartButtonEl.classList.remove('colab-df-spinner');\n",
              "      quickchartButtonEl.classList.add('colab-df-quickchart-complete');\n",
              "    }\n",
              "    (() => {\n",
              "      let quickchartButtonEl =\n",
              "        document.querySelector('#df-15836305-cd42-49c8-b326-11fe451b8698 button');\n",
              "      quickchartButtonEl.style.display =\n",
              "        google.colab.kernel.accessAllowed ? 'block' : 'none';\n",
              "    })();\n",
              "  </script>\n",
              "</div>\n",
              "    </div>\n",
              "  </div>\n"
            ]
          },
          "metadata": {},
          "execution_count": 114
        }
      ],
      "source": [
        "df = pd.read_csv('/content/drive/MyDrive/DATASETS/watson_healthcare_CIA - watson_healthcare_CIA.csv')\n",
        "df.head()"
      ]
    },
    {
      "cell_type": "markdown",
      "metadata": {
        "id": "zxMpKT5HG-ph"
      },
      "source": [
        "**1. Data preprocessing and Exploratory Data Analysis**"
      ]
    },
    {
      "cell_type": "code",
      "execution_count": null,
      "metadata": {
        "colab": {
          "base_uri": "https://localhost:8080/"
        },
        "id": "2cunZVu3HFIW",
        "outputId": "9cd415f9-168a-48e3-95cf-0e1dd04bd1de"
      },
      "outputs": [
        {
          "output_type": "execute_result",
          "data": {
            "text/plain": [
              "(1676, 35)"
            ]
          },
          "metadata": {},
          "execution_count": 115
        }
      ],
      "source": [
        "df.shape"
      ]
    },
    {
      "cell_type": "code",
      "execution_count": null,
      "metadata": {
        "colab": {
          "base_uri": "https://localhost:8080/"
        },
        "id": "HBoNmauCHHvy",
        "outputId": "5bc0bac2-0a31-443e-d719-a2cc49f92928"
      },
      "outputs": [
        {
          "output_type": "stream",
          "name": "stdout",
          "text": [
            "<class 'pandas.core.frame.DataFrame'>\n",
            "RangeIndex: 1676 entries, 0 to 1675\n",
            "Data columns (total 35 columns):\n",
            " #   Column                    Non-Null Count  Dtype  \n",
            "---  ------                    --------------  -----  \n",
            " 0   EmployeeID                1676 non-null   int64  \n",
            " 1   Age                       1676 non-null   int64  \n",
            " 2   Attrition                 1676 non-null   object \n",
            " 3   BusinessTravel            1676 non-null   object \n",
            " 4   DailyRate                 1676 non-null   int64  \n",
            " 5   Department                1676 non-null   object \n",
            " 6   DistanceFromHome          1676 non-null   int64  \n",
            " 7   Education                 1676 non-null   int64  \n",
            " 8   EducationField            1676 non-null   object \n",
            " 9   EmployeeCount             1676 non-null   int64  \n",
            " 10  EnvironmentSatisfaction   1676 non-null   int64  \n",
            " 11  Gender                    1676 non-null   object \n",
            " 12  HourlyRate                1676 non-null   int64  \n",
            " 13  JobInvolvement            1676 non-null   int64  \n",
            " 14  JobLevel                  1676 non-null   int64  \n",
            " 15  JobRole                   1676 non-null   object \n",
            " 16  JobSatisfaction           1676 non-null   int64  \n",
            " 17  MaritalStatus             1676 non-null   object \n",
            " 18  MonthlyIncome             1676 non-null   int64  \n",
            " 19  MonthlyRate               1676 non-null   int64  \n",
            " 20  NumCompaniesWorked        1676 non-null   int64  \n",
            " 21  Over18                    1676 non-null   object \n",
            " 22  OverTime                  1676 non-null   object \n",
            " 23  PercentSalaryHike         1676 non-null   int64  \n",
            " 24  PerformanceRating         1676 non-null   int64  \n",
            " 25  RelationshipSatisfaction  1676 non-null   int64  \n",
            " 26  StandardHours             1642 non-null   float64\n",
            " 27  Shift                     1667 non-null   float64\n",
            " 28  TotalWorkingYears         1676 non-null   int64  \n",
            " 29  TrainingTimesLastYear     1676 non-null   int64  \n",
            " 30  WorkLifeBalance           1676 non-null   int64  \n",
            " 31  YearsAtCompany            1676 non-null   int64  \n",
            " 32  YearsInCurrentRole        1676 non-null   int64  \n",
            " 33  YearsSinceLastPromotion   1676 non-null   int64  \n",
            " 34  YearsWithCurrManager      1676 non-null   int64  \n",
            "dtypes: float64(2), int64(24), object(9)\n",
            "memory usage: 458.4+ KB\n"
          ]
        }
      ],
      "source": [
        "df.info()"
      ]
    },
    {
      "cell_type": "code",
      "execution_count": null,
      "metadata": {
        "colab": {
          "base_uri": "https://localhost:8080/",
          "height": 350
        },
        "id": "izv2pr2RHK9C",
        "outputId": "0664fcac-a66b-4781-ec56-ce3faf6f2c5a"
      },
      "outputs": [
        {
          "output_type": "execute_result",
          "data": {
            "text/plain": [
              "         EmployeeID          Age    DailyRate  DistanceFromHome    Education  \\\n",
              "count  1.676000e+03  1676.000000  1676.000000       1676.000000  1676.000000   \n",
              "mean   1.456796e+06    36.866348   800.557876          9.221957     2.907518   \n",
              "std    2.487486e+05     9.129126   401.594438          8.158118     1.025835   \n",
              "min    1.025177e+06    18.000000   102.000000          1.000000     1.000000   \n",
              "25%    1.235832e+06    30.000000   465.000000          2.000000     2.000000   \n",
              "50%    1.464606e+06    36.000000   796.500000          7.000000     3.000000   \n",
              "75%    1.667992e+06    43.000000  1157.000000         14.000000     4.000000   \n",
              "max    1.886378e+06    60.000000  1499.000000         29.000000     5.000000   \n",
              "\n",
              "       EmployeeCount  EnvironmentSatisfaction   HourlyRate  JobInvolvement  \\\n",
              "count         1676.0              1676.000000  1676.000000     1676.000000   \n",
              "mean             1.0                 2.714797    65.470167        2.724940   \n",
              "std              0.0                 1.097534    20.207572        0.714121   \n",
              "min              1.0                 1.000000    30.000000        1.000000   \n",
              "25%              1.0                 2.000000    48.000000        2.000000   \n",
              "50%              1.0                 3.000000    65.500000        3.000000   \n",
              "75%              1.0                 4.000000    83.000000        3.000000   \n",
              "max              1.0                 4.000000   100.000000        4.000000   \n",
              "\n",
              "          JobLevel  ...  RelationshipSatisfaction  StandardHours        Shift  \\\n",
              "count  1676.000000  ...               1676.000000    1642.000000  1667.000000   \n",
              "mean      2.066826  ...                  2.718377      76.984166     0.810438   \n",
              "std       1.113423  ...                  1.078162       7.318038     0.855776   \n",
              "min       1.000000  ...                  1.000000      50.000000     0.000000   \n",
              "25%       1.000000  ...                  2.000000      80.000000     0.000000   \n",
              "50%       2.000000  ...                  3.000000      80.000000     1.000000   \n",
              "75%       3.000000  ...                  4.000000      80.000000     1.000000   \n",
              "max       5.000000  ...                  4.000000      80.000000     3.000000   \n",
              "\n",
              "       TotalWorkingYears  TrainingTimesLastYear  WorkLifeBalance  \\\n",
              "count        1676.000000            1676.000000      1676.000000   \n",
              "mean           11.338902               2.805489         2.766110   \n",
              "std             7.834996               1.288431         0.702369   \n",
              "min             0.000000               0.000000         1.000000   \n",
              "25%             6.000000               2.000000         2.000000   \n",
              "50%            10.000000               3.000000         3.000000   \n",
              "75%            15.000000               3.000000         3.000000   \n",
              "max            40.000000               6.000000         4.000000   \n",
              "\n",
              "       YearsAtCompany  YearsInCurrentRole  YearsSinceLastPromotion  \\\n",
              "count     1676.000000         1676.000000              1676.000000   \n",
              "mean         7.033413            4.264916                 2.200477   \n",
              "std          6.098991            3.627456                 3.229587   \n",
              "min          0.000000            0.000000                 0.000000   \n",
              "25%          3.000000            2.000000                 0.000000   \n",
              "50%          5.000000            3.000000                 1.000000   \n",
              "75%         10.000000            7.000000                 3.000000   \n",
              "max         40.000000           18.000000                15.000000   \n",
              "\n",
              "       YearsWithCurrManager  \n",
              "count           1676.000000  \n",
              "mean               4.135442  \n",
              "std                3.559662  \n",
              "min                0.000000  \n",
              "25%                2.000000  \n",
              "50%                3.000000  \n",
              "75%                7.000000  \n",
              "max               17.000000  \n",
              "\n",
              "[8 rows x 26 columns]"
            ],
            "text/html": [
              "\n",
              "  <div id=\"df-135ec555-dca2-488e-9566-c562ba57800c\" class=\"colab-df-container\">\n",
              "    <div>\n",
              "<style scoped>\n",
              "    .dataframe tbody tr th:only-of-type {\n",
              "        vertical-align: middle;\n",
              "    }\n",
              "\n",
              "    .dataframe tbody tr th {\n",
              "        vertical-align: top;\n",
              "    }\n",
              "\n",
              "    .dataframe thead th {\n",
              "        text-align: right;\n",
              "    }\n",
              "</style>\n",
              "<table border=\"1\" class=\"dataframe\">\n",
              "  <thead>\n",
              "    <tr style=\"text-align: right;\">\n",
              "      <th></th>\n",
              "      <th>EmployeeID</th>\n",
              "      <th>Age</th>\n",
              "      <th>DailyRate</th>\n",
              "      <th>DistanceFromHome</th>\n",
              "      <th>Education</th>\n",
              "      <th>EmployeeCount</th>\n",
              "      <th>EnvironmentSatisfaction</th>\n",
              "      <th>HourlyRate</th>\n",
              "      <th>JobInvolvement</th>\n",
              "      <th>JobLevel</th>\n",
              "      <th>...</th>\n",
              "      <th>RelationshipSatisfaction</th>\n",
              "      <th>StandardHours</th>\n",
              "      <th>Shift</th>\n",
              "      <th>TotalWorkingYears</th>\n",
              "      <th>TrainingTimesLastYear</th>\n",
              "      <th>WorkLifeBalance</th>\n",
              "      <th>YearsAtCompany</th>\n",
              "      <th>YearsInCurrentRole</th>\n",
              "      <th>YearsSinceLastPromotion</th>\n",
              "      <th>YearsWithCurrManager</th>\n",
              "    </tr>\n",
              "  </thead>\n",
              "  <tbody>\n",
              "    <tr>\n",
              "      <th>count</th>\n",
              "      <td>1.676000e+03</td>\n",
              "      <td>1676.000000</td>\n",
              "      <td>1676.000000</td>\n",
              "      <td>1676.000000</td>\n",
              "      <td>1676.000000</td>\n",
              "      <td>1676.0</td>\n",
              "      <td>1676.000000</td>\n",
              "      <td>1676.000000</td>\n",
              "      <td>1676.000000</td>\n",
              "      <td>1676.000000</td>\n",
              "      <td>...</td>\n",
              "      <td>1676.000000</td>\n",
              "      <td>1642.000000</td>\n",
              "      <td>1667.000000</td>\n",
              "      <td>1676.000000</td>\n",
              "      <td>1676.000000</td>\n",
              "      <td>1676.000000</td>\n",
              "      <td>1676.000000</td>\n",
              "      <td>1676.000000</td>\n",
              "      <td>1676.000000</td>\n",
              "      <td>1676.000000</td>\n",
              "    </tr>\n",
              "    <tr>\n",
              "      <th>mean</th>\n",
              "      <td>1.456796e+06</td>\n",
              "      <td>36.866348</td>\n",
              "      <td>800.557876</td>\n",
              "      <td>9.221957</td>\n",
              "      <td>2.907518</td>\n",
              "      <td>1.0</td>\n",
              "      <td>2.714797</td>\n",
              "      <td>65.470167</td>\n",
              "      <td>2.724940</td>\n",
              "      <td>2.066826</td>\n",
              "      <td>...</td>\n",
              "      <td>2.718377</td>\n",
              "      <td>76.984166</td>\n",
              "      <td>0.810438</td>\n",
              "      <td>11.338902</td>\n",
              "      <td>2.805489</td>\n",
              "      <td>2.766110</td>\n",
              "      <td>7.033413</td>\n",
              "      <td>4.264916</td>\n",
              "      <td>2.200477</td>\n",
              "      <td>4.135442</td>\n",
              "    </tr>\n",
              "    <tr>\n",
              "      <th>std</th>\n",
              "      <td>2.487486e+05</td>\n",
              "      <td>9.129126</td>\n",
              "      <td>401.594438</td>\n",
              "      <td>8.158118</td>\n",
              "      <td>1.025835</td>\n",
              "      <td>0.0</td>\n",
              "      <td>1.097534</td>\n",
              "      <td>20.207572</td>\n",
              "      <td>0.714121</td>\n",
              "      <td>1.113423</td>\n",
              "      <td>...</td>\n",
              "      <td>1.078162</td>\n",
              "      <td>7.318038</td>\n",
              "      <td>0.855776</td>\n",
              "      <td>7.834996</td>\n",
              "      <td>1.288431</td>\n",
              "      <td>0.702369</td>\n",
              "      <td>6.098991</td>\n",
              "      <td>3.627456</td>\n",
              "      <td>3.229587</td>\n",
              "      <td>3.559662</td>\n",
              "    </tr>\n",
              "    <tr>\n",
              "      <th>min</th>\n",
              "      <td>1.025177e+06</td>\n",
              "      <td>18.000000</td>\n",
              "      <td>102.000000</td>\n",
              "      <td>1.000000</td>\n",
              "      <td>1.000000</td>\n",
              "      <td>1.0</td>\n",
              "      <td>1.000000</td>\n",
              "      <td>30.000000</td>\n",
              "      <td>1.000000</td>\n",
              "      <td>1.000000</td>\n",
              "      <td>...</td>\n",
              "      <td>1.000000</td>\n",
              "      <td>50.000000</td>\n",
              "      <td>0.000000</td>\n",
              "      <td>0.000000</td>\n",
              "      <td>0.000000</td>\n",
              "      <td>1.000000</td>\n",
              "      <td>0.000000</td>\n",
              "      <td>0.000000</td>\n",
              "      <td>0.000000</td>\n",
              "      <td>0.000000</td>\n",
              "    </tr>\n",
              "    <tr>\n",
              "      <th>25%</th>\n",
              "      <td>1.235832e+06</td>\n",
              "      <td>30.000000</td>\n",
              "      <td>465.000000</td>\n",
              "      <td>2.000000</td>\n",
              "      <td>2.000000</td>\n",
              "      <td>1.0</td>\n",
              "      <td>2.000000</td>\n",
              "      <td>48.000000</td>\n",
              "      <td>2.000000</td>\n",
              "      <td>1.000000</td>\n",
              "      <td>...</td>\n",
              "      <td>2.000000</td>\n",
              "      <td>80.000000</td>\n",
              "      <td>0.000000</td>\n",
              "      <td>6.000000</td>\n",
              "      <td>2.000000</td>\n",
              "      <td>2.000000</td>\n",
              "      <td>3.000000</td>\n",
              "      <td>2.000000</td>\n",
              "      <td>0.000000</td>\n",
              "      <td>2.000000</td>\n",
              "    </tr>\n",
              "    <tr>\n",
              "      <th>50%</th>\n",
              "      <td>1.464606e+06</td>\n",
              "      <td>36.000000</td>\n",
              "      <td>796.500000</td>\n",
              "      <td>7.000000</td>\n",
              "      <td>3.000000</td>\n",
              "      <td>1.0</td>\n",
              "      <td>3.000000</td>\n",
              "      <td>65.500000</td>\n",
              "      <td>3.000000</td>\n",
              "      <td>2.000000</td>\n",
              "      <td>...</td>\n",
              "      <td>3.000000</td>\n",
              "      <td>80.000000</td>\n",
              "      <td>1.000000</td>\n",
              "      <td>10.000000</td>\n",
              "      <td>3.000000</td>\n",
              "      <td>3.000000</td>\n",
              "      <td>5.000000</td>\n",
              "      <td>3.000000</td>\n",
              "      <td>1.000000</td>\n",
              "      <td>3.000000</td>\n",
              "    </tr>\n",
              "    <tr>\n",
              "      <th>75%</th>\n",
              "      <td>1.667992e+06</td>\n",
              "      <td>43.000000</td>\n",
              "      <td>1157.000000</td>\n",
              "      <td>14.000000</td>\n",
              "      <td>4.000000</td>\n",
              "      <td>1.0</td>\n",
              "      <td>4.000000</td>\n",
              "      <td>83.000000</td>\n",
              "      <td>3.000000</td>\n",
              "      <td>3.000000</td>\n",
              "      <td>...</td>\n",
              "      <td>4.000000</td>\n",
              "      <td>80.000000</td>\n",
              "      <td>1.000000</td>\n",
              "      <td>15.000000</td>\n",
              "      <td>3.000000</td>\n",
              "      <td>3.000000</td>\n",
              "      <td>10.000000</td>\n",
              "      <td>7.000000</td>\n",
              "      <td>3.000000</td>\n",
              "      <td>7.000000</td>\n",
              "    </tr>\n",
              "    <tr>\n",
              "      <th>max</th>\n",
              "      <td>1.886378e+06</td>\n",
              "      <td>60.000000</td>\n",
              "      <td>1499.000000</td>\n",
              "      <td>29.000000</td>\n",
              "      <td>5.000000</td>\n",
              "      <td>1.0</td>\n",
              "      <td>4.000000</td>\n",
              "      <td>100.000000</td>\n",
              "      <td>4.000000</td>\n",
              "      <td>5.000000</td>\n",
              "      <td>...</td>\n",
              "      <td>4.000000</td>\n",
              "      <td>80.000000</td>\n",
              "      <td>3.000000</td>\n",
              "      <td>40.000000</td>\n",
              "      <td>6.000000</td>\n",
              "      <td>4.000000</td>\n",
              "      <td>40.000000</td>\n",
              "      <td>18.000000</td>\n",
              "      <td>15.000000</td>\n",
              "      <td>17.000000</td>\n",
              "    </tr>\n",
              "  </tbody>\n",
              "</table>\n",
              "<p>8 rows × 26 columns</p>\n",
              "</div>\n",
              "    <div class=\"colab-df-buttons\">\n",
              "\n",
              "  <div class=\"colab-df-container\">\n",
              "    <button class=\"colab-df-convert\" onclick=\"convertToInteractive('df-135ec555-dca2-488e-9566-c562ba57800c')\"\n",
              "            title=\"Convert this dataframe to an interactive table.\"\n",
              "            style=\"display:none;\">\n",
              "\n",
              "  <svg xmlns=\"http://www.w3.org/2000/svg\" height=\"24px\" viewBox=\"0 -960 960 960\">\n",
              "    <path d=\"M120-120v-720h720v720H120Zm60-500h600v-160H180v160Zm220 220h160v-160H400v160Zm0 220h160v-160H400v160ZM180-400h160v-160H180v160Zm440 0h160v-160H620v160ZM180-180h160v-160H180v160Zm440 0h160v-160H620v160Z\"/>\n",
              "  </svg>\n",
              "    </button>\n",
              "\n",
              "  <style>\n",
              "    .colab-df-container {\n",
              "      display:flex;\n",
              "      gap: 12px;\n",
              "    }\n",
              "\n",
              "    .colab-df-convert {\n",
              "      background-color: #E8F0FE;\n",
              "      border: none;\n",
              "      border-radius: 50%;\n",
              "      cursor: pointer;\n",
              "      display: none;\n",
              "      fill: #1967D2;\n",
              "      height: 32px;\n",
              "      padding: 0 0 0 0;\n",
              "      width: 32px;\n",
              "    }\n",
              "\n",
              "    .colab-df-convert:hover {\n",
              "      background-color: #E2EBFA;\n",
              "      box-shadow: 0px 1px 2px rgba(60, 64, 67, 0.3), 0px 1px 3px 1px rgba(60, 64, 67, 0.15);\n",
              "      fill: #174EA6;\n",
              "    }\n",
              "\n",
              "    .colab-df-buttons div {\n",
              "      margin-bottom: 4px;\n",
              "    }\n",
              "\n",
              "    [theme=dark] .colab-df-convert {\n",
              "      background-color: #3B4455;\n",
              "      fill: #D2E3FC;\n",
              "    }\n",
              "\n",
              "    [theme=dark] .colab-df-convert:hover {\n",
              "      background-color: #434B5C;\n",
              "      box-shadow: 0px 1px 3px 1px rgba(0, 0, 0, 0.15);\n",
              "      filter: drop-shadow(0px 1px 2px rgba(0, 0, 0, 0.3));\n",
              "      fill: #FFFFFF;\n",
              "    }\n",
              "  </style>\n",
              "\n",
              "    <script>\n",
              "      const buttonEl =\n",
              "        document.querySelector('#df-135ec555-dca2-488e-9566-c562ba57800c button.colab-df-convert');\n",
              "      buttonEl.style.display =\n",
              "        google.colab.kernel.accessAllowed ? 'block' : 'none';\n",
              "\n",
              "      async function convertToInteractive(key) {\n",
              "        const element = document.querySelector('#df-135ec555-dca2-488e-9566-c562ba57800c');\n",
              "        const dataTable =\n",
              "          await google.colab.kernel.invokeFunction('convertToInteractive',\n",
              "                                                    [key], {});\n",
              "        if (!dataTable) return;\n",
              "\n",
              "        const docLinkHtml = 'Like what you see? Visit the ' +\n",
              "          '<a target=\"_blank\" href=https://colab.research.google.com/notebooks/data_table.ipynb>data table notebook</a>'\n",
              "          + ' to learn more about interactive tables.';\n",
              "        element.innerHTML = '';\n",
              "        dataTable['output_type'] = 'display_data';\n",
              "        await google.colab.output.renderOutput(dataTable, element);\n",
              "        const docLink = document.createElement('div');\n",
              "        docLink.innerHTML = docLinkHtml;\n",
              "        element.appendChild(docLink);\n",
              "      }\n",
              "    </script>\n",
              "  </div>\n",
              "\n",
              "\n",
              "<div id=\"df-b8818ce1-b797-4e0b-8a28-5af6ad04aefd\">\n",
              "  <button class=\"colab-df-quickchart\" onclick=\"quickchart('df-b8818ce1-b797-4e0b-8a28-5af6ad04aefd')\"\n",
              "            title=\"Suggest charts\"\n",
              "            style=\"display:none;\">\n",
              "\n",
              "<svg xmlns=\"http://www.w3.org/2000/svg\" height=\"24px\"viewBox=\"0 0 24 24\"\n",
              "     width=\"24px\">\n",
              "    <g>\n",
              "        <path d=\"M19 3H5c-1.1 0-2 .9-2 2v14c0 1.1.9 2 2 2h14c1.1 0 2-.9 2-2V5c0-1.1-.9-2-2-2zM9 17H7v-7h2v7zm4 0h-2V7h2v10zm4 0h-2v-4h2v4z\"/>\n",
              "    </g>\n",
              "</svg>\n",
              "  </button>\n",
              "\n",
              "<style>\n",
              "  .colab-df-quickchart {\n",
              "      --bg-color: #E8F0FE;\n",
              "      --fill-color: #1967D2;\n",
              "      --hover-bg-color: #E2EBFA;\n",
              "      --hover-fill-color: #174EA6;\n",
              "      --disabled-fill-color: #AAA;\n",
              "      --disabled-bg-color: #DDD;\n",
              "  }\n",
              "\n",
              "  [theme=dark] .colab-df-quickchart {\n",
              "      --bg-color: #3B4455;\n",
              "      --fill-color: #D2E3FC;\n",
              "      --hover-bg-color: #434B5C;\n",
              "      --hover-fill-color: #FFFFFF;\n",
              "      --disabled-bg-color: #3B4455;\n",
              "      --disabled-fill-color: #666;\n",
              "  }\n",
              "\n",
              "  .colab-df-quickchart {\n",
              "    background-color: var(--bg-color);\n",
              "    border: none;\n",
              "    border-radius: 50%;\n",
              "    cursor: pointer;\n",
              "    display: none;\n",
              "    fill: var(--fill-color);\n",
              "    height: 32px;\n",
              "    padding: 0;\n",
              "    width: 32px;\n",
              "  }\n",
              "\n",
              "  .colab-df-quickchart:hover {\n",
              "    background-color: var(--hover-bg-color);\n",
              "    box-shadow: 0 1px 2px rgba(60, 64, 67, 0.3), 0 1px 3px 1px rgba(60, 64, 67, 0.15);\n",
              "    fill: var(--button-hover-fill-color);\n",
              "  }\n",
              "\n",
              "  .colab-df-quickchart-complete:disabled,\n",
              "  .colab-df-quickchart-complete:disabled:hover {\n",
              "    background-color: var(--disabled-bg-color);\n",
              "    fill: var(--disabled-fill-color);\n",
              "    box-shadow: none;\n",
              "  }\n",
              "\n",
              "  .colab-df-spinner {\n",
              "    border: 2px solid var(--fill-color);\n",
              "    border-color: transparent;\n",
              "    border-bottom-color: var(--fill-color);\n",
              "    animation:\n",
              "      spin 1s steps(1) infinite;\n",
              "  }\n",
              "\n",
              "  @keyframes spin {\n",
              "    0% {\n",
              "      border-color: transparent;\n",
              "      border-bottom-color: var(--fill-color);\n",
              "      border-left-color: var(--fill-color);\n",
              "    }\n",
              "    20% {\n",
              "      border-color: transparent;\n",
              "      border-left-color: var(--fill-color);\n",
              "      border-top-color: var(--fill-color);\n",
              "    }\n",
              "    30% {\n",
              "      border-color: transparent;\n",
              "      border-left-color: var(--fill-color);\n",
              "      border-top-color: var(--fill-color);\n",
              "      border-right-color: var(--fill-color);\n",
              "    }\n",
              "    40% {\n",
              "      border-color: transparent;\n",
              "      border-right-color: var(--fill-color);\n",
              "      border-top-color: var(--fill-color);\n",
              "    }\n",
              "    60% {\n",
              "      border-color: transparent;\n",
              "      border-right-color: var(--fill-color);\n",
              "    }\n",
              "    80% {\n",
              "      border-color: transparent;\n",
              "      border-right-color: var(--fill-color);\n",
              "      border-bottom-color: var(--fill-color);\n",
              "    }\n",
              "    90% {\n",
              "      border-color: transparent;\n",
              "      border-bottom-color: var(--fill-color);\n",
              "    }\n",
              "  }\n",
              "</style>\n",
              "\n",
              "  <script>\n",
              "    async function quickchart(key) {\n",
              "      const quickchartButtonEl =\n",
              "        document.querySelector('#' + key + ' button');\n",
              "      quickchartButtonEl.disabled = true;  // To prevent multiple clicks.\n",
              "      quickchartButtonEl.classList.add('colab-df-spinner');\n",
              "      try {\n",
              "        const charts = await google.colab.kernel.invokeFunction(\n",
              "            'suggestCharts', [key], {});\n",
              "      } catch (error) {\n",
              "        console.error('Error during call to suggestCharts:', error);\n",
              "      }\n",
              "      quickchartButtonEl.classList.remove('colab-df-spinner');\n",
              "      quickchartButtonEl.classList.add('colab-df-quickchart-complete');\n",
              "    }\n",
              "    (() => {\n",
              "      let quickchartButtonEl =\n",
              "        document.querySelector('#df-b8818ce1-b797-4e0b-8a28-5af6ad04aefd button');\n",
              "      quickchartButtonEl.style.display =\n",
              "        google.colab.kernel.accessAllowed ? 'block' : 'none';\n",
              "    })();\n",
              "  </script>\n",
              "</div>\n",
              "    </div>\n",
              "  </div>\n"
            ]
          },
          "metadata": {},
          "execution_count": 117
        }
      ],
      "source": [
        "df.describe()"
      ]
    },
    {
      "cell_type": "code",
      "execution_count": null,
      "metadata": {
        "colab": {
          "base_uri": "https://localhost:8080/"
        },
        "id": "gq1dFbbgHPHS",
        "outputId": "286da373-85a2-4c53-bc92-02c6ec217487"
      },
      "outputs": [
        {
          "output_type": "execute_result",
          "data": {
            "text/plain": [
              "EmployeeID                   0\n",
              "Age                          0\n",
              "Attrition                    0\n",
              "BusinessTravel               0\n",
              "DailyRate                    0\n",
              "Department                   0\n",
              "DistanceFromHome             0\n",
              "Education                    0\n",
              "EducationField               0\n",
              "EmployeeCount                0\n",
              "EnvironmentSatisfaction      0\n",
              "Gender                       0\n",
              "HourlyRate                   0\n",
              "JobInvolvement               0\n",
              "JobLevel                     0\n",
              "JobRole                      0\n",
              "JobSatisfaction              0\n",
              "MaritalStatus                0\n",
              "MonthlyIncome                0\n",
              "MonthlyRate                  0\n",
              "NumCompaniesWorked           0\n",
              "Over18                       0\n",
              "OverTime                     0\n",
              "PercentSalaryHike            0\n",
              "PerformanceRating            0\n",
              "RelationshipSatisfaction     0\n",
              "StandardHours               34\n",
              "Shift                        9\n",
              "TotalWorkingYears            0\n",
              "TrainingTimesLastYear        0\n",
              "WorkLifeBalance              0\n",
              "YearsAtCompany               0\n",
              "YearsInCurrentRole           0\n",
              "YearsSinceLastPromotion      0\n",
              "YearsWithCurrManager         0\n",
              "dtype: int64"
            ]
          },
          "metadata": {},
          "execution_count": 118
        }
      ],
      "source": [
        "df.isnull().sum()"
      ]
    },
    {
      "cell_type": "code",
      "execution_count": null,
      "metadata": {
        "colab": {
          "base_uri": "https://localhost:8080/"
        },
        "id": "3N2vVzeRHSh1",
        "outputId": "823bc6d1-0c89-4c04-df0d-4e6d253e00bc"
      },
      "outputs": [
        {
          "output_type": "execute_result",
          "data": {
            "text/plain": [
              "EmployeeID                  0.000000\n",
              "Age                         0.000000\n",
              "Attrition                   0.000000\n",
              "BusinessTravel              0.000000\n",
              "DailyRate                   0.000000\n",
              "Department                  0.000000\n",
              "DistanceFromHome            0.000000\n",
              "Education                   0.000000\n",
              "EducationField              0.000000\n",
              "EmployeeCount               0.000000\n",
              "EnvironmentSatisfaction     0.000000\n",
              "Gender                      0.000000\n",
              "HourlyRate                  0.000000\n",
              "JobInvolvement              0.000000\n",
              "JobLevel                    0.000000\n",
              "JobRole                     0.000000\n",
              "JobSatisfaction             0.000000\n",
              "MaritalStatus               0.000000\n",
              "MonthlyIncome               0.000000\n",
              "MonthlyRate                 0.000000\n",
              "NumCompaniesWorked          0.000000\n",
              "Over18                      0.000000\n",
              "OverTime                    0.000000\n",
              "PercentSalaryHike           0.000000\n",
              "PerformanceRating           0.000000\n",
              "RelationshipSatisfaction    0.000000\n",
              "StandardHours               0.020286\n",
              "Shift                       0.005370\n",
              "TotalWorkingYears           0.000000\n",
              "TrainingTimesLastYear       0.000000\n",
              "WorkLifeBalance             0.000000\n",
              "YearsAtCompany              0.000000\n",
              "YearsInCurrentRole          0.000000\n",
              "YearsSinceLastPromotion     0.000000\n",
              "YearsWithCurrManager        0.000000\n",
              "dtype: float64"
            ]
          },
          "metadata": {},
          "execution_count": 119
        }
      ],
      "source": [
        "df.isnull().mean()"
      ]
    },
    {
      "cell_type": "markdown",
      "metadata": {
        "id": "0vul71V2HW3w"
      },
      "source": [
        "Since the mean percentage of empty values in the StandardHours and Shift attribute is really less, we can just remove the rows with missing values."
      ]
    },
    {
      "cell_type": "code",
      "execution_count": null,
      "metadata": {
        "id": "ZXXye5SVHjaR"
      },
      "outputs": [],
      "source": [
        "df.dropna(inplace = True)"
      ]
    },
    {
      "cell_type": "code",
      "execution_count": null,
      "metadata": {
        "colab": {
          "base_uri": "https://localhost:8080/"
        },
        "id": "GFjVfLmzHtat",
        "outputId": "5cbfa595-096f-4e8d-8812-94af15c67a3d"
      },
      "outputs": [
        {
          "output_type": "execute_result",
          "data": {
            "text/plain": [
              "EmployeeID                  0\n",
              "Age                         0\n",
              "Attrition                   0\n",
              "BusinessTravel              0\n",
              "DailyRate                   0\n",
              "Department                  0\n",
              "DistanceFromHome            0\n",
              "Education                   0\n",
              "EducationField              0\n",
              "EmployeeCount               0\n",
              "EnvironmentSatisfaction     0\n",
              "Gender                      0\n",
              "HourlyRate                  0\n",
              "JobInvolvement              0\n",
              "JobLevel                    0\n",
              "JobRole                     0\n",
              "JobSatisfaction             0\n",
              "MaritalStatus               0\n",
              "MonthlyIncome               0\n",
              "MonthlyRate                 0\n",
              "NumCompaniesWorked          0\n",
              "Over18                      0\n",
              "OverTime                    0\n",
              "PercentSalaryHike           0\n",
              "PerformanceRating           0\n",
              "RelationshipSatisfaction    0\n",
              "StandardHours               0\n",
              "Shift                       0\n",
              "TotalWorkingYears           0\n",
              "TrainingTimesLastYear       0\n",
              "WorkLifeBalance             0\n",
              "YearsAtCompany              0\n",
              "YearsInCurrentRole          0\n",
              "YearsSinceLastPromotion     0\n",
              "YearsWithCurrManager        0\n",
              "dtype: int64"
            ]
          },
          "metadata": {},
          "execution_count": 121
        }
      ],
      "source": [
        "df.isnull().sum()"
      ]
    },
    {
      "cell_type": "code",
      "source": [
        "df.shape"
      ],
      "metadata": {
        "colab": {
          "base_uri": "https://localhost:8080/"
        },
        "id": "PNWRMyIRdAX6",
        "outputId": "c38d16fe-2a50-408f-a25c-5b4af2afd168"
      },
      "execution_count": null,
      "outputs": [
        {
          "output_type": "execute_result",
          "data": {
            "text/plain": [
              "(1633, 35)"
            ]
          },
          "metadata": {},
          "execution_count": 180
        }
      ]
    },
    {
      "cell_type": "code",
      "source": [
        "df.corr()"
      ],
      "metadata": {
        "colab": {
          "base_uri": "https://localhost:8080/",
          "height": 951
        },
        "id": "7YrK3-i9dCS5",
        "outputId": "05069bad-4107-475a-ae5c-6155b7b69c5a"
      },
      "execution_count": null,
      "outputs": [
        {
          "output_type": "stream",
          "name": "stderr",
          "text": [
            "<ipython-input-181-2f6f6606aa2c>:1: FutureWarning: The default value of numeric_only in DataFrame.corr is deprecated. In a future version, it will default to False. Select only valid columns or specify the value of numeric_only to silence this warning.\n",
            "  df.corr()\n"
          ]
        },
        {
          "output_type": "execute_result",
          "data": {
            "text/plain": [
              "                          EmployeeID       Age  DailyRate  DistanceFromHome  \\\n",
              "EmployeeID                  1.000000 -0.037915   0.000350         -0.031834   \n",
              "Age                        -0.037915  1.000000   0.000754         -0.013603   \n",
              "DailyRate                   0.000350  0.000754   1.000000         -0.012149   \n",
              "DistanceFromHome           -0.031834 -0.013603  -0.012149          1.000000   \n",
              "Education                  -0.001152  0.205757  -0.017401          0.008821   \n",
              "EmployeeCount                    NaN       NaN        NaN               NaN   \n",
              "EnvironmentSatisfaction    -0.004795  0.016159   0.012971         -0.019870   \n",
              "HourlyRate                 -0.005710  0.035326   0.030615          0.034906   \n",
              "JobInvolvement             -0.059389  0.034301   0.055045          0.006568   \n",
              "JobLevel                   -0.033834  0.516227   0.006253         -0.023537   \n",
              "JobSatisfaction            -0.003485 -0.020184   0.025887         -0.000623   \n",
              "MonthlyIncome              -0.031097  0.511004   0.008980         -0.039853   \n",
              "MonthlyRate                -0.010324  0.022057  -0.031656          0.036115   \n",
              "NumCompaniesWorked         -0.000962  0.295672   0.041754         -0.023793   \n",
              "PercentSalaryHike           0.005037  0.010559   0.020259          0.036109   \n",
              "PerformanceRating          -0.006117  0.006666   0.007763          0.021855   \n",
              "RelationshipSatisfaction   -0.000816  0.057355   0.011031          0.001089   \n",
              "StandardHours               0.011096 -0.018841  -0.001732         -0.000386   \n",
              "Shift                      -0.003473  0.033528   0.057099          0.033365   \n",
              "TotalWorkingYears          -0.035583  0.691293   0.007423         -0.017111   \n",
              "TrainingTimesLastYear       0.017485 -0.014438   0.008567         -0.054814   \n",
              "WorkLifeBalance             0.026776 -0.006952  -0.024813         -0.029006   \n",
              "YearsAtCompany             -0.024843  0.317547  -0.030978         -0.006775   \n",
              "YearsInCurrentRole         -0.022712  0.219723   0.015081          0.011099   \n",
              "YearsSinceLastPromotion     0.024196  0.215989  -0.041474         -0.001749   \n",
              "YearsWithCurrManager       -0.015469  0.214630  -0.030061          0.001091   \n",
              "\n",
              "                          Education  EmployeeCount  EnvironmentSatisfaction  \\\n",
              "EmployeeID                -0.001152            NaN                -0.004795   \n",
              "Age                        0.205757            NaN                 0.016159   \n",
              "DailyRate                 -0.017401            NaN                 0.012971   \n",
              "DistanceFromHome           0.008821            NaN                -0.019870   \n",
              "Education                  1.000000            NaN                -0.025842   \n",
              "EmployeeCount                   NaN            NaN                      NaN   \n",
              "EnvironmentSatisfaction   -0.025842            NaN                 1.000000   \n",
              "HourlyRate                 0.017560            NaN                -0.053146   \n",
              "JobInvolvement             0.044201            NaN                -0.011848   \n",
              "JobLevel                   0.095605            NaN                 0.012139   \n",
              "JobSatisfaction           -0.004337            NaN                 0.006408   \n",
              "MonthlyIncome              0.086718            NaN                 0.006855   \n",
              "MonthlyRate               -0.023673            NaN                 0.050626   \n",
              "NumCompaniesWorked         0.129899            NaN                 0.014880   \n",
              "PercentSalaryHike         -0.008935            NaN                -0.017684   \n",
              "PerformanceRating         -0.028704            NaN                -0.023705   \n",
              "RelationshipSatisfaction  -0.009187            NaN                 0.005629   \n",
              "StandardHours             -0.006843            NaN                -0.016969   \n",
              "Shift                      0.026212            NaN                 0.003191   \n",
              "TotalWorkingYears          0.145761            NaN                 0.006203   \n",
              "TrainingTimesLastYear     -0.011426            NaN                -0.024186   \n",
              "WorkLifeBalance            0.010491            NaN                 0.032427   \n",
              "YearsAtCompany             0.057386            NaN                -0.000097   \n",
              "YearsInCurrentRole         0.048486            NaN                 0.011651   \n",
              "YearsSinceLastPromotion    0.050410            NaN                 0.010533   \n",
              "YearsWithCurrManager       0.053765            NaN                -0.010863   \n",
              "\n",
              "                          HourlyRate  JobInvolvement  JobLevel  ...  \\\n",
              "EmployeeID                 -0.005710       -0.059389 -0.033834  ...   \n",
              "Age                         0.035326        0.034301  0.516227  ...   \n",
              "DailyRate                   0.030615        0.055045  0.006253  ...   \n",
              "DistanceFromHome            0.034906        0.006568 -0.023537  ...   \n",
              "Education                   0.017560        0.044201  0.095605  ...   \n",
              "EmployeeCount                    NaN             NaN       NaN  ...   \n",
              "EnvironmentSatisfaction    -0.053146       -0.011848  0.012139  ...   \n",
              "HourlyRate                  1.000000        0.035751 -0.015326  ...   \n",
              "JobInvolvement              0.035751        1.000000 -0.013576  ...   \n",
              "JobLevel                   -0.015326       -0.013576  1.000000  ...   \n",
              "JobSatisfaction            -0.075021       -0.042757 -0.014063  ...   \n",
              "MonthlyIncome              -0.004751       -0.018714  0.951967  ...   \n",
              "MonthlyRate                -0.032001       -0.013919  0.036283  ...   \n",
              "NumCompaniesWorked          0.032095        0.022303  0.155477  ...   \n",
              "PercentSalaryHike          -0.018038       -0.022839 -0.019716  ...   \n",
              "PerformanceRating          -0.012140       -0.016660 -0.002964  ...   \n",
              "RelationshipSatisfaction    0.011045        0.042691  0.029224  ...   \n",
              "StandardHours              -0.044290        0.017726  0.028666  ...   \n",
              "Shift                       0.051938        0.025354  0.007311  ...   \n",
              "TotalWorkingYears           0.004537       -0.003747  0.780661  ...   \n",
              "TrainingTimesLastYear      -0.015816       -0.029623  0.001538  ...   \n",
              "WorkLifeBalance            -0.014512       -0.000275  0.043638  ...   \n",
              "YearsAtCompany             -0.016652       -0.017085  0.529105  ...   \n",
              "YearsInCurrentRole         -0.018595        0.020010  0.381994  ...   \n",
              "YearsSinceLastPromotion    -0.031922       -0.026713  0.337305  ...   \n",
              "YearsWithCurrManager       -0.022353        0.031336  0.375033  ...   \n",
              "\n",
              "                          RelationshipSatisfaction  StandardHours     Shift  \\\n",
              "EmployeeID                               -0.000816       0.011096 -0.003473   \n",
              "Age                                       0.057355      -0.018841  0.033528   \n",
              "DailyRate                                 0.011031      -0.001732  0.057099   \n",
              "DistanceFromHome                          0.001089      -0.000386  0.033365   \n",
              "Education                                -0.009187      -0.006843  0.026212   \n",
              "EmployeeCount                                  NaN            NaN       NaN   \n",
              "EnvironmentSatisfaction                   0.005629      -0.016969  0.003191   \n",
              "HourlyRate                                0.011045      -0.044290  0.051938   \n",
              "JobInvolvement                            0.042691       0.017726  0.025354   \n",
              "JobLevel                                  0.029224       0.028666  0.007311   \n",
              "JobSatisfaction                          -0.023997       0.019467  0.022509   \n",
              "MonthlyIncome                             0.034240       0.033660  0.002060   \n",
              "MonthlyRate                              -0.010917       0.005356 -0.038093   \n",
              "NumCompaniesWorked                        0.064720       0.014848  0.020962   \n",
              "PercentSalaryHike                        -0.039664       0.027213  0.024951   \n",
              "PerformanceRating                        -0.031995       0.007282  0.015820   \n",
              "RelationshipSatisfaction                  1.000000       0.023706 -0.037294   \n",
              "StandardHours                             0.023706       1.000000 -0.040888   \n",
              "Shift                                    -0.037294      -0.040888  1.000000   \n",
              "TotalWorkingYears                         0.029807       0.048739  0.004883   \n",
              "TrainingTimesLastYear                     0.009629      -0.000643  0.022815   \n",
              "WorkLifeBalance                           0.022304       0.012468 -0.002745   \n",
              "YearsAtCompany                            0.022346       0.038177  0.006881   \n",
              "YearsInCurrentRole                       -0.015499       0.029479  0.034569   \n",
              "YearsSinceLastPromotion                   0.042083       0.023285  0.006714   \n",
              "YearsWithCurrManager                      0.002680       0.048202  0.011886   \n",
              "\n",
              "                          TotalWorkingYears  TrainingTimesLastYear  \\\n",
              "EmployeeID                        -0.035583               0.017485   \n",
              "Age                                0.691293              -0.014438   \n",
              "DailyRate                          0.007423               0.008567   \n",
              "DistanceFromHome                  -0.017111              -0.054814   \n",
              "Education                          0.145761              -0.011426   \n",
              "EmployeeCount                           NaN                    NaN   \n",
              "EnvironmentSatisfaction            0.006203              -0.024186   \n",
              "HourlyRate                         0.004537              -0.015816   \n",
              "JobInvolvement                    -0.003747              -0.029623   \n",
              "JobLevel                           0.780661               0.001538   \n",
              "JobSatisfaction                   -0.024019               0.000855   \n",
              "MonthlyIncome                      0.774547              -0.004193   \n",
              "MonthlyRate                        0.021812              -0.004212   \n",
              "NumCompaniesWorked                 0.250870              -0.059811   \n",
              "PercentSalaryHike                 -0.009380              -0.025601   \n",
              "PerformanceRating                  0.015868              -0.037493   \n",
              "RelationshipSatisfaction           0.029807               0.009629   \n",
              "StandardHours                      0.048739              -0.000643   \n",
              "Shift                              0.004883               0.022815   \n",
              "TotalWorkingYears                  1.000000              -0.021975   \n",
              "TrainingTimesLastYear             -0.021975               1.000000   \n",
              "WorkLifeBalance                    0.008528               0.031561   \n",
              "YearsAtCompany                     0.622186               0.008157   \n",
              "YearsInCurrentRole                 0.455817              -0.001001   \n",
              "YearsSinceLastPromotion            0.391600              -0.000920   \n",
              "YearsWithCurrManager               0.460821              -0.001511   \n",
              "\n",
              "                          WorkLifeBalance  YearsAtCompany  YearsInCurrentRole  \\\n",
              "EmployeeID                       0.026776       -0.024843           -0.022712   \n",
              "Age                             -0.006952        0.317547            0.219723   \n",
              "DailyRate                       -0.024813       -0.030978            0.015081   \n",
              "DistanceFromHome                -0.029006       -0.006775            0.011099   \n",
              "Education                        0.010491        0.057386            0.048486   \n",
              "EmployeeCount                         NaN             NaN                 NaN   \n",
              "EnvironmentSatisfaction          0.032427       -0.000097            0.011651   \n",
              "HourlyRate                      -0.014512       -0.016652           -0.018595   \n",
              "JobInvolvement                  -0.000275       -0.017085            0.020010   \n",
              "JobLevel                         0.043638        0.529105            0.381994   \n",
              "JobSatisfaction                 -0.019504        0.007822            0.001999   \n",
              "MonthlyIncome                    0.036193        0.510967            0.359938   \n",
              "MonthlyRate                     -0.000921       -0.031317           -0.020860   \n",
              "NumCompaniesWorked              -0.010759       -0.105493           -0.076049   \n",
              "PercentSalaryHike               -0.008556       -0.025871            0.006928   \n",
              "PerformanceRating               -0.002331        0.011111            0.044083   \n",
              "RelationshipSatisfaction         0.022304        0.022346           -0.015499   \n",
              "StandardHours                    0.012468        0.038177            0.029479   \n",
              "Shift                           -0.002745        0.006881            0.034569   \n",
              "TotalWorkingYears                0.008528        0.622186            0.455817   \n",
              "TrainingTimesLastYear            0.031561        0.008157           -0.001001   \n",
              "WorkLifeBalance                  1.000000        0.011140            0.048043   \n",
              "YearsAtCompany                   0.011140        1.000000            0.754848   \n",
              "YearsInCurrentRole               0.048043        0.754848            1.000000   \n",
              "YearsSinceLastPromotion          0.010455        0.611265            0.541024   \n",
              "YearsWithCurrManager             0.003590        0.770342            0.718843   \n",
              "\n",
              "                          YearsSinceLastPromotion  YearsWithCurrManager  \n",
              "EmployeeID                               0.024196             -0.015469  \n",
              "Age                                      0.215989              0.214630  \n",
              "DailyRate                               -0.041474             -0.030061  \n",
              "DistanceFromHome                        -0.001749              0.001091  \n",
              "Education                                0.050410              0.053765  \n",
              "EmployeeCount                                 NaN                   NaN  \n",
              "EnvironmentSatisfaction                  0.010533             -0.010863  \n",
              "HourlyRate                              -0.031922             -0.022353  \n",
              "JobInvolvement                          -0.026713              0.031336  \n",
              "JobLevel                                 0.337305              0.375033  \n",
              "JobSatisfaction                         -0.011856             -0.020152  \n",
              "MonthlyIncome                            0.332781              0.345797  \n",
              "MonthlyRate                             -0.008556             -0.053524  \n",
              "NumCompaniesWorked                      -0.017861             -0.091461  \n",
              "PercentSalaryHike                       -0.002229             -0.006101  \n",
              "PerformanceRating                        0.035738              0.029172  \n",
              "RelationshipSatisfaction                 0.042083              0.002680  \n",
              "StandardHours                            0.023285              0.048202  \n",
              "Shift                                    0.006714              0.011886  \n",
              "TotalWorkingYears                        0.391600              0.460821  \n",
              "TrainingTimesLastYear                   -0.000920             -0.001511  \n",
              "WorkLifeBalance                          0.010455              0.003590  \n",
              "YearsAtCompany                           0.611265              0.770342  \n",
              "YearsInCurrentRole                       0.541024              0.718843  \n",
              "YearsSinceLastPromotion                  1.000000              0.517817  \n",
              "YearsWithCurrManager                     0.517817              1.000000  \n",
              "\n",
              "[26 rows x 26 columns]"
            ],
            "text/html": [
              "\n",
              "  <div id=\"df-575c02f8-7430-4873-a51f-75dd1a5f9424\" class=\"colab-df-container\">\n",
              "    <div>\n",
              "<style scoped>\n",
              "    .dataframe tbody tr th:only-of-type {\n",
              "        vertical-align: middle;\n",
              "    }\n",
              "\n",
              "    .dataframe tbody tr th {\n",
              "        vertical-align: top;\n",
              "    }\n",
              "\n",
              "    .dataframe thead th {\n",
              "        text-align: right;\n",
              "    }\n",
              "</style>\n",
              "<table border=\"1\" class=\"dataframe\">\n",
              "  <thead>\n",
              "    <tr style=\"text-align: right;\">\n",
              "      <th></th>\n",
              "      <th>EmployeeID</th>\n",
              "      <th>Age</th>\n",
              "      <th>DailyRate</th>\n",
              "      <th>DistanceFromHome</th>\n",
              "      <th>Education</th>\n",
              "      <th>EmployeeCount</th>\n",
              "      <th>EnvironmentSatisfaction</th>\n",
              "      <th>HourlyRate</th>\n",
              "      <th>JobInvolvement</th>\n",
              "      <th>JobLevel</th>\n",
              "      <th>...</th>\n",
              "      <th>RelationshipSatisfaction</th>\n",
              "      <th>StandardHours</th>\n",
              "      <th>Shift</th>\n",
              "      <th>TotalWorkingYears</th>\n",
              "      <th>TrainingTimesLastYear</th>\n",
              "      <th>WorkLifeBalance</th>\n",
              "      <th>YearsAtCompany</th>\n",
              "      <th>YearsInCurrentRole</th>\n",
              "      <th>YearsSinceLastPromotion</th>\n",
              "      <th>YearsWithCurrManager</th>\n",
              "    </tr>\n",
              "  </thead>\n",
              "  <tbody>\n",
              "    <tr>\n",
              "      <th>EmployeeID</th>\n",
              "      <td>1.000000</td>\n",
              "      <td>-0.037915</td>\n",
              "      <td>0.000350</td>\n",
              "      <td>-0.031834</td>\n",
              "      <td>-0.001152</td>\n",
              "      <td>NaN</td>\n",
              "      <td>-0.004795</td>\n",
              "      <td>-0.005710</td>\n",
              "      <td>-0.059389</td>\n",
              "      <td>-0.033834</td>\n",
              "      <td>...</td>\n",
              "      <td>-0.000816</td>\n",
              "      <td>0.011096</td>\n",
              "      <td>-0.003473</td>\n",
              "      <td>-0.035583</td>\n",
              "      <td>0.017485</td>\n",
              "      <td>0.026776</td>\n",
              "      <td>-0.024843</td>\n",
              "      <td>-0.022712</td>\n",
              "      <td>0.024196</td>\n",
              "      <td>-0.015469</td>\n",
              "    </tr>\n",
              "    <tr>\n",
              "      <th>Age</th>\n",
              "      <td>-0.037915</td>\n",
              "      <td>1.000000</td>\n",
              "      <td>0.000754</td>\n",
              "      <td>-0.013603</td>\n",
              "      <td>0.205757</td>\n",
              "      <td>NaN</td>\n",
              "      <td>0.016159</td>\n",
              "      <td>0.035326</td>\n",
              "      <td>0.034301</td>\n",
              "      <td>0.516227</td>\n",
              "      <td>...</td>\n",
              "      <td>0.057355</td>\n",
              "      <td>-0.018841</td>\n",
              "      <td>0.033528</td>\n",
              "      <td>0.691293</td>\n",
              "      <td>-0.014438</td>\n",
              "      <td>-0.006952</td>\n",
              "      <td>0.317547</td>\n",
              "      <td>0.219723</td>\n",
              "      <td>0.215989</td>\n",
              "      <td>0.214630</td>\n",
              "    </tr>\n",
              "    <tr>\n",
              "      <th>DailyRate</th>\n",
              "      <td>0.000350</td>\n",
              "      <td>0.000754</td>\n",
              "      <td>1.000000</td>\n",
              "      <td>-0.012149</td>\n",
              "      <td>-0.017401</td>\n",
              "      <td>NaN</td>\n",
              "      <td>0.012971</td>\n",
              "      <td>0.030615</td>\n",
              "      <td>0.055045</td>\n",
              "      <td>0.006253</td>\n",
              "      <td>...</td>\n",
              "      <td>0.011031</td>\n",
              "      <td>-0.001732</td>\n",
              "      <td>0.057099</td>\n",
              "      <td>0.007423</td>\n",
              "      <td>0.008567</td>\n",
              "      <td>-0.024813</td>\n",
              "      <td>-0.030978</td>\n",
              "      <td>0.015081</td>\n",
              "      <td>-0.041474</td>\n",
              "      <td>-0.030061</td>\n",
              "    </tr>\n",
              "    <tr>\n",
              "      <th>DistanceFromHome</th>\n",
              "      <td>-0.031834</td>\n",
              "      <td>-0.013603</td>\n",
              "      <td>-0.012149</td>\n",
              "      <td>1.000000</td>\n",
              "      <td>0.008821</td>\n",
              "      <td>NaN</td>\n",
              "      <td>-0.019870</td>\n",
              "      <td>0.034906</td>\n",
              "      <td>0.006568</td>\n",
              "      <td>-0.023537</td>\n",
              "      <td>...</td>\n",
              "      <td>0.001089</td>\n",
              "      <td>-0.000386</td>\n",
              "      <td>0.033365</td>\n",
              "      <td>-0.017111</td>\n",
              "      <td>-0.054814</td>\n",
              "      <td>-0.029006</td>\n",
              "      <td>-0.006775</td>\n",
              "      <td>0.011099</td>\n",
              "      <td>-0.001749</td>\n",
              "      <td>0.001091</td>\n",
              "    </tr>\n",
              "    <tr>\n",
              "      <th>Education</th>\n",
              "      <td>-0.001152</td>\n",
              "      <td>0.205757</td>\n",
              "      <td>-0.017401</td>\n",
              "      <td>0.008821</td>\n",
              "      <td>1.000000</td>\n",
              "      <td>NaN</td>\n",
              "      <td>-0.025842</td>\n",
              "      <td>0.017560</td>\n",
              "      <td>0.044201</td>\n",
              "      <td>0.095605</td>\n",
              "      <td>...</td>\n",
              "      <td>-0.009187</td>\n",
              "      <td>-0.006843</td>\n",
              "      <td>0.026212</td>\n",
              "      <td>0.145761</td>\n",
              "      <td>-0.011426</td>\n",
              "      <td>0.010491</td>\n",
              "      <td>0.057386</td>\n",
              "      <td>0.048486</td>\n",
              "      <td>0.050410</td>\n",
              "      <td>0.053765</td>\n",
              "    </tr>\n",
              "    <tr>\n",
              "      <th>EmployeeCount</th>\n",
              "      <td>NaN</td>\n",
              "      <td>NaN</td>\n",
              "      <td>NaN</td>\n",
              "      <td>NaN</td>\n",
              "      <td>NaN</td>\n",
              "      <td>NaN</td>\n",
              "      <td>NaN</td>\n",
              "      <td>NaN</td>\n",
              "      <td>NaN</td>\n",
              "      <td>NaN</td>\n",
              "      <td>...</td>\n",
              "      <td>NaN</td>\n",
              "      <td>NaN</td>\n",
              "      <td>NaN</td>\n",
              "      <td>NaN</td>\n",
              "      <td>NaN</td>\n",
              "      <td>NaN</td>\n",
              "      <td>NaN</td>\n",
              "      <td>NaN</td>\n",
              "      <td>NaN</td>\n",
              "      <td>NaN</td>\n",
              "    </tr>\n",
              "    <tr>\n",
              "      <th>EnvironmentSatisfaction</th>\n",
              "      <td>-0.004795</td>\n",
              "      <td>0.016159</td>\n",
              "      <td>0.012971</td>\n",
              "      <td>-0.019870</td>\n",
              "      <td>-0.025842</td>\n",
              "      <td>NaN</td>\n",
              "      <td>1.000000</td>\n",
              "      <td>-0.053146</td>\n",
              "      <td>-0.011848</td>\n",
              "      <td>0.012139</td>\n",
              "      <td>...</td>\n",
              "      <td>0.005629</td>\n",
              "      <td>-0.016969</td>\n",
              "      <td>0.003191</td>\n",
              "      <td>0.006203</td>\n",
              "      <td>-0.024186</td>\n",
              "      <td>0.032427</td>\n",
              "      <td>-0.000097</td>\n",
              "      <td>0.011651</td>\n",
              "      <td>0.010533</td>\n",
              "      <td>-0.010863</td>\n",
              "    </tr>\n",
              "    <tr>\n",
              "      <th>HourlyRate</th>\n",
              "      <td>-0.005710</td>\n",
              "      <td>0.035326</td>\n",
              "      <td>0.030615</td>\n",
              "      <td>0.034906</td>\n",
              "      <td>0.017560</td>\n",
              "      <td>NaN</td>\n",
              "      <td>-0.053146</td>\n",
              "      <td>1.000000</td>\n",
              "      <td>0.035751</td>\n",
              "      <td>-0.015326</td>\n",
              "      <td>...</td>\n",
              "      <td>0.011045</td>\n",
              "      <td>-0.044290</td>\n",
              "      <td>0.051938</td>\n",
              "      <td>0.004537</td>\n",
              "      <td>-0.015816</td>\n",
              "      <td>-0.014512</td>\n",
              "      <td>-0.016652</td>\n",
              "      <td>-0.018595</td>\n",
              "      <td>-0.031922</td>\n",
              "      <td>-0.022353</td>\n",
              "    </tr>\n",
              "    <tr>\n",
              "      <th>JobInvolvement</th>\n",
              "      <td>-0.059389</td>\n",
              "      <td>0.034301</td>\n",
              "      <td>0.055045</td>\n",
              "      <td>0.006568</td>\n",
              "      <td>0.044201</td>\n",
              "      <td>NaN</td>\n",
              "      <td>-0.011848</td>\n",
              "      <td>0.035751</td>\n",
              "      <td>1.000000</td>\n",
              "      <td>-0.013576</td>\n",
              "      <td>...</td>\n",
              "      <td>0.042691</td>\n",
              "      <td>0.017726</td>\n",
              "      <td>0.025354</td>\n",
              "      <td>-0.003747</td>\n",
              "      <td>-0.029623</td>\n",
              "      <td>-0.000275</td>\n",
              "      <td>-0.017085</td>\n",
              "      <td>0.020010</td>\n",
              "      <td>-0.026713</td>\n",
              "      <td>0.031336</td>\n",
              "    </tr>\n",
              "    <tr>\n",
              "      <th>JobLevel</th>\n",
              "      <td>-0.033834</td>\n",
              "      <td>0.516227</td>\n",
              "      <td>0.006253</td>\n",
              "      <td>-0.023537</td>\n",
              "      <td>0.095605</td>\n",
              "      <td>NaN</td>\n",
              "      <td>0.012139</td>\n",
              "      <td>-0.015326</td>\n",
              "      <td>-0.013576</td>\n",
              "      <td>1.000000</td>\n",
              "      <td>...</td>\n",
              "      <td>0.029224</td>\n",
              "      <td>0.028666</td>\n",
              "      <td>0.007311</td>\n",
              "      <td>0.780661</td>\n",
              "      <td>0.001538</td>\n",
              "      <td>0.043638</td>\n",
              "      <td>0.529105</td>\n",
              "      <td>0.381994</td>\n",
              "      <td>0.337305</td>\n",
              "      <td>0.375033</td>\n",
              "    </tr>\n",
              "    <tr>\n",
              "      <th>JobSatisfaction</th>\n",
              "      <td>-0.003485</td>\n",
              "      <td>-0.020184</td>\n",
              "      <td>0.025887</td>\n",
              "      <td>-0.000623</td>\n",
              "      <td>-0.004337</td>\n",
              "      <td>NaN</td>\n",
              "      <td>0.006408</td>\n",
              "      <td>-0.075021</td>\n",
              "      <td>-0.042757</td>\n",
              "      <td>-0.014063</td>\n",
              "      <td>...</td>\n",
              "      <td>-0.023997</td>\n",
              "      <td>0.019467</td>\n",
              "      <td>0.022509</td>\n",
              "      <td>-0.024019</td>\n",
              "      <td>0.000855</td>\n",
              "      <td>-0.019504</td>\n",
              "      <td>0.007822</td>\n",
              "      <td>0.001999</td>\n",
              "      <td>-0.011856</td>\n",
              "      <td>-0.020152</td>\n",
              "    </tr>\n",
              "    <tr>\n",
              "      <th>MonthlyIncome</th>\n",
              "      <td>-0.031097</td>\n",
              "      <td>0.511004</td>\n",
              "      <td>0.008980</td>\n",
              "      <td>-0.039853</td>\n",
              "      <td>0.086718</td>\n",
              "      <td>NaN</td>\n",
              "      <td>0.006855</td>\n",
              "      <td>-0.004751</td>\n",
              "      <td>-0.018714</td>\n",
              "      <td>0.951967</td>\n",
              "      <td>...</td>\n",
              "      <td>0.034240</td>\n",
              "      <td>0.033660</td>\n",
              "      <td>0.002060</td>\n",
              "      <td>0.774547</td>\n",
              "      <td>-0.004193</td>\n",
              "      <td>0.036193</td>\n",
              "      <td>0.510967</td>\n",
              "      <td>0.359938</td>\n",
              "      <td>0.332781</td>\n",
              "      <td>0.345797</td>\n",
              "    </tr>\n",
              "    <tr>\n",
              "      <th>MonthlyRate</th>\n",
              "      <td>-0.010324</td>\n",
              "      <td>0.022057</td>\n",
              "      <td>-0.031656</td>\n",
              "      <td>0.036115</td>\n",
              "      <td>-0.023673</td>\n",
              "      <td>NaN</td>\n",
              "      <td>0.050626</td>\n",
              "      <td>-0.032001</td>\n",
              "      <td>-0.013919</td>\n",
              "      <td>0.036283</td>\n",
              "      <td>...</td>\n",
              "      <td>-0.010917</td>\n",
              "      <td>0.005356</td>\n",
              "      <td>-0.038093</td>\n",
              "      <td>0.021812</td>\n",
              "      <td>-0.004212</td>\n",
              "      <td>-0.000921</td>\n",
              "      <td>-0.031317</td>\n",
              "      <td>-0.020860</td>\n",
              "      <td>-0.008556</td>\n",
              "      <td>-0.053524</td>\n",
              "    </tr>\n",
              "    <tr>\n",
              "      <th>NumCompaniesWorked</th>\n",
              "      <td>-0.000962</td>\n",
              "      <td>0.295672</td>\n",
              "      <td>0.041754</td>\n",
              "      <td>-0.023793</td>\n",
              "      <td>0.129899</td>\n",
              "      <td>NaN</td>\n",
              "      <td>0.014880</td>\n",
              "      <td>0.032095</td>\n",
              "      <td>0.022303</td>\n",
              "      <td>0.155477</td>\n",
              "      <td>...</td>\n",
              "      <td>0.064720</td>\n",
              "      <td>0.014848</td>\n",
              "      <td>0.020962</td>\n",
              "      <td>0.250870</td>\n",
              "      <td>-0.059811</td>\n",
              "      <td>-0.010759</td>\n",
              "      <td>-0.105493</td>\n",
              "      <td>-0.076049</td>\n",
              "      <td>-0.017861</td>\n",
              "      <td>-0.091461</td>\n",
              "    </tr>\n",
              "    <tr>\n",
              "      <th>PercentSalaryHike</th>\n",
              "      <td>0.005037</td>\n",
              "      <td>0.010559</td>\n",
              "      <td>0.020259</td>\n",
              "      <td>0.036109</td>\n",
              "      <td>-0.008935</td>\n",
              "      <td>NaN</td>\n",
              "      <td>-0.017684</td>\n",
              "      <td>-0.018038</td>\n",
              "      <td>-0.022839</td>\n",
              "      <td>-0.019716</td>\n",
              "      <td>...</td>\n",
              "      <td>-0.039664</td>\n",
              "      <td>0.027213</td>\n",
              "      <td>0.024951</td>\n",
              "      <td>-0.009380</td>\n",
              "      <td>-0.025601</td>\n",
              "      <td>-0.008556</td>\n",
              "      <td>-0.025871</td>\n",
              "      <td>0.006928</td>\n",
              "      <td>-0.002229</td>\n",
              "      <td>-0.006101</td>\n",
              "    </tr>\n",
              "    <tr>\n",
              "      <th>PerformanceRating</th>\n",
              "      <td>-0.006117</td>\n",
              "      <td>0.006666</td>\n",
              "      <td>0.007763</td>\n",
              "      <td>0.021855</td>\n",
              "      <td>-0.028704</td>\n",
              "      <td>NaN</td>\n",
              "      <td>-0.023705</td>\n",
              "      <td>-0.012140</td>\n",
              "      <td>-0.016660</td>\n",
              "      <td>-0.002964</td>\n",
              "      <td>...</td>\n",
              "      <td>-0.031995</td>\n",
              "      <td>0.007282</td>\n",
              "      <td>0.015820</td>\n",
              "      <td>0.015868</td>\n",
              "      <td>-0.037493</td>\n",
              "      <td>-0.002331</td>\n",
              "      <td>0.011111</td>\n",
              "      <td>0.044083</td>\n",
              "      <td>0.035738</td>\n",
              "      <td>0.029172</td>\n",
              "    </tr>\n",
              "    <tr>\n",
              "      <th>RelationshipSatisfaction</th>\n",
              "      <td>-0.000816</td>\n",
              "      <td>0.057355</td>\n",
              "      <td>0.011031</td>\n",
              "      <td>0.001089</td>\n",
              "      <td>-0.009187</td>\n",
              "      <td>NaN</td>\n",
              "      <td>0.005629</td>\n",
              "      <td>0.011045</td>\n",
              "      <td>0.042691</td>\n",
              "      <td>0.029224</td>\n",
              "      <td>...</td>\n",
              "      <td>1.000000</td>\n",
              "      <td>0.023706</td>\n",
              "      <td>-0.037294</td>\n",
              "      <td>0.029807</td>\n",
              "      <td>0.009629</td>\n",
              "      <td>0.022304</td>\n",
              "      <td>0.022346</td>\n",
              "      <td>-0.015499</td>\n",
              "      <td>0.042083</td>\n",
              "      <td>0.002680</td>\n",
              "    </tr>\n",
              "    <tr>\n",
              "      <th>StandardHours</th>\n",
              "      <td>0.011096</td>\n",
              "      <td>-0.018841</td>\n",
              "      <td>-0.001732</td>\n",
              "      <td>-0.000386</td>\n",
              "      <td>-0.006843</td>\n",
              "      <td>NaN</td>\n",
              "      <td>-0.016969</td>\n",
              "      <td>-0.044290</td>\n",
              "      <td>0.017726</td>\n",
              "      <td>0.028666</td>\n",
              "      <td>...</td>\n",
              "      <td>0.023706</td>\n",
              "      <td>1.000000</td>\n",
              "      <td>-0.040888</td>\n",
              "      <td>0.048739</td>\n",
              "      <td>-0.000643</td>\n",
              "      <td>0.012468</td>\n",
              "      <td>0.038177</td>\n",
              "      <td>0.029479</td>\n",
              "      <td>0.023285</td>\n",
              "      <td>0.048202</td>\n",
              "    </tr>\n",
              "    <tr>\n",
              "      <th>Shift</th>\n",
              "      <td>-0.003473</td>\n",
              "      <td>0.033528</td>\n",
              "      <td>0.057099</td>\n",
              "      <td>0.033365</td>\n",
              "      <td>0.026212</td>\n",
              "      <td>NaN</td>\n",
              "      <td>0.003191</td>\n",
              "      <td>0.051938</td>\n",
              "      <td>0.025354</td>\n",
              "      <td>0.007311</td>\n",
              "      <td>...</td>\n",
              "      <td>-0.037294</td>\n",
              "      <td>-0.040888</td>\n",
              "      <td>1.000000</td>\n",
              "      <td>0.004883</td>\n",
              "      <td>0.022815</td>\n",
              "      <td>-0.002745</td>\n",
              "      <td>0.006881</td>\n",
              "      <td>0.034569</td>\n",
              "      <td>0.006714</td>\n",
              "      <td>0.011886</td>\n",
              "    </tr>\n",
              "    <tr>\n",
              "      <th>TotalWorkingYears</th>\n",
              "      <td>-0.035583</td>\n",
              "      <td>0.691293</td>\n",
              "      <td>0.007423</td>\n",
              "      <td>-0.017111</td>\n",
              "      <td>0.145761</td>\n",
              "      <td>NaN</td>\n",
              "      <td>0.006203</td>\n",
              "      <td>0.004537</td>\n",
              "      <td>-0.003747</td>\n",
              "      <td>0.780661</td>\n",
              "      <td>...</td>\n",
              "      <td>0.029807</td>\n",
              "      <td>0.048739</td>\n",
              "      <td>0.004883</td>\n",
              "      <td>1.000000</td>\n",
              "      <td>-0.021975</td>\n",
              "      <td>0.008528</td>\n",
              "      <td>0.622186</td>\n",
              "      <td>0.455817</td>\n",
              "      <td>0.391600</td>\n",
              "      <td>0.460821</td>\n",
              "    </tr>\n",
              "    <tr>\n",
              "      <th>TrainingTimesLastYear</th>\n",
              "      <td>0.017485</td>\n",
              "      <td>-0.014438</td>\n",
              "      <td>0.008567</td>\n",
              "      <td>-0.054814</td>\n",
              "      <td>-0.011426</td>\n",
              "      <td>NaN</td>\n",
              "      <td>-0.024186</td>\n",
              "      <td>-0.015816</td>\n",
              "      <td>-0.029623</td>\n",
              "      <td>0.001538</td>\n",
              "      <td>...</td>\n",
              "      <td>0.009629</td>\n",
              "      <td>-0.000643</td>\n",
              "      <td>0.022815</td>\n",
              "      <td>-0.021975</td>\n",
              "      <td>1.000000</td>\n",
              "      <td>0.031561</td>\n",
              "      <td>0.008157</td>\n",
              "      <td>-0.001001</td>\n",
              "      <td>-0.000920</td>\n",
              "      <td>-0.001511</td>\n",
              "    </tr>\n",
              "    <tr>\n",
              "      <th>WorkLifeBalance</th>\n",
              "      <td>0.026776</td>\n",
              "      <td>-0.006952</td>\n",
              "      <td>-0.024813</td>\n",
              "      <td>-0.029006</td>\n",
              "      <td>0.010491</td>\n",
              "      <td>NaN</td>\n",
              "      <td>0.032427</td>\n",
              "      <td>-0.014512</td>\n",
              "      <td>-0.000275</td>\n",
              "      <td>0.043638</td>\n",
              "      <td>...</td>\n",
              "      <td>0.022304</td>\n",
              "      <td>0.012468</td>\n",
              "      <td>-0.002745</td>\n",
              "      <td>0.008528</td>\n",
              "      <td>0.031561</td>\n",
              "      <td>1.000000</td>\n",
              "      <td>0.011140</td>\n",
              "      <td>0.048043</td>\n",
              "      <td>0.010455</td>\n",
              "      <td>0.003590</td>\n",
              "    </tr>\n",
              "    <tr>\n",
              "      <th>YearsAtCompany</th>\n",
              "      <td>-0.024843</td>\n",
              "      <td>0.317547</td>\n",
              "      <td>-0.030978</td>\n",
              "      <td>-0.006775</td>\n",
              "      <td>0.057386</td>\n",
              "      <td>NaN</td>\n",
              "      <td>-0.000097</td>\n",
              "      <td>-0.016652</td>\n",
              "      <td>-0.017085</td>\n",
              "      <td>0.529105</td>\n",
              "      <td>...</td>\n",
              "      <td>0.022346</td>\n",
              "      <td>0.038177</td>\n",
              "      <td>0.006881</td>\n",
              "      <td>0.622186</td>\n",
              "      <td>0.008157</td>\n",
              "      <td>0.011140</td>\n",
              "      <td>1.000000</td>\n",
              "      <td>0.754848</td>\n",
              "      <td>0.611265</td>\n",
              "      <td>0.770342</td>\n",
              "    </tr>\n",
              "    <tr>\n",
              "      <th>YearsInCurrentRole</th>\n",
              "      <td>-0.022712</td>\n",
              "      <td>0.219723</td>\n",
              "      <td>0.015081</td>\n",
              "      <td>0.011099</td>\n",
              "      <td>0.048486</td>\n",
              "      <td>NaN</td>\n",
              "      <td>0.011651</td>\n",
              "      <td>-0.018595</td>\n",
              "      <td>0.020010</td>\n",
              "      <td>0.381994</td>\n",
              "      <td>...</td>\n",
              "      <td>-0.015499</td>\n",
              "      <td>0.029479</td>\n",
              "      <td>0.034569</td>\n",
              "      <td>0.455817</td>\n",
              "      <td>-0.001001</td>\n",
              "      <td>0.048043</td>\n",
              "      <td>0.754848</td>\n",
              "      <td>1.000000</td>\n",
              "      <td>0.541024</td>\n",
              "      <td>0.718843</td>\n",
              "    </tr>\n",
              "    <tr>\n",
              "      <th>YearsSinceLastPromotion</th>\n",
              "      <td>0.024196</td>\n",
              "      <td>0.215989</td>\n",
              "      <td>-0.041474</td>\n",
              "      <td>-0.001749</td>\n",
              "      <td>0.050410</td>\n",
              "      <td>NaN</td>\n",
              "      <td>0.010533</td>\n",
              "      <td>-0.031922</td>\n",
              "      <td>-0.026713</td>\n",
              "      <td>0.337305</td>\n",
              "      <td>...</td>\n",
              "      <td>0.042083</td>\n",
              "      <td>0.023285</td>\n",
              "      <td>0.006714</td>\n",
              "      <td>0.391600</td>\n",
              "      <td>-0.000920</td>\n",
              "      <td>0.010455</td>\n",
              "      <td>0.611265</td>\n",
              "      <td>0.541024</td>\n",
              "      <td>1.000000</td>\n",
              "      <td>0.517817</td>\n",
              "    </tr>\n",
              "    <tr>\n",
              "      <th>YearsWithCurrManager</th>\n",
              "      <td>-0.015469</td>\n",
              "      <td>0.214630</td>\n",
              "      <td>-0.030061</td>\n",
              "      <td>0.001091</td>\n",
              "      <td>0.053765</td>\n",
              "      <td>NaN</td>\n",
              "      <td>-0.010863</td>\n",
              "      <td>-0.022353</td>\n",
              "      <td>0.031336</td>\n",
              "      <td>0.375033</td>\n",
              "      <td>...</td>\n",
              "      <td>0.002680</td>\n",
              "      <td>0.048202</td>\n",
              "      <td>0.011886</td>\n",
              "      <td>0.460821</td>\n",
              "      <td>-0.001511</td>\n",
              "      <td>0.003590</td>\n",
              "      <td>0.770342</td>\n",
              "      <td>0.718843</td>\n",
              "      <td>0.517817</td>\n",
              "      <td>1.000000</td>\n",
              "    </tr>\n",
              "  </tbody>\n",
              "</table>\n",
              "<p>26 rows × 26 columns</p>\n",
              "</div>\n",
              "    <div class=\"colab-df-buttons\">\n",
              "\n",
              "  <div class=\"colab-df-container\">\n",
              "    <button class=\"colab-df-convert\" onclick=\"convertToInteractive('df-575c02f8-7430-4873-a51f-75dd1a5f9424')\"\n",
              "            title=\"Convert this dataframe to an interactive table.\"\n",
              "            style=\"display:none;\">\n",
              "\n",
              "  <svg xmlns=\"http://www.w3.org/2000/svg\" height=\"24px\" viewBox=\"0 -960 960 960\">\n",
              "    <path d=\"M120-120v-720h720v720H120Zm60-500h600v-160H180v160Zm220 220h160v-160H400v160Zm0 220h160v-160H400v160ZM180-400h160v-160H180v160Zm440 0h160v-160H620v160ZM180-180h160v-160H180v160Zm440 0h160v-160H620v160Z\"/>\n",
              "  </svg>\n",
              "    </button>\n",
              "\n",
              "  <style>\n",
              "    .colab-df-container {\n",
              "      display:flex;\n",
              "      gap: 12px;\n",
              "    }\n",
              "\n",
              "    .colab-df-convert {\n",
              "      background-color: #E8F0FE;\n",
              "      border: none;\n",
              "      border-radius: 50%;\n",
              "      cursor: pointer;\n",
              "      display: none;\n",
              "      fill: #1967D2;\n",
              "      height: 32px;\n",
              "      padding: 0 0 0 0;\n",
              "      width: 32px;\n",
              "    }\n",
              "\n",
              "    .colab-df-convert:hover {\n",
              "      background-color: #E2EBFA;\n",
              "      box-shadow: 0px 1px 2px rgba(60, 64, 67, 0.3), 0px 1px 3px 1px rgba(60, 64, 67, 0.15);\n",
              "      fill: #174EA6;\n",
              "    }\n",
              "\n",
              "    .colab-df-buttons div {\n",
              "      margin-bottom: 4px;\n",
              "    }\n",
              "\n",
              "    [theme=dark] .colab-df-convert {\n",
              "      background-color: #3B4455;\n",
              "      fill: #D2E3FC;\n",
              "    }\n",
              "\n",
              "    [theme=dark] .colab-df-convert:hover {\n",
              "      background-color: #434B5C;\n",
              "      box-shadow: 0px 1px 3px 1px rgba(0, 0, 0, 0.15);\n",
              "      filter: drop-shadow(0px 1px 2px rgba(0, 0, 0, 0.3));\n",
              "      fill: #FFFFFF;\n",
              "    }\n",
              "  </style>\n",
              "\n",
              "    <script>\n",
              "      const buttonEl =\n",
              "        document.querySelector('#df-575c02f8-7430-4873-a51f-75dd1a5f9424 button.colab-df-convert');\n",
              "      buttonEl.style.display =\n",
              "        google.colab.kernel.accessAllowed ? 'block' : 'none';\n",
              "\n",
              "      async function convertToInteractive(key) {\n",
              "        const element = document.querySelector('#df-575c02f8-7430-4873-a51f-75dd1a5f9424');\n",
              "        const dataTable =\n",
              "          await google.colab.kernel.invokeFunction('convertToInteractive',\n",
              "                                                    [key], {});\n",
              "        if (!dataTable) return;\n",
              "\n",
              "        const docLinkHtml = 'Like what you see? Visit the ' +\n",
              "          '<a target=\"_blank\" href=https://colab.research.google.com/notebooks/data_table.ipynb>data table notebook</a>'\n",
              "          + ' to learn more about interactive tables.';\n",
              "        element.innerHTML = '';\n",
              "        dataTable['output_type'] = 'display_data';\n",
              "        await google.colab.output.renderOutput(dataTable, element);\n",
              "        const docLink = document.createElement('div');\n",
              "        docLink.innerHTML = docLinkHtml;\n",
              "        element.appendChild(docLink);\n",
              "      }\n",
              "    </script>\n",
              "  </div>\n",
              "\n",
              "\n",
              "<div id=\"df-4b72cb09-e9e1-48ec-9b6e-f7aaf1ff91be\">\n",
              "  <button class=\"colab-df-quickchart\" onclick=\"quickchart('df-4b72cb09-e9e1-48ec-9b6e-f7aaf1ff91be')\"\n",
              "            title=\"Suggest charts\"\n",
              "            style=\"display:none;\">\n",
              "\n",
              "<svg xmlns=\"http://www.w3.org/2000/svg\" height=\"24px\"viewBox=\"0 0 24 24\"\n",
              "     width=\"24px\">\n",
              "    <g>\n",
              "        <path d=\"M19 3H5c-1.1 0-2 .9-2 2v14c0 1.1.9 2 2 2h14c1.1 0 2-.9 2-2V5c0-1.1-.9-2-2-2zM9 17H7v-7h2v7zm4 0h-2V7h2v10zm4 0h-2v-4h2v4z\"/>\n",
              "    </g>\n",
              "</svg>\n",
              "  </button>\n",
              "\n",
              "<style>\n",
              "  .colab-df-quickchart {\n",
              "      --bg-color: #E8F0FE;\n",
              "      --fill-color: #1967D2;\n",
              "      --hover-bg-color: #E2EBFA;\n",
              "      --hover-fill-color: #174EA6;\n",
              "      --disabled-fill-color: #AAA;\n",
              "      --disabled-bg-color: #DDD;\n",
              "  }\n",
              "\n",
              "  [theme=dark] .colab-df-quickchart {\n",
              "      --bg-color: #3B4455;\n",
              "      --fill-color: #D2E3FC;\n",
              "      --hover-bg-color: #434B5C;\n",
              "      --hover-fill-color: #FFFFFF;\n",
              "      --disabled-bg-color: #3B4455;\n",
              "      --disabled-fill-color: #666;\n",
              "  }\n",
              "\n",
              "  .colab-df-quickchart {\n",
              "    background-color: var(--bg-color);\n",
              "    border: none;\n",
              "    border-radius: 50%;\n",
              "    cursor: pointer;\n",
              "    display: none;\n",
              "    fill: var(--fill-color);\n",
              "    height: 32px;\n",
              "    padding: 0;\n",
              "    width: 32px;\n",
              "  }\n",
              "\n",
              "  .colab-df-quickchart:hover {\n",
              "    background-color: var(--hover-bg-color);\n",
              "    box-shadow: 0 1px 2px rgba(60, 64, 67, 0.3), 0 1px 3px 1px rgba(60, 64, 67, 0.15);\n",
              "    fill: var(--button-hover-fill-color);\n",
              "  }\n",
              "\n",
              "  .colab-df-quickchart-complete:disabled,\n",
              "  .colab-df-quickchart-complete:disabled:hover {\n",
              "    background-color: var(--disabled-bg-color);\n",
              "    fill: var(--disabled-fill-color);\n",
              "    box-shadow: none;\n",
              "  }\n",
              "\n",
              "  .colab-df-spinner {\n",
              "    border: 2px solid var(--fill-color);\n",
              "    border-color: transparent;\n",
              "    border-bottom-color: var(--fill-color);\n",
              "    animation:\n",
              "      spin 1s steps(1) infinite;\n",
              "  }\n",
              "\n",
              "  @keyframes spin {\n",
              "    0% {\n",
              "      border-color: transparent;\n",
              "      border-bottom-color: var(--fill-color);\n",
              "      border-left-color: var(--fill-color);\n",
              "    }\n",
              "    20% {\n",
              "      border-color: transparent;\n",
              "      border-left-color: var(--fill-color);\n",
              "      border-top-color: var(--fill-color);\n",
              "    }\n",
              "    30% {\n",
              "      border-color: transparent;\n",
              "      border-left-color: var(--fill-color);\n",
              "      border-top-color: var(--fill-color);\n",
              "      border-right-color: var(--fill-color);\n",
              "    }\n",
              "    40% {\n",
              "      border-color: transparent;\n",
              "      border-right-color: var(--fill-color);\n",
              "      border-top-color: var(--fill-color);\n",
              "    }\n",
              "    60% {\n",
              "      border-color: transparent;\n",
              "      border-right-color: var(--fill-color);\n",
              "    }\n",
              "    80% {\n",
              "      border-color: transparent;\n",
              "      border-right-color: var(--fill-color);\n",
              "      border-bottom-color: var(--fill-color);\n",
              "    }\n",
              "    90% {\n",
              "      border-color: transparent;\n",
              "      border-bottom-color: var(--fill-color);\n",
              "    }\n",
              "  }\n",
              "</style>\n",
              "\n",
              "  <script>\n",
              "    async function quickchart(key) {\n",
              "      const quickchartButtonEl =\n",
              "        document.querySelector('#' + key + ' button');\n",
              "      quickchartButtonEl.disabled = true;  // To prevent multiple clicks.\n",
              "      quickchartButtonEl.classList.add('colab-df-spinner');\n",
              "      try {\n",
              "        const charts = await google.colab.kernel.invokeFunction(\n",
              "            'suggestCharts', [key], {});\n",
              "      } catch (error) {\n",
              "        console.error('Error during call to suggestCharts:', error);\n",
              "      }\n",
              "      quickchartButtonEl.classList.remove('colab-df-spinner');\n",
              "      quickchartButtonEl.classList.add('colab-df-quickchart-complete');\n",
              "    }\n",
              "    (() => {\n",
              "      let quickchartButtonEl =\n",
              "        document.querySelector('#df-4b72cb09-e9e1-48ec-9b6e-f7aaf1ff91be button');\n",
              "      quickchartButtonEl.style.display =\n",
              "        google.colab.kernel.accessAllowed ? 'block' : 'none';\n",
              "    })();\n",
              "  </script>\n",
              "</div>\n",
              "    </div>\n",
              "  </div>\n"
            ]
          },
          "metadata": {},
          "execution_count": 181
        }
      ]
    },
    {
      "cell_type": "markdown",
      "metadata": {
        "id": "Jd9yDQg3IxBU"
      },
      "source": [
        "**2. Simple Linear Regression Model**"
      ]
    },
    {
      "cell_type": "code",
      "execution_count": null,
      "metadata": {
        "id": "THVijdBFI0Hu"
      },
      "outputs": [],
      "source": [
        "X = df[['Age']]\n",
        "Y = df[['MonthlyIncome']]"
      ]
    },
    {
      "cell_type": "code",
      "execution_count": null,
      "metadata": {
        "colab": {
          "base_uri": "https://localhost:8080/",
          "height": 472
        },
        "id": "6Nf1w_JlJVOl",
        "outputId": "c673bd6b-db1c-4a39-c9a1-7f751e770021"
      },
      "outputs": [
        {
          "output_type": "display_data",
          "data": {
            "text/plain": [
              "<Figure size 640x480 with 1 Axes>"
            ],
            "image/png": "[encoded data removed]"
          },
          "metadata": {}
        }
      ],
      "source": [
        "plt.scatter(df['Age'], df['MonthlyIncome'])\n",
        "plt.axhline(y=df['MonthlyIncome'].mean(),color='red')\n",
        "plt.title('Scatter Plot of Age vs MonthlyIncome')\n",
        "plt.xlabel('Age')\n",
        "plt.ylabel('Monthly Income')\n",
        "plt.show()"
      ]
    },
    {
      "cell_type": "code",
      "execution_count": null,
      "metadata": {
        "id": "5XxNZH7DI8Ka"
      },
      "outputs": [],
      "source": [
        "from sklearn.model_selection import train_test_split\n",
        "X_train, X_test, Y_train, Y_test = train_test_split(X, Y, test_size =0.34, random_state = 42)"
      ]
    },
    {
      "cell_type": "code",
      "execution_count": null,
      "metadata": {
        "colab": {
          "base_uri": "https://localhost:8080/",
          "height": 74
        },
        "id": "9bf9bfcDJMZS",
        "outputId": "7aeeef84-9297-4563-beb5-093eeec6a2e7"
      },
      "outputs": [
        {
          "output_type": "execute_result",
          "data": {
            "text/plain": [
              "LinearRegression()"
            ],
            "text/html": [
              "<style>#sk-container-id-17 {color: black;background-color: white;}#sk-container-id-17 pre{padding: 0;}#sk-container-id-17 div.sk-toggleable {background-color: white;}#sk-container-id-17 label.sk-toggleable__label {cursor: pointer;display: block;width: 100%;margin-bottom: 0;padding: 0.3em;box-sizing: border-box;text-align: center;}#sk-container-id-17 label.sk-toggleable__label-arrow:before {content: \"▸\";float: left;margin-right: 0.25em;color: #696969;}#sk-container-id-17 label.sk-toggleable__label-arrow:hover:before {color: black;}#sk-container-id-17 div.sk-estimator:hover label.sk-toggleable__label-arrow:before {color: black;}#sk-container-id-17 div.sk-toggleable__content {max-height: 0;max-width: 0;overflow: hidden;text-align: left;background-color: #f0f8ff;}#sk-container-id-17 div.sk-toggleable__content pre {margin: 0.2em;color: black;border-radius: 0.25em;background-color: #f0f8ff;}#sk-container-id-17 input.sk-toggleable__control:checked~div.sk-toggleable__content {max-height: 200px;max-width: 100%;overflow: auto;}#sk-container-id-17 input.sk-toggleable__control:checked~label.sk-toggleable__label-arrow:before {content: \"▾\";}#sk-container-id-17 div.sk-estimator input.sk-toggleable__control:checked~label.sk-toggleable__label {background-color: #d4ebff;}#sk-container-id-17 div.sk-label input.sk-toggleable__control:checked~label.sk-toggleable__label {background-color: #d4ebff;}#sk-container-id-17 input.sk-hidden--visually {border: 0;clip: rect(1px 1px 1px 1px);clip: rect(1px, 1px, 1px, 1px);height: 1px;margin: -1px;overflow: hidden;padding: 0;position: absolute;width: 1px;}#sk-container-id-17 div.sk-estimator {font-family: monospace;background-color: #f0f8ff;border: 1px dotted black;border-radius: 0.25em;box-sizing: border-box;margin-bottom: 0.5em;}#sk-container-id-17 div.sk-estimator:hover {background-color: #d4ebff;}#sk-container-id-17 div.sk-parallel-item::after {content: \"\";width: 100%;border-bottom: 1px solid gray;flex-grow: 1;}#sk-container-id-17 div.sk-label:hover label.sk-toggleable__label {background-color: #d4ebff;}#sk-container-id-17 div.sk-serial::before {content: \"\";position: absolute;border-left: 1px solid gray;box-sizing: border-box;top: 0;bottom: 0;left: 50%;z-index: 0;}#sk-container-id-17 div.sk-serial {display: flex;flex-direction: column;align-items: center;background-color: white;padding-right: 0.2em;padding-left: 0.2em;position: relative;}#sk-container-id-17 div.sk-item {position: relative;z-index: 1;}#sk-container-id-17 div.sk-parallel {display: flex;align-items: stretch;justify-content: center;background-color: white;position: relative;}#sk-container-id-17 div.sk-item::before, #sk-container-id-17 div.sk-parallel-item::before {content: \"\";position: absolute;border-left: 1px solid gray;box-sizing: border-box;top: 0;bottom: 0;left: 50%;z-index: -1;}#sk-container-id-17 div.sk-parallel-item {display: flex;flex-direction: column;z-index: 1;position: relative;background-color: white;}#sk-container-id-17 div.sk-parallel-item:first-child::after {align-self: flex-end;width: 50%;}#sk-container-id-17 div.sk-parallel-item:last-child::after {align-self: flex-start;width: 50%;}#sk-container-id-17 div.sk-parallel-item:only-child::after {width: 0;}#sk-container-id-17 div.sk-dashed-wrapped {border: 1px dashed gray;margin: 0 0.4em 0.5em 0.4em;box-sizing: border-box;padding-bottom: 0.4em;background-color: white;}#sk-container-id-17 div.sk-label label {font-family: monospace;font-weight: bold;display: inline-block;line-height: 1.2em;}#sk-container-id-17 div.sk-label-container {text-align: center;}#sk-container-id-17 div.sk-container {/* jupyter's `normalize.less` sets `[hidden] { display: none; }` but bootstrap.min.css set `[hidden] { display: none !important; }` so we also need the `!important` here to be able to override the default hidden behavior on the sphinx rendered scikit-learn.org. See: https://github.com/scikit-learn/scikit-learn/issues/21755 */display: inline-block !important;position: relative;}#sk-container-id-17 div.sk-text-repr-fallback {display: none;}</style><div id=\"sk-container-id-17\" class=\"sk-top-container\"><div class=\"sk-text-repr-fallback\"><pre>LinearRegression()</pre><b>In a Jupyter environment, please rerun this cell to show the HTML representation or trust the notebook. <br />On GitHub, the HTML representation is unable to render, please try loading this page with nbviewer.org.</b></div><div class=\"sk-container\" hidden><div class=\"sk-item\"><div class=\"sk-estimator sk-toggleable\"><input class=\"sk-toggleable__control sk-hidden--visually\" id=\"sk-estimator-id-17\" type=\"checkbox\" checked><label for=\"sk-estimator-id-17\" class=\"sk-toggleable__label sk-toggleable__label-arrow\">LinearRegression</label><div class=\"sk-toggleable__content\"><pre>LinearRegression()</pre></div></div></div></div></div>"
            ]
          },
          "metadata": {},
          "execution_count": 125
        }
      ],
      "source": [
        "from sklearn.linear_model import LinearRegression\n",
        "model1 = LinearRegression()\n",
        "model1.fit(X_train, Y_train)"
      ]
    },
    {
      "cell_type": "code",
      "execution_count": null,
      "metadata": {
        "colab": {
          "base_uri": "https://localhost:8080/"
        },
        "id": "Pa0t4gXcJair",
        "outputId": "a4e3eaee-d0fb-4a7c-fbd6-bf37142257be"
      },
      "outputs": [
        {
          "output_type": "stream",
          "name": "stdout",
          "text": [
            "Mean Absolute Error of Simple Linear Regression Model:  2855.2930155467575\n",
            "Mean Squared Error of Simple Linear Regression Model:  14482688.07711367\n",
            "R2 score of Simple Linear Regression Model:  -1.53806740591439\n"
          ]
        }
      ],
      "source": [
        "from sklearn.metrics import mean_absolute_error, mean_squared_error, r2_score\n",
        "y_pred = model1.predict(X_test)\n",
        "print(\"Mean Absolute Error of Simple Linear Regression Model: \", mean_absolute_error(y_pred, Y_test))\n",
        "print(\"Mean Squared Error of Simple Linear Regression Model: \", mean_squared_error(y_pred, Y_test))\n",
        "print(\"R2 score of Simple Linear Regression Model: \", r2_score(y_pred, Y_test))"
      ]
    },
    {
      "cell_type": "code",
      "source": [
        "print(\"Intercept: \", model1.intercept_)\n",
        "print(\"Coefficient: \", model1.coef_)"
      ],
      "metadata": {
        "colab": {
          "base_uri": "https://localhost:8080/"
        },
        "id": "ciNZpIVWd01h",
        "outputId": "f5a28e0c-46de-4a5a-93a2-fb7ae242bc79"
      },
      "execution_count": null,
      "outputs": [
        {
          "output_type": "stream",
          "name": "stdout",
          "text": [
            "Intercept:  [-3092.25191648]\n",
            "Coefficient:  [[262.22953819]]\n"
          ]
        }
      ]
    },
    {
      "cell_type": "code",
      "execution_count": null,
      "metadata": {
        "colab": {
          "base_uri": "https://localhost:8080/",
          "height": 472
        },
        "id": "uFDJsMbqKxFE",
        "outputId": "1d997295-5709-4696-9635-fdce55ba8b3d"
      },
      "outputs": [
        {
          "output_type": "display_data",
          "data": {
            "text/plain": [
              "<Figure size 640x480 with 1 Axes>"
            ],
            "image/png": "[encoded data removed]"
          },
          "metadata": {}
        }
      ],
      "source": [
        "plt.scatter(df['Age'], df['MonthlyIncome'])\n",
        "plt.scatter(y_pred,Y_test, color='red')\n",
        "plt.title('Scatter Plot of Age vs MonthlyIncome')\n",
        "plt.xlabel('Age')\n",
        "plt.ylabel('Monthly Income')\n",
        "plt.show()"
      ]
    },
    {
      "cell_type": "markdown",
      "metadata": {
        "id": "YCQJxM81KFM2"
      },
      "source": [
        "**3. Build a Linear, Quadratic and Cubic regression Model**"
      ]
    },
    {
      "cell_type": "code",
      "execution_count": null,
      "metadata": {
        "id": "7AGtbixpLFm8"
      },
      "outputs": [],
      "source": [
        "X = df[['TotalWorkingYears']]\n",
        "Y = df[['MonthlyRate']]"
      ]
    },
    {
      "cell_type": "code",
      "execution_count": null,
      "metadata": {
        "id": "9_qhPtCALQL9"
      },
      "outputs": [],
      "source": [
        "X_train, X_test, Y_train, Y_test = train_test_split(X, Y, test_size =0.34, random_state = 42)"
      ]
    },
    {
      "cell_type": "code",
      "execution_count": null,
      "metadata": {
        "id": "rUILPJPYLTgO"
      },
      "outputs": [],
      "source": [
        "model2 =LinearRegression()"
      ]
    },
    {
      "cell_type": "code",
      "execution_count": null,
      "metadata": {
        "colab": {
          "base_uri": "https://localhost:8080/",
          "height": 74
        },
        "id": "Nm07b9h2LWlt",
        "outputId": "1413c7ee-a10e-4d14-e6b2-dd8af8cd8278"
      },
      "outputs": [
        {
          "output_type": "execute_result",
          "data": {
            "text/plain": [
              "LinearRegression()"
            ],
            "text/html": [
              "<style>#sk-container-id-18 {color: black;background-color: white;}#sk-container-id-18 pre{padding: 0;}#sk-container-id-18 div.sk-toggleable {background-color: white;}#sk-container-id-18 label.sk-toggleable__label {cursor: pointer;display: block;width: 100%;margin-bottom: 0;padding: 0.3em;box-sizing: border-box;text-align: center;}#sk-container-id-18 label.sk-toggleable__label-arrow:before {content: \"▸\";float: left;margin-right: 0.25em;color: #696969;}#sk-container-id-18 label.sk-toggleable__label-arrow:hover:before {color: black;}#sk-container-id-18 div.sk-estimator:hover label.sk-toggleable__label-arrow:before {color: black;}#sk-container-id-18 div.sk-toggleable__content {max-height: 0;max-width: 0;overflow: hidden;text-align: left;background-color: #f0f8ff;}#sk-container-id-18 div.sk-toggleable__content pre {margin: 0.2em;color: black;border-radius: 0.25em;background-color: #f0f8ff;}#sk-container-id-18 input.sk-toggleable__control:checked~div.sk-toggleable__content {max-height: 200px;max-width: 100%;overflow: auto;}#sk-container-id-18 input.sk-toggleable__control:checked~label.sk-toggleable__label-arrow:before {content: \"▾\";}#sk-container-id-18 div.sk-estimator input.sk-toggleable__control:checked~label.sk-toggleable__label {background-color: #d4ebff;}#sk-container-id-18 div.sk-label input.sk-toggleable__control:checked~label.sk-toggleable__label {background-color: #d4ebff;}#sk-container-id-18 input.sk-hidden--visually {border: 0;clip: rect(1px 1px 1px 1px);clip: rect(1px, 1px, 1px, 1px);height: 1px;margin: -1px;overflow: hidden;padding: 0;position: absolute;width: 1px;}#sk-container-id-18 div.sk-estimator {font-family: monospace;background-color: #f0f8ff;border: 1px dotted black;border-radius: 0.25em;box-sizing: border-box;margin-bottom: 0.5em;}#sk-container-id-18 div.sk-estimator:hover {background-color: #d4ebff;}#sk-container-id-18 div.sk-parallel-item::after {content: \"\";width: 100%;border-bottom: 1px solid gray;flex-grow: 1;}#sk-container-id-18 div.sk-label:hover label.sk-toggleable__label {background-color: #d4ebff;}#sk-container-id-18 div.sk-serial::before {content: \"\";position: absolute;border-left: 1px solid gray;box-sizing: border-box;top: 0;bottom: 0;left: 50%;z-index: 0;}#sk-container-id-18 div.sk-serial {display: flex;flex-direction: column;align-items: center;background-color: white;padding-right: 0.2em;padding-left: 0.2em;position: relative;}#sk-container-id-18 div.sk-item {position: relative;z-index: 1;}#sk-container-id-18 div.sk-parallel {display: flex;align-items: stretch;justify-content: center;background-color: white;position: relative;}#sk-container-id-18 div.sk-item::before, #sk-container-id-18 div.sk-parallel-item::before {content: \"\";position: absolute;border-left: 1px solid gray;box-sizing: border-box;top: 0;bottom: 0;left: 50%;z-index: -1;}#sk-container-id-18 div.sk-parallel-item {display: flex;flex-direction: column;z-index: 1;position: relative;background-color: white;}#sk-container-id-18 div.sk-parallel-item:first-child::after {align-self: flex-end;width: 50%;}#sk-container-id-18 div.sk-parallel-item:last-child::after {align-self: flex-start;width: 50%;}#sk-container-id-18 div.sk-parallel-item:only-child::after {width: 0;}#sk-container-id-18 div.sk-dashed-wrapped {border: 1px dashed gray;margin: 0 0.4em 0.5em 0.4em;box-sizing: border-box;padding-bottom: 0.4em;background-color: white;}#sk-container-id-18 div.sk-label label {font-family: monospace;font-weight: bold;display: inline-block;line-height: 1.2em;}#sk-container-id-18 div.sk-label-container {text-align: center;}#sk-container-id-18 div.sk-container {/* jupyter's `normalize.less` sets `[hidden] { display: none; }` but bootstrap.min.css set `[hidden] { display: none !important; }` so we also need the `!important` here to be able to override the default hidden behavior on the sphinx rendered scikit-learn.org. See: https://github.com/scikit-learn/scikit-learn/issues/21755 */display: inline-block !important;position: relative;}#sk-container-id-18 div.sk-text-repr-fallback {display: none;}</style><div id=\"sk-container-id-18\" class=\"sk-top-container\"><div class=\"sk-text-repr-fallback\"><pre>LinearRegression()</pre><b>In a Jupyter environment, please rerun this cell to show the HTML representation or trust the notebook. <br />On GitHub, the HTML representation is unable to render, please try loading this page with nbviewer.org.</b></div><div class=\"sk-container\" hidden><div class=\"sk-item\"><div class=\"sk-estimator sk-toggleable\"><input class=\"sk-toggleable__control sk-hidden--visually\" id=\"sk-estimator-id-18\" type=\"checkbox\" checked><label for=\"sk-estimator-id-18\" class=\"sk-toggleable__label sk-toggleable__label-arrow\">LinearRegression</label><div class=\"sk-toggleable__content\"><pre>LinearRegression()</pre></div></div></div></div></div>"
            ]
          },
          "metadata": {},
          "execution_count": 131
        }
      ],
      "source": [
        "model2.fit(X_train, Y_train)"
      ]
    },
    {
      "cell_type": "code",
      "execution_count": null,
      "metadata": {
        "colab": {
          "base_uri": "https://localhost:8080/"
        },
        "id": "_lB-FZUjLZoj",
        "outputId": "d615353f-212a-44c0-b2f5-cdfc6a7313de"
      },
      "outputs": [
        {
          "output_type": "stream",
          "name": "stdout",
          "text": [
            "Mean Absolute Error of Simple Linear Regression Model:  6150.156540423178\n",
            "Mean Squared Error of Simple Linear Regression Model:  49667142.834215224\n",
            "R2 score of Simple Linear Regression Model:  -21156.60420923342\n"
          ]
        }
      ],
      "source": [
        "y_pred = model2.predict(X_test)\n",
        "print(\"Mean Absolute Error of Simple Linear Regression Model: \", mean_absolute_error(y_pred, Y_test))\n",
        "print(\"Mean Squared Error of Simple Linear Regression Model: \", mean_squared_error(y_pred, Y_test))\n",
        "print(\"R2 score of Simple Linear Regression Model: \", r2_score(y_pred, Y_test))"
      ]
    },
    {
      "cell_type": "code",
      "source": [
        "print(\"Intercept: \", model2.intercept_)\n",
        "print(\"Coefficient: \", model2.coef_)"
      ],
      "metadata": {
        "colab": {
          "base_uri": "https://localhost:8080/"
        },
        "id": "Lq12ENYsd_h0",
        "outputId": "2b7abe1f-1f06-4b9b-d9e7-fb97c2ebbf54"
      },
      "execution_count": null,
      "outputs": [
        {
          "output_type": "stream",
          "name": "stdout",
          "text": [
            "Intercept:  [14325.03602841]\n",
            "Coefficient:  [[6.27448778]]\n"
          ]
        }
      ]
    },
    {
      "cell_type": "markdown",
      "metadata": {
        "id": "BEz-ZSFgLr_J"
      },
      "source": [
        "This is a worse model than the previous Linear Regression Model, the high negative R2 score indicated that we have not chosen the correct attributes for building the regression model."
      ]
    },
    {
      "cell_type": "code",
      "execution_count": null,
      "metadata": {
        "id": "zJK0eC34L116"
      },
      "outputs": [],
      "source": [
        "from sklearn.preprocessing import PolynomialFeatures"
      ]
    },
    {
      "cell_type": "code",
      "execution_count": null,
      "metadata": {
        "id": "_TyFdkNAMMwF"
      },
      "outputs": [],
      "source": [
        "p1 = PolynomialFeatures(degree=2, include_bias=True)\n",
        "x_train_p1 = p1.fit_transform(X_train)\n",
        "x_test_p1 = p1.transform(X_test)"
      ]
    },
    {
      "cell_type": "code",
      "execution_count": null,
      "metadata": {
        "colab": {
          "base_uri": "https://localhost:8080/",
          "height": 74
        },
        "id": "lOXGatfjMRpB",
        "outputId": "348b1f21-1458-480b-ca1f-756718fd87f2"
      },
      "outputs": [
        {
          "output_type": "execute_result",
          "data": {
            "text/plain": [
              "LinearRegression()"
            ],
            "text/html": [
              "<style>#sk-container-id-19 {color: black;background-color: white;}#sk-container-id-19 pre{padding: 0;}#sk-container-id-19 div.sk-toggleable {background-color: white;}#sk-container-id-19 label.sk-toggleable__label {cursor: pointer;display: block;width: 100%;margin-bottom: 0;padding: 0.3em;box-sizing: border-box;text-align: center;}#sk-container-id-19 label.sk-toggleable__label-arrow:before {content: \"▸\";float: left;margin-right: 0.25em;color: #696969;}#sk-container-id-19 label.sk-toggleable__label-arrow:hover:before {color: black;}#sk-container-id-19 div.sk-estimator:hover label.sk-toggleable__label-arrow:before {color: black;}#sk-container-id-19 div.sk-toggleable__content {max-height: 0;max-width: 0;overflow: hidden;text-align: left;background-color: #f0f8ff;}#sk-container-id-19 div.sk-toggleable__content pre {margin: 0.2em;color: black;border-radius: 0.25em;background-color: #f0f8ff;}#sk-container-id-19 input.sk-toggleable__control:checked~div.sk-toggleable__content {max-height: 200px;max-width: 100%;overflow: auto;}#sk-container-id-19 input.sk-toggleable__control:checked~label.sk-toggleable__label-arrow:before {content: \"▾\";}#sk-container-id-19 div.sk-estimator input.sk-toggleable__control:checked~label.sk-toggleable__label {background-color: #d4ebff;}#sk-container-id-19 div.sk-label input.sk-toggleable__control:checked~label.sk-toggleable__label {background-color: #d4ebff;}#sk-container-id-19 input.sk-hidden--visually {border: 0;clip: rect(1px 1px 1px 1px);clip: rect(1px, 1px, 1px, 1px);height: 1px;margin: -1px;overflow: hidden;padding: 0;position: absolute;width: 1px;}#sk-container-id-19 div.sk-estimator {font-family: monospace;background-color: #f0f8ff;border: 1px dotted black;border-radius: 0.25em;box-sizing: border-box;margin-bottom: 0.5em;}#sk-container-id-19 div.sk-estimator:hover {background-color: #d4ebff;}#sk-container-id-19 div.sk-parallel-item::after {content: \"\";width: 100%;border-bottom: 1px solid gray;flex-grow: 1;}#sk-container-id-19 div.sk-label:hover label.sk-toggleable__label {background-color: #d4ebff;}#sk-container-id-19 div.sk-serial::before {content: \"\";position: absolute;border-left: 1px solid gray;box-sizing: border-box;top: 0;bottom: 0;left: 50%;z-index: 0;}#sk-container-id-19 div.sk-serial {display: flex;flex-direction: column;align-items: center;background-color: white;padding-right: 0.2em;padding-left: 0.2em;position: relative;}#sk-container-id-19 div.sk-item {position: relative;z-index: 1;}#sk-container-id-19 div.sk-parallel {display: flex;align-items: stretch;justify-content: center;background-color: white;position: relative;}#sk-container-id-19 div.sk-item::before, #sk-container-id-19 div.sk-parallel-item::before {content: \"\";position: absolute;border-left: 1px solid gray;box-sizing: border-box;top: 0;bottom: 0;left: 50%;z-index: -1;}#sk-container-id-19 div.sk-parallel-item {display: flex;flex-direction: column;z-index: 1;position: relative;background-color: white;}#sk-container-id-19 div.sk-parallel-item:first-child::after {align-self: flex-end;width: 50%;}#sk-container-id-19 div.sk-parallel-item:last-child::after {align-self: flex-start;width: 50%;}#sk-container-id-19 div.sk-parallel-item:only-child::after {width: 0;}#sk-container-id-19 div.sk-dashed-wrapped {border: 1px dashed gray;margin: 0 0.4em 0.5em 0.4em;box-sizing: border-box;padding-bottom: 0.4em;background-color: white;}#sk-container-id-19 div.sk-label label {font-family: monospace;font-weight: bold;display: inline-block;line-height: 1.2em;}#sk-container-id-19 div.sk-label-container {text-align: center;}#sk-container-id-19 div.sk-container {/* jupyter's `normalize.less` sets `[hidden] { display: none; }` but bootstrap.min.css set `[hidden] { display: none !important; }` so we also need the `!important` here to be able to override the default hidden behavior on the sphinx rendered scikit-learn.org. See: https://github.com/scikit-learn/scikit-learn/issues/21755 */display: inline-block !important;position: relative;}#sk-container-id-19 div.sk-text-repr-fallback {display: none;}</style><div id=\"sk-container-id-19\" class=\"sk-top-container\"><div class=\"sk-text-repr-fallback\"><pre>LinearRegression()</pre><b>In a Jupyter environment, please rerun this cell to show the HTML representation or trust the notebook. <br />On GitHub, the HTML representation is unable to render, please try loading this page with nbviewer.org.</b></div><div class=\"sk-container\" hidden><div class=\"sk-item\"><div class=\"sk-estimator sk-toggleable\"><input class=\"sk-toggleable__control sk-hidden--visually\" id=\"sk-estimator-id-19\" type=\"checkbox\" checked><label for=\"sk-estimator-id-19\" class=\"sk-toggleable__label sk-toggleable__label-arrow\">LinearRegression</label><div class=\"sk-toggleable__content\"><pre>LinearRegression()</pre></div></div></div></div></div>"
            ]
          },
          "metadata": {},
          "execution_count": 135
        }
      ],
      "source": [
        "model3 = LinearRegression()\n",
        "model3.fit(x_train_p1, Y_train)"
      ]
    },
    {
      "cell_type": "code",
      "execution_count": null,
      "metadata": {
        "colab": {
          "base_uri": "https://localhost:8080/"
        },
        "id": "60WmEPGUMg5s",
        "outputId": "f6c0fd50-5f58-4e51-fc4e-d55452d288f4"
      },
      "outputs": [
        {
          "output_type": "stream",
          "name": "stdout",
          "text": [
            "Mean Absolute Error of Quadratic Regression Model:  6129.282423728341\n",
            "Mean Squared Error of Quadratic Regression Model:  49521523.57205056\n",
            "R2 score of Quadratic Regression Model:  -191.34462217013316\n"
          ]
        }
      ],
      "source": [
        "y_pred = model3.predict(x_test_p1)\n",
        "y_pred_train_p1 = model3.predict(x_train_p1)\n",
        "print(\"Mean Absolute Error of Quadratic Regression Model: \", mean_absolute_error(y_pred, Y_test))\n",
        "print(\"Mean Squared Error of Quadratic Regression Model: \", mean_squared_error(y_pred, Y_test))\n",
        "print(\"R2 score of Quadratic Regression Model: \", r2_score(y_pred, Y_test))"
      ]
    },
    {
      "cell_type": "code",
      "source": [
        "print(\"Intercept: \", model3.intercept_)\n",
        "print(\"Coefficient: \", model3.coef_)"
      ],
      "metadata": {
        "colab": {
          "base_uri": "https://localhost:8080/"
        },
        "id": "d-x6fznueGGz",
        "outputId": "28c66d19-83ea-4d43-b5f8-2f77c0503931"
      },
      "execution_count": null,
      "outputs": [
        {
          "output_type": "stream",
          "name": "stdout",
          "text": [
            "Intercept:  [15422.21469186]\n",
            "Coefficient:  [[   0.         -200.92485641    6.60611886]]\n"
          ]
        }
      ]
    },
    {
      "cell_type": "code",
      "execution_count": null,
      "metadata": {
        "colab": {
          "base_uri": "https://localhost:8080/",
          "height": 468
        },
        "id": "pYG7omYUM4ee",
        "outputId": "8b186527-8b97-4d1a-889a-7d9ee24c4e4b"
      },
      "outputs": [
        {
          "output_type": "execute_result",
          "data": {
            "text/plain": [
              "<matplotlib.legend.Legend at 0x7b723c7ee440>"
            ]
          },
          "metadata": {},
          "execution_count": 137
        },
        {
          "output_type": "display_data",
          "data": {
            "text/plain": [
              "<Figure size 640x480 with 1 Axes>"
            ],
            "image/png": "[encoded data removed]"
          },
          "metadata": {}
        }
      ],
      "source": [
        "plt.scatter(X_train, y_pred_train_p1, color='cyan', label = 'Predicted Data Points (Training set)')\n",
        "plt.scatter(X_train, Y_train, color='purple', label = 'Actual Data Points (Training set)')\n",
        "plt.xlabel('Total Working Years')\n",
        "plt.ylabel('Monthly Rate')\n",
        "plt.legend()"
      ]
    },
    {
      "cell_type": "code",
      "execution_count": null,
      "metadata": {
        "colab": {
          "base_uri": "https://localhost:8080/",
          "height": 468
        },
        "id": "gQst_Vu4NWtg",
        "outputId": "f0ce64c7-fee8-47e3-f937-1466ca98ee81"
      },
      "outputs": [
        {
          "output_type": "execute_result",
          "data": {
            "text/plain": [
              "<matplotlib.legend.Legend at 0x7b723c84b070>"
            ]
          },
          "metadata": {},
          "execution_count": 138
        },
        {
          "output_type": "display_data",
          "data": {
            "text/plain": [
              "<Figure size 640x480 with 1 Axes>"
            ],
            "image/png": "[encoded data removed]"
          },
          "metadata": {}
        }
      ],
      "source": [
        "plt.scatter(X_test, y_pred, color='cyan', label = 'Predicted Data Points (Testing set)')\n",
        "plt.scatter(X_test, Y_test, color='purple', label = 'Actual Data Points (Testing set)')\n",
        "plt.xlabel('Total Working Years')\n",
        "plt.ylabel('Monthly Rate')\n",
        "plt.legend()"
      ]
    },
    {
      "cell_type": "markdown",
      "metadata": {
        "id": "JVWfgC2gNiS4"
      },
      "source": [
        "As we can see, this Quadratic Regression model also cannot be considered as a good model since it is barely able to fit any of the data points in the curve."
      ]
    },
    {
      "cell_type": "code",
      "execution_count": null,
      "metadata": {
        "id": "XzY2t9ktNrZe"
      },
      "outputs": [],
      "source": [
        "p2 = PolynomialFeatures(degree=3, include_bias=True)\n",
        "x_train_p2 = p1.fit_transform(X_train)\n",
        "x_test_p2 = p1.transform(X_test)"
      ]
    },
    {
      "cell_type": "code",
      "execution_count": null,
      "metadata": {
        "colab": {
          "base_uri": "https://localhost:8080/",
          "height": 74
        },
        "id": "MvAy_AHFN0Qk",
        "outputId": "b916c42c-4707-443a-f3ce-65debf9161da"
      },
      "outputs": [
        {
          "output_type": "execute_result",
          "data": {
            "text/plain": [
              "LinearRegression()"
            ],
            "text/html": [
              "<style>#sk-container-id-20 {color: black;background-color: white;}#sk-container-id-20 pre{padding: 0;}#sk-container-id-20 div.sk-toggleable {background-color: white;}#sk-container-id-20 label.sk-toggleable__label {cursor: pointer;display: block;width: 100%;margin-bottom: 0;padding: 0.3em;box-sizing: border-box;text-align: center;}#sk-container-id-20 label.sk-toggleable__label-arrow:before {content: \"▸\";float: left;margin-right: 0.25em;color: #696969;}#sk-container-id-20 label.sk-toggleable__label-arrow:hover:before {color: black;}#sk-container-id-20 div.sk-estimator:hover label.sk-toggleable__label-arrow:before {color: black;}#sk-container-id-20 div.sk-toggleable__content {max-height: 0;max-width: 0;overflow: hidden;text-align: left;background-color: #f0f8ff;}#sk-container-id-20 div.sk-toggleable__content pre {margin: 0.2em;color: black;border-radius: 0.25em;background-color: #f0f8ff;}#sk-container-id-20 input.sk-toggleable__control:checked~div.sk-toggleable__content {max-height: 200px;max-width: 100%;overflow: auto;}#sk-container-id-20 input.sk-toggleable__control:checked~label.sk-toggleable__label-arrow:before {content: \"▾\";}#sk-container-id-20 div.sk-estimator input.sk-toggleable__control:checked~label.sk-toggleable__label {background-color: #d4ebff;}#sk-container-id-20 div.sk-label input.sk-toggleable__control:checked~label.sk-toggleable__label {background-color: #d4ebff;}#sk-container-id-20 input.sk-hidden--visually {border: 0;clip: rect(1px 1px 1px 1px);clip: rect(1px, 1px, 1px, 1px);height: 1px;margin: -1px;overflow: hidden;padding: 0;position: absolute;width: 1px;}#sk-container-id-20 div.sk-estimator {font-family: monospace;background-color: #f0f8ff;border: 1px dotted black;border-radius: 0.25em;box-sizing: border-box;margin-bottom: 0.5em;}#sk-container-id-20 div.sk-estimator:hover {background-color: #d4ebff;}#sk-container-id-20 div.sk-parallel-item::after {content: \"\";width: 100%;border-bottom: 1px solid gray;flex-grow: 1;}#sk-container-id-20 div.sk-label:hover label.sk-toggleable__label {background-color: #d4ebff;}#sk-container-id-20 div.sk-serial::before {content: \"\";position: absolute;border-left: 1px solid gray;box-sizing: border-box;top: 0;bottom: 0;left: 50%;z-index: 0;}#sk-container-id-20 div.sk-serial {display: flex;flex-direction: column;align-items: center;background-color: white;padding-right: 0.2em;padding-left: 0.2em;position: relative;}#sk-container-id-20 div.sk-item {position: relative;z-index: 1;}#sk-container-id-20 div.sk-parallel {display: flex;align-items: stretch;justify-content: center;background-color: white;position: relative;}#sk-container-id-20 div.sk-item::before, #sk-container-id-20 div.sk-parallel-item::before {content: \"\";position: absolute;border-left: 1px solid gray;box-sizing: border-box;top: 0;bottom: 0;left: 50%;z-index: -1;}#sk-container-id-20 div.sk-parallel-item {display: flex;flex-direction: column;z-index: 1;position: relative;background-color: white;}#sk-container-id-20 div.sk-parallel-item:first-child::after {align-self: flex-end;width: 50%;}#sk-container-id-20 div.sk-parallel-item:last-child::after {align-self: flex-start;width: 50%;}#sk-container-id-20 div.sk-parallel-item:only-child::after {width: 0;}#sk-container-id-20 div.sk-dashed-wrapped {border: 1px dashed gray;margin: 0 0.4em 0.5em 0.4em;box-sizing: border-box;padding-bottom: 0.4em;background-color: white;}#sk-container-id-20 div.sk-label label {font-family: monospace;font-weight: bold;display: inline-block;line-height: 1.2em;}#sk-container-id-20 div.sk-label-container {text-align: center;}#sk-container-id-20 div.sk-container {/* jupyter's `normalize.less` sets `[hidden] { display: none; }` but bootstrap.min.css set `[hidden] { display: none !important; }` so we also need the `!important` here to be able to override the default hidden behavior on the sphinx rendered scikit-learn.org. See: https://github.com/scikit-learn/scikit-learn/issues/21755 */display: inline-block !important;position: relative;}#sk-container-id-20 div.sk-text-repr-fallback {display: none;}</style><div id=\"sk-container-id-20\" class=\"sk-top-container\"><div class=\"sk-text-repr-fallback\"><pre>LinearRegression()</pre><b>In a Jupyter environment, please rerun this cell to show the HTML representation or trust the notebook. <br />On GitHub, the HTML representation is unable to render, please try loading this page with nbviewer.org.</b></div><div class=\"sk-container\" hidden><div class=\"sk-item\"><div class=\"sk-estimator sk-toggleable\"><input class=\"sk-toggleable__control sk-hidden--visually\" id=\"sk-estimator-id-20\" type=\"checkbox\" checked><label for=\"sk-estimator-id-20\" class=\"sk-toggleable__label sk-toggleable__label-arrow\">LinearRegression</label><div class=\"sk-toggleable__content\"><pre>LinearRegression()</pre></div></div></div></div></div>"
            ]
          },
          "metadata": {},
          "execution_count": 140
        }
      ],
      "source": [
        "model4 = LinearRegression()\n",
        "model4.fit(x_train_p2, Y_train)"
      ]
    },
    {
      "cell_type": "code",
      "execution_count": null,
      "metadata": {
        "colab": {
          "base_uri": "https://localhost:8080/"
        },
        "id": "XYB4JXKCN7pt",
        "outputId": "5fe2557b-258a-4aac-f2f5-034d1f0a5a17"
      },
      "outputs": [
        {
          "output_type": "stream",
          "name": "stdout",
          "text": [
            "Mean Absolute Error of Quadratic Regression Model:  6129.282423728341\n",
            "Mean Squared Error of Quadratic Regression Model:  49521523.57205056\n",
            "R2 score of Quadratic Regression Model:  -191.34462217013316\n"
          ]
        }
      ],
      "source": [
        "y_pred = model4.predict(x_test_p2)\n",
        "y_pred_train_p2 = model4.predict(x_train_p2)\n",
        "print(\"Mean Absolute Error of Quadratic Regression Model: \", mean_absolute_error(y_pred, Y_test))\n",
        "print(\"Mean Squared Error of Quadratic Regression Model: \", mean_squared_error(y_pred, Y_test))\n",
        "print(\"R2 score of Quadratic Regression Model: \", r2_score(y_pred, Y_test))"
      ]
    },
    {
      "cell_type": "code",
      "source": [
        "print(\"Intercept: \", model4.intercept_)\n",
        "print(\"Coefficient: \", model4.coef_)"
      ],
      "metadata": {
        "colab": {
          "base_uri": "https://localhost:8080/"
        },
        "id": "GxP602zVeMi7",
        "outputId": "7c7376f3-f99d-4c3c-aa3f-998902e5443e"
      },
      "execution_count": null,
      "outputs": [
        {
          "output_type": "stream",
          "name": "stdout",
          "text": [
            "Intercept:  [15422.21469186]\n",
            "Coefficient:  [[   0.         -200.92485641    6.60611886]]\n"
          ]
        }
      ]
    },
    {
      "cell_type": "code",
      "execution_count": null,
      "metadata": {
        "colab": {
          "base_uri": "https://localhost:8080/",
          "height": 468
        },
        "id": "x0LRrHKNOGg7",
        "outputId": "b6141b10-5b95-4270-f10b-c1ac060dc0bd"
      },
      "outputs": [
        {
          "output_type": "execute_result",
          "data": {
            "text/plain": [
              "<matplotlib.legend.Legend at 0x7b723c7bf910>"
            ]
          },
          "metadata": {},
          "execution_count": 142
        },
        {
          "output_type": "display_data",
          "data": {
            "text/plain": [
              "<Figure size 640x480 with 1 Axes>"
            ],
            "image/png": "[encoded data removed]"
          },
          "metadata": {}
        }
      ],
      "source": [
        "plt.scatter(X_train, y_pred_train_p2, color='cyan', label = 'Predicted Data Points (Training set)')\n",
        "plt.scatter(X_train, Y_train, color='purple', label = 'Actual Data Points (Training set)')\n",
        "plt.xlabel('Total Working Years')\n",
        "plt.ylabel('Monthly Rate')\n",
        "plt.legend()"
      ]
    },
    {
      "cell_type": "code",
      "execution_count": null,
      "metadata": {
        "colab": {
          "base_uri": "https://localhost:8080/",
          "height": 468
        },
        "id": "fM8kACzyONW5",
        "outputId": "0548ab66-cb94-44ed-8610-4e31a5521974"
      },
      "outputs": [
        {
          "output_type": "execute_result",
          "data": {
            "text/plain": [
              "<matplotlib.legend.Legend at 0x7b723c77d8a0>"
            ]
          },
          "metadata": {},
          "execution_count": 143
        },
        {
          "output_type": "display_data",
          "data": {
            "text/plain": [
              "<Figure size 640x480 with 1 Axes>"
            ],
            "image/png": "[encoded data removed]"
          },
          "metadata": {}
        }
      ],
      "source": [
        "plt.scatter(X_test, y_pred, color='cyan', label = 'Predicted Data Points (Testing set)')\n",
        "plt.scatter(X_test, Y_test, color='purple', label = 'Actual Data Points (Testing set)')\n",
        "plt.xlabel('Total Working Years')\n",
        "plt.ylabel('Monthly Rate')\n",
        "plt.legend()"
      ]
    },
    {
      "cell_type": "markdown",
      "metadata": {
        "id": "stq35WufOiyk"
      },
      "source": [
        "**4. Build a Linear, Quadratic, Cubic regression models considering ‘TotalWorkingYears’ as predictor and ‘Monthly income’ as Target Variable.**"
      ]
    },
    {
      "cell_type": "markdown",
      "metadata": {
        "id": "vI9xYJoFOSat"
      },
      "source": [
        "Again, as we can see this Cubic Regression model is also not able to do any justice to the data points and hence cannot be considered as an accurate regression model for this pair of attributes."
      ]
    },
    {
      "cell_type": "code",
      "execution_count": null,
      "metadata": {
        "id": "PoE-ir_sOh1o"
      },
      "outputs": [],
      "source": [
        "X = df[['TotalWorkingYears']]\n",
        "Y = df[['MonthlyIncome']]"
      ]
    },
    {
      "cell_type": "code",
      "execution_count": null,
      "metadata": {
        "id": "ixJuiE_0OzW-"
      },
      "outputs": [],
      "source": [
        "X_train, X_test, Y_train, Y_test = train_test_split(X, Y, test_size =0.34, random_state = 42)"
      ]
    },
    {
      "cell_type": "code",
      "execution_count": null,
      "metadata": {
        "colab": {
          "base_uri": "https://localhost:8080/",
          "height": 74
        },
        "id": "9qkK2WKMO2wt",
        "outputId": "820b17cb-e850-4306-bfe0-dc70bbcdab65"
      },
      "outputs": [
        {
          "output_type": "execute_result",
          "data": {
            "text/plain": [
              "LinearRegression()"
            ],
            "text/html": [
              "<style>#sk-container-id-21 {color: black;background-color: white;}#sk-container-id-21 pre{padding: 0;}#sk-container-id-21 div.sk-toggleable {background-color: white;}#sk-container-id-21 label.sk-toggleable__label {cursor: pointer;display: block;width: 100%;margin-bottom: 0;padding: 0.3em;box-sizing: border-box;text-align: center;}#sk-container-id-21 label.sk-toggleable__label-arrow:before {content: \"▸\";float: left;margin-right: 0.25em;color: #696969;}#sk-container-id-21 label.sk-toggleable__label-arrow:hover:before {color: black;}#sk-container-id-21 div.sk-estimator:hover label.sk-toggleable__label-arrow:before {color: black;}#sk-container-id-21 div.sk-toggleable__content {max-height: 0;max-width: 0;overflow: hidden;text-align: left;background-color: #f0f8ff;}#sk-container-id-21 div.sk-toggleable__content pre {margin: 0.2em;color: black;border-radius: 0.25em;background-color: #f0f8ff;}#sk-container-id-21 input.sk-toggleable__control:checked~div.sk-toggleable__content {max-height: 200px;max-width: 100%;overflow: auto;}#sk-container-id-21 input.sk-toggleable__control:checked~label.sk-toggleable__label-arrow:before {content: \"▾\";}#sk-container-id-21 div.sk-estimator input.sk-toggleable__control:checked~label.sk-toggleable__label {background-color: #d4ebff;}#sk-container-id-21 div.sk-label input.sk-toggleable__control:checked~label.sk-toggleable__label {background-color: #d4ebff;}#sk-container-id-21 input.sk-hidden--visually {border: 0;clip: rect(1px 1px 1px 1px);clip: rect(1px, 1px, 1px, 1px);height: 1px;margin: -1px;overflow: hidden;padding: 0;position: absolute;width: 1px;}#sk-container-id-21 div.sk-estimator {font-family: monospace;background-color: #f0f8ff;border: 1px dotted black;border-radius: 0.25em;box-sizing: border-box;margin-bottom: 0.5em;}#sk-container-id-21 div.sk-estimator:hover {background-color: #d4ebff;}#sk-container-id-21 div.sk-parallel-item::after {content: \"\";width: 100%;border-bottom: 1px solid gray;flex-grow: 1;}#sk-container-id-21 div.sk-label:hover label.sk-toggleable__label {background-color: #d4ebff;}#sk-container-id-21 div.sk-serial::before {content: \"\";position: absolute;border-left: 1px solid gray;box-sizing: border-box;top: 0;bottom: 0;left: 50%;z-index: 0;}#sk-container-id-21 div.sk-serial {display: flex;flex-direction: column;align-items: center;background-color: white;padding-right: 0.2em;padding-left: 0.2em;position: relative;}#sk-container-id-21 div.sk-item {position: relative;z-index: 1;}#sk-container-id-21 div.sk-parallel {display: flex;align-items: stretch;justify-content: center;background-color: white;position: relative;}#sk-container-id-21 div.sk-item::before, #sk-container-id-21 div.sk-parallel-item::before {content: \"\";position: absolute;border-left: 1px solid gray;box-sizing: border-box;top: 0;bottom: 0;left: 50%;z-index: -1;}#sk-container-id-21 div.sk-parallel-item {display: flex;flex-direction: column;z-index: 1;position: relative;background-color: white;}#sk-container-id-21 div.sk-parallel-item:first-child::after {align-self: flex-end;width: 50%;}#sk-container-id-21 div.sk-parallel-item:last-child::after {align-self: flex-start;width: 50%;}#sk-container-id-21 div.sk-parallel-item:only-child::after {width: 0;}#sk-container-id-21 div.sk-dashed-wrapped {border: 1px dashed gray;margin: 0 0.4em 0.5em 0.4em;box-sizing: border-box;padding-bottom: 0.4em;background-color: white;}#sk-container-id-21 div.sk-label label {font-family: monospace;font-weight: bold;display: inline-block;line-height: 1.2em;}#sk-container-id-21 div.sk-label-container {text-align: center;}#sk-container-id-21 div.sk-container {/* jupyter's `normalize.less` sets `[hidden] { display: none; }` but bootstrap.min.css set `[hidden] { display: none !important; }` so we also need the `!important` here to be able to override the default hidden behavior on the sphinx rendered scikit-learn.org. See: https://github.com/scikit-learn/scikit-learn/issues/21755 */display: inline-block !important;position: relative;}#sk-container-id-21 div.sk-text-repr-fallback {display: none;}</style><div id=\"sk-container-id-21\" class=\"sk-top-container\"><div class=\"sk-text-repr-fallback\"><pre>LinearRegression()</pre><b>In a Jupyter environment, please rerun this cell to show the HTML representation or trust the notebook. <br />On GitHub, the HTML representation is unable to render, please try loading this page with nbviewer.org.</b></div><div class=\"sk-container\" hidden><div class=\"sk-item\"><div class=\"sk-estimator sk-toggleable\"><input class=\"sk-toggleable__control sk-hidden--visually\" id=\"sk-estimator-id-21\" type=\"checkbox\" checked><label for=\"sk-estimator-id-21\" class=\"sk-toggleable__label sk-toggleable__label-arrow\">LinearRegression</label><div class=\"sk-toggleable__content\"><pre>LinearRegression()</pre></div></div></div></div></div>"
            ]
          },
          "metadata": {},
          "execution_count": 146
        }
      ],
      "source": [
        "model5 = LinearRegression()\n",
        "model5.fit(X_train, Y_train)"
      ]
    },
    {
      "cell_type": "code",
      "execution_count": null,
      "metadata": {
        "colab": {
          "base_uri": "https://localhost:8080/"
        },
        "id": "Ncct1823PFDk",
        "outputId": "c595839b-75c7-4ed7-b19a-99a841bf5f0c"
      },
      "outputs": [
        {
          "output_type": "stream",
          "name": "stdout",
          "text": [
            "Mean Absolute Error of Simple Linear Regression Model:  2090.2695325140485\n",
            "Mean Squared Error of Simple Linear Regression Model:  8038100.137489413\n",
            "R2 score of Simple Linear Regression Model:  0.3961824139727945\n"
          ]
        }
      ],
      "source": [
        "y_pred = model5.predict(X_test)\n",
        "print(\"Mean Absolute Error of Simple Linear Regression Model: \", mean_absolute_error(y_pred, Y_test))\n",
        "print(\"Mean Squared Error of Simple Linear Regression Model: \", mean_squared_error(y_pred, Y_test))\n",
        "print(\"R2 score of Simple Linear Regression Model: \", r2_score(y_pred, Y_test))"
      ]
    },
    {
      "cell_type": "code",
      "source": [
        "print(\"Intercept: \", model5.intercept_)\n",
        "print(\"Coefficient: \", model5.coef_)"
      ],
      "metadata": {
        "colab": {
          "base_uri": "https://localhost:8080/"
        },
        "id": "dl60fYw0eREI",
        "outputId": "03f0a144-f358-4184-bc23-dace63fb119a"
      },
      "execution_count": null,
      "outputs": [
        {
          "output_type": "stream",
          "name": "stdout",
          "text": [
            "Intercept:  [1202.62228316]\n",
            "Coefficient:  [[472.49885511]]\n"
          ]
        }
      ]
    },
    {
      "cell_type": "code",
      "execution_count": null,
      "metadata": {
        "id": "IyVqp4_2Q92n"
      },
      "outputs": [],
      "source": [
        "p1 = PolynomialFeatures(degree=2, include_bias=True)\n",
        "x_train_p1 = p1.fit_transform(X_train)\n",
        "x_test_p1 = p1.transform(X_test)"
      ]
    },
    {
      "cell_type": "code",
      "execution_count": null,
      "metadata": {
        "colab": {
          "base_uri": "https://localhost:8080/",
          "height": 74
        },
        "id": "kRN0VplgQ-4B",
        "outputId": "13238332-0517-44d6-8a8a-375cc59ca939"
      },
      "outputs": [
        {
          "output_type": "execute_result",
          "data": {
            "text/plain": [
              "LinearRegression()"
            ],
            "text/html": [
              "<style>#sk-container-id-22 {color: black;background-color: white;}#sk-container-id-22 pre{padding: 0;}#sk-container-id-22 div.sk-toggleable {background-color: white;}#sk-container-id-22 label.sk-toggleable__label {cursor: pointer;display: block;width: 100%;margin-bottom: 0;padding: 0.3em;box-sizing: border-box;text-align: center;}#sk-container-id-22 label.sk-toggleable__label-arrow:before {content: \"▸\";float: left;margin-right: 0.25em;color: #696969;}#sk-container-id-22 label.sk-toggleable__label-arrow:hover:before {color: black;}#sk-container-id-22 div.sk-estimator:hover label.sk-toggleable__label-arrow:before {color: black;}#sk-container-id-22 div.sk-toggleable__content {max-height: 0;max-width: 0;overflow: hidden;text-align: left;background-color: #f0f8ff;}#sk-container-id-22 div.sk-toggleable__content pre {margin: 0.2em;color: black;border-radius: 0.25em;background-color: #f0f8ff;}#sk-container-id-22 input.sk-toggleable__control:checked~div.sk-toggleable__content {max-height: 200px;max-width: 100%;overflow: auto;}#sk-container-id-22 input.sk-toggleable__control:checked~label.sk-toggleable__label-arrow:before {content: \"▾\";}#sk-container-id-22 div.sk-estimator input.sk-toggleable__control:checked~label.sk-toggleable__label {background-color: #d4ebff;}#sk-container-id-22 div.sk-label input.sk-toggleable__control:checked~label.sk-toggleable__label {background-color: #d4ebff;}#sk-container-id-22 input.sk-hidden--visually {border: 0;clip: rect(1px 1px 1px 1px);clip: rect(1px, 1px, 1px, 1px);height: 1px;margin: -1px;overflow: hidden;padding: 0;position: absolute;width: 1px;}#sk-container-id-22 div.sk-estimator {font-family: monospace;background-color: #f0f8ff;border: 1px dotted black;border-radius: 0.25em;box-sizing: border-box;margin-bottom: 0.5em;}#sk-container-id-22 div.sk-estimator:hover {background-color: #d4ebff;}#sk-container-id-22 div.sk-parallel-item::after {content: \"\";width: 100%;border-bottom: 1px solid gray;flex-grow: 1;}#sk-container-id-22 div.sk-label:hover label.sk-toggleable__label {background-color: #d4ebff;}#sk-container-id-22 div.sk-serial::before {content: \"\";position: absolute;border-left: 1px solid gray;box-sizing: border-box;top: 0;bottom: 0;left: 50%;z-index: 0;}#sk-container-id-22 div.sk-serial {display: flex;flex-direction: column;align-items: center;background-color: white;padding-right: 0.2em;padding-left: 0.2em;position: relative;}#sk-container-id-22 div.sk-item {position: relative;z-index: 1;}#sk-container-id-22 div.sk-parallel {display: flex;align-items: stretch;justify-content: center;background-color: white;position: relative;}#sk-container-id-22 div.sk-item::before, #sk-container-id-22 div.sk-parallel-item::before {content: \"\";position: absolute;border-left: 1px solid gray;box-sizing: border-box;top: 0;bottom: 0;left: 50%;z-index: -1;}#sk-container-id-22 div.sk-parallel-item {display: flex;flex-direction: column;z-index: 1;position: relative;background-color: white;}#sk-container-id-22 div.sk-parallel-item:first-child::after {align-self: flex-end;width: 50%;}#sk-container-id-22 div.sk-parallel-item:last-child::after {align-self: flex-start;width: 50%;}#sk-container-id-22 div.sk-parallel-item:only-child::after {width: 0;}#sk-container-id-22 div.sk-dashed-wrapped {border: 1px dashed gray;margin: 0 0.4em 0.5em 0.4em;box-sizing: border-box;padding-bottom: 0.4em;background-color: white;}#sk-container-id-22 div.sk-label label {font-family: monospace;font-weight: bold;display: inline-block;line-height: 1.2em;}#sk-container-id-22 div.sk-label-container {text-align: center;}#sk-container-id-22 div.sk-container {/* jupyter's `normalize.less` sets `[hidden] { display: none; }` but bootstrap.min.css set `[hidden] { display: none !important; }` so we also need the `!important` here to be able to override the default hidden behavior on the sphinx rendered scikit-learn.org. See: https://github.com/scikit-learn/scikit-learn/issues/21755 */display: inline-block !important;position: relative;}#sk-container-id-22 div.sk-text-repr-fallback {display: none;}</style><div id=\"sk-container-id-22\" class=\"sk-top-container\"><div class=\"sk-text-repr-fallback\"><pre>LinearRegression()</pre><b>In a Jupyter environment, please rerun this cell to show the HTML representation or trust the notebook. <br />On GitHub, the HTML representation is unable to render, please try loading this page with nbviewer.org.</b></div><div class=\"sk-container\" hidden><div class=\"sk-item\"><div class=\"sk-estimator sk-toggleable\"><input class=\"sk-toggleable__control sk-hidden--visually\" id=\"sk-estimator-id-22\" type=\"checkbox\" checked><label for=\"sk-estimator-id-22\" class=\"sk-toggleable__label sk-toggleable__label-arrow\">LinearRegression</label><div class=\"sk-toggleable__content\"><pre>LinearRegression()</pre></div></div></div></div></div>"
            ]
          },
          "metadata": {},
          "execution_count": 149
        }
      ],
      "source": [
        "model6 = LinearRegression()\n",
        "model6.fit(x_train_p1, Y_train)"
      ]
    },
    {
      "cell_type": "code",
      "execution_count": null,
      "metadata": {
        "colab": {
          "base_uri": "https://localhost:8080/"
        },
        "id": "41MidxbGRESh",
        "outputId": "c7093c7a-5cc6-402d-b276-de4f0bf1c895"
      },
      "outputs": [
        {
          "output_type": "stream",
          "name": "stdout",
          "text": [
            "Mean Absolute Error of Quadratic Regression Model:  2074.6457086921278\n",
            "Mean Squared Error of Quadratic Regression Model:  8020683.306319657\n",
            "R2 score of Quadratic Regression Model:  0.39806511607848716\n"
          ]
        }
      ],
      "source": [
        "y_pred = model6.predict(x_test_p1)\n",
        "y_pred_train_p1 = model6.predict(x_train_p1)\n",
        "print(\"Mean Absolute Error of Quadratic Regression Model: \", mean_absolute_error(y_pred, Y_test))\n",
        "print(\"Mean Squared Error of Quadratic Regression Model: \", mean_squared_error(y_pred, Y_test))\n",
        "print(\"R2 score of Quadratic Regression Model: \", r2_score(y_pred, Y_test))"
      ]
    },
    {
      "cell_type": "code",
      "source": [
        "print(\"Intercept: \", model6.intercept_)\n",
        "print(\"Coefficient: \", model6.coef_)"
      ],
      "metadata": {
        "colab": {
          "base_uri": "https://localhost:8080/"
        },
        "id": "4MxVA6_7eUod",
        "outputId": "cfa694f0-f65c-4e7d-ee2b-cf8a8955a00c"
      },
      "execution_count": null,
      "outputs": [
        {
          "output_type": "stream",
          "name": "stdout",
          "text": [
            "Intercept:  [1473.64791375]\n",
            "Coefficient:  [[  0.         421.31636789   1.63184684]]\n"
          ]
        }
      ]
    },
    {
      "cell_type": "code",
      "execution_count": null,
      "metadata": {
        "colab": {
          "base_uri": "https://localhost:8080/",
          "height": 468
        },
        "id": "1cRm0BHrREf7",
        "outputId": "d969f275-23d0-418b-e839-1f8562a9ae2d"
      },
      "outputs": [
        {
          "output_type": "execute_result",
          "data": {
            "text/plain": [
              "<matplotlib.legend.Legend at 0x7b723c5fa7d0>"
            ]
          },
          "metadata": {},
          "execution_count": 151
        },
        {
          "output_type": "display_data",
          "data": {
            "text/plain": [
              "<Figure size 640x480 with 1 Axes>"
            ],
            "image/png": "[encoded data removed]"
          },
          "metadata": {}
        }
      ],
      "source": [
        "plt.scatter(X_test, y_pred, color='cyan', label = 'Predicted Data Points (Testing set)')\n",
        "plt.scatter(X_test, Y_test, color='purple', label = 'Actual Data Points (Testing set)')\n",
        "plt.xlabel('Total Working Years')\n",
        "plt.ylabel('Monthly Income')\n",
        "plt.legend()"
      ]
    },
    {
      "cell_type": "code",
      "execution_count": null,
      "metadata": {
        "id": "f5rIQE45RsgI"
      },
      "outputs": [],
      "source": [
        "p2 = PolynomialFeatures(degree=3, include_bias=True)\n",
        "x_train_p2 = p2.fit_transform(X_train)\n",
        "x_test_p2 = p2.transform(X_test)"
      ]
    },
    {
      "cell_type": "code",
      "execution_count": null,
      "metadata": {
        "colab": {
          "base_uri": "https://localhost:8080/",
          "height": 74
        },
        "id": "t6bIZHlnRzDf",
        "outputId": "d751bdae-c9de-4b2d-ab13-88f10fa15389"
      },
      "outputs": [
        {
          "output_type": "execute_result",
          "data": {
            "text/plain": [
              "LinearRegression()"
            ],
            "text/html": [
              "<style>#sk-container-id-23 {color: black;background-color: white;}#sk-container-id-23 pre{padding: 0;}#sk-container-id-23 div.sk-toggleable {background-color: white;}#sk-container-id-23 label.sk-toggleable__label {cursor: pointer;display: block;width: 100%;margin-bottom: 0;padding: 0.3em;box-sizing: border-box;text-align: center;}#sk-container-id-23 label.sk-toggleable__label-arrow:before {content: \"▸\";float: left;margin-right: 0.25em;color: #696969;}#sk-container-id-23 label.sk-toggleable__label-arrow:hover:before {color: black;}#sk-container-id-23 div.sk-estimator:hover label.sk-toggleable__label-arrow:before {color: black;}#sk-container-id-23 div.sk-toggleable__content {max-height: 0;max-width: 0;overflow: hidden;text-align: left;background-color: #f0f8ff;}#sk-container-id-23 div.sk-toggleable__content pre {margin: 0.2em;color: black;border-radius: 0.25em;background-color: #f0f8ff;}#sk-container-id-23 input.sk-toggleable__control:checked~div.sk-toggleable__content {max-height: 200px;max-width: 100%;overflow: auto;}#sk-container-id-23 input.sk-toggleable__control:checked~label.sk-toggleable__label-arrow:before {content: \"▾\";}#sk-container-id-23 div.sk-estimator input.sk-toggleable__control:checked~label.sk-toggleable__label {background-color: #d4ebff;}#sk-container-id-23 div.sk-label input.sk-toggleable__control:checked~label.sk-toggleable__label {background-color: #d4ebff;}#sk-container-id-23 input.sk-hidden--visually {border: 0;clip: rect(1px 1px 1px 1px);clip: rect(1px, 1px, 1px, 1px);height: 1px;margin: -1px;overflow: hidden;padding: 0;position: absolute;width: 1px;}#sk-container-id-23 div.sk-estimator {font-family: monospace;background-color: #f0f8ff;border: 1px dotted black;border-radius: 0.25em;box-sizing: border-box;margin-bottom: 0.5em;}#sk-container-id-23 div.sk-estimator:hover {background-color: #d4ebff;}#sk-container-id-23 div.sk-parallel-item::after {content: \"\";width: 100%;border-bottom: 1px solid gray;flex-grow: 1;}#sk-container-id-23 div.sk-label:hover label.sk-toggleable__label {background-color: #d4ebff;}#sk-container-id-23 div.sk-serial::before {content: \"\";position: absolute;border-left: 1px solid gray;box-sizing: border-box;top: 0;bottom: 0;left: 50%;z-index: 0;}#sk-container-id-23 div.sk-serial {display: flex;flex-direction: column;align-items: center;background-color: white;padding-right: 0.2em;padding-left: 0.2em;position: relative;}#sk-container-id-23 div.sk-item {position: relative;z-index: 1;}#sk-container-id-23 div.sk-parallel {display: flex;align-items: stretch;justify-content: center;background-color: white;position: relative;}#sk-container-id-23 div.sk-item::before, #sk-container-id-23 div.sk-parallel-item::before {content: \"\";position: absolute;border-left: 1px solid gray;box-sizing: border-box;top: 0;bottom: 0;left: 50%;z-index: -1;}#sk-container-id-23 div.sk-parallel-item {display: flex;flex-direction: column;z-index: 1;position: relative;background-color: white;}#sk-container-id-23 div.sk-parallel-item:first-child::after {align-self: flex-end;width: 50%;}#sk-container-id-23 div.sk-parallel-item:last-child::after {align-self: flex-start;width: 50%;}#sk-container-id-23 div.sk-parallel-item:only-child::after {width: 0;}#sk-container-id-23 div.sk-dashed-wrapped {border: 1px dashed gray;margin: 0 0.4em 0.5em 0.4em;box-sizing: border-box;padding-bottom: 0.4em;background-color: white;}#sk-container-id-23 div.sk-label label {font-family: monospace;font-weight: bold;display: inline-block;line-height: 1.2em;}#sk-container-id-23 div.sk-label-container {text-align: center;}#sk-container-id-23 div.sk-container {/* jupyter's `normalize.less` sets `[hidden] { display: none; }` but bootstrap.min.css set `[hidden] { display: none !important; }` so we also need the `!important` here to be able to override the default hidden behavior on the sphinx rendered scikit-learn.org. See: https://github.com/scikit-learn/scikit-learn/issues/21755 */display: inline-block !important;position: relative;}#sk-container-id-23 div.sk-text-repr-fallback {display: none;}</style><div id=\"sk-container-id-23\" class=\"sk-top-container\"><div class=\"sk-text-repr-fallback\"><pre>LinearRegression()</pre><b>In a Jupyter environment, please rerun this cell to show the HTML representation or trust the notebook. <br />On GitHub, the HTML representation is unable to render, please try loading this page with nbviewer.org.</b></div><div class=\"sk-container\" hidden><div class=\"sk-item\"><div class=\"sk-estimator sk-toggleable\"><input class=\"sk-toggleable__control sk-hidden--visually\" id=\"sk-estimator-id-23\" type=\"checkbox\" checked><label for=\"sk-estimator-id-23\" class=\"sk-toggleable__label sk-toggleable__label-arrow\">LinearRegression</label><div class=\"sk-toggleable__content\"><pre>LinearRegression()</pre></div></div></div></div></div>"
            ]
          },
          "metadata": {},
          "execution_count": 153
        }
      ],
      "source": [
        "model7 = LinearRegression()\n",
        "model7.fit(x_train_p2, Y_train)"
      ]
    },
    {
      "cell_type": "code",
      "execution_count": null,
      "metadata": {
        "colab": {
          "base_uri": "https://localhost:8080/"
        },
        "id": "WlzfLk8DR2Yl",
        "outputId": "7b645c29-9ec5-44d2-cf57-055a3b28776e"
      },
      "outputs": [
        {
          "output_type": "stream",
          "name": "stdout",
          "text": [
            "Mean Absolute Error of Cubic Regression Model:  2051.84074464634\n",
            "Mean Squared Error of Cubic Regression Model:  7755924.372258663\n",
            "R2 score of Cubic Regression Model:  0.4282875326762938\n"
          ]
        }
      ],
      "source": [
        "y_pred = model7.predict(x_test_p2)\n",
        "y_pred_train_p2 = model7.predict(x_train_p2)\n",
        "print(\"Mean Absolute Error of Cubic Regression Model: \", mean_absolute_error(y_pred, Y_test))\n",
        "print(\"Mean Squared Error of Cubic Regression Model: \", mean_squared_error(y_pred, Y_test))\n",
        "print(\"R2 score of Cubic Regression Model: \", r2_score(y_pred, Y_test))"
      ]
    },
    {
      "cell_type": "code",
      "source": [
        "print(\"Intercept: \", model7.intercept_)\n",
        "print(\"Coefficient: \", model7.coef_)"
      ],
      "metadata": {
        "colab": {
          "base_uri": "https://localhost:8080/"
        },
        "id": "RPxnREf2eYME",
        "outputId": "9a70dfec-1dd5-42eb-b980-246dbf491824"
      },
      "execution_count": null,
      "outputs": [
        {
          "output_type": "stream",
          "name": "stdout",
          "text": [
            "Intercept:  [2668.4575061]\n",
            "Coefficient:  [[ 0.         27.26585486 31.59039176 -0.59475774]]\n"
          ]
        }
      ]
    },
    {
      "cell_type": "code",
      "execution_count": null,
      "metadata": {
        "colab": {
          "base_uri": "https://localhost:8080/",
          "height": 468
        },
        "id": "Qg0CEFJPR-s3",
        "outputId": "a61ce7c0-0323-4cb3-9993-9beb195a9fa1"
      },
      "outputs": [
        {
          "output_type": "execute_result",
          "data": {
            "text/plain": [
              "<matplotlib.legend.Legend at 0x7b723c4a7130>"
            ]
          },
          "metadata": {},
          "execution_count": 155
        },
        {
          "output_type": "display_data",
          "data": {
            "text/plain": [
              "<Figure size 640x480 with 1 Axes>"
            ],
            "image/png": "[encoded data removed]"
          },
          "metadata": {}
        }
      ],
      "source": [
        "plt.scatter(X_test, y_pred, color='cyan', label = 'Predicted Data Points (Testing set)')\n",
        "plt.scatter(X_test, Y_test, color='purple', label = 'Actual Data Points (Testing set)')\n",
        "plt.xlabel('Total Working Years')\n",
        "plt.ylabel('Monthly Income')\n",
        "plt.legend()"
      ]
    },
    {
      "cell_type": "markdown",
      "metadata": {
        "id": "B8UG9N_IPOqA"
      },
      "source": [
        "**6. Calculate the VIF for all the numerical valued attributes. Find a list of predictors based on the VIF factor.**"
      ]
    },
    {
      "cell_type": "code",
      "execution_count": null,
      "metadata": {
        "id": "gOX6ZsZmPYHB"
      },
      "outputs": [],
      "source": [
        "features = ['Age', 'DailyRate', 'DistanceFromHome', 'Education', 'EmployeeCount', 'EnvironmentSatisfaction', 'HourlyRate', 'JobInvolvement', 'JobLevel', 'JobSatisfaction', 'MonthlyIncome',\n",
        "            'MonthlyRate', 'NumCompaniesWorked','PercentSalaryHike', 'PerformanceRating', 'RelationshipSatisfaction', 'StandardHours', 'Shift',\n",
        "            'TotalWorkingYears', 'TrainingTimesLastYear', 'WorkLifeBalance', 'YearsAtCompany', 'YearsInCurrentRole', 'YearsSinceLastPromotion', 'YearsWithCurrManager']"
      ]
    },
    {
      "cell_type": "code",
      "execution_count": null,
      "metadata": {
        "id": "cQ1mvp6jPVib"
      },
      "outputs": [],
      "source": [
        "from statsmodels.stats.outliers_influence import variance_inflation_factor\n",
        "\n",
        "vif_data = pd.DataFrame()\n",
        "vif_data[\"Feature\"] = features\n",
        "vif_data[\"VIF\"] = [variance_inflation_factor(df[features].values, i) for i in range(len(features))]"
      ]
    },
    {
      "cell_type": "code",
      "execution_count": null,
      "metadata": {
        "colab": {
          "base_uri": "https://localhost:8080/"
        },
        "id": "5ong4bcSS86t",
        "outputId": "ab7641af-8892-462d-cc01-17879532460d"
      },
      "outputs": [
        {
          "output_type": "stream",
          "name": "stdout",
          "text": [
            "VIF for all the numerical attributes: \n",
            "                     Feature         VIF\n",
            "0                        Age    2.094513\n",
            "1                  DailyRate    1.020386\n",
            "2           DistanceFromHome    1.015072\n",
            "3                  Education    1.058725\n",
            "4              EmployeeCount  326.119279\n",
            "5    EnvironmentSatisfaction    1.011188\n",
            "6                 HourlyRate    1.022509\n",
            "7             JobInvolvement    1.021588\n",
            "8                   JobLevel   11.437304\n",
            "9            JobSatisfaction    1.018855\n",
            "10             MonthlyIncome   11.179080\n",
            "11               MonthlyRate    1.017148\n",
            "12        NumCompaniesWorked    1.255320\n",
            "13         PercentSalaryHike    2.429542\n",
            "14         PerformanceRating    2.428827\n",
            "15  RelationshipSatisfaction    1.019624\n",
            "16             StandardHours    1.016174\n",
            "17                     Shift    1.017992\n",
            "18         TotalWorkingYears    4.816556\n",
            "19     TrainingTimesLastYear    1.013180\n",
            "20           WorkLifeBalance    1.013876\n",
            "21            YearsAtCompany    4.481145\n",
            "22        YearsInCurrentRole    2.702436\n",
            "23   YearsSinceLastPromotion    1.659713\n",
            "24      YearsWithCurrManager    2.823824\n"
          ]
        }
      ],
      "source": [
        "print('VIF for all the numerical attributes: ')\n",
        "print(vif_data)"
      ]
    },
    {
      "cell_type": "markdown",
      "metadata": {
        "id": "33h3_uWYVdrd"
      },
      "source": [
        "**7. Build a multiple regression model using the finalized set of predictors to predict the target variable ‘Monthly rate’.**"
      ]
    },
    {
      "cell_type": "markdown",
      "metadata": {
        "id": "vpiYay3sTFo5"
      },
      "source": [
        "Here after, we only choose the attributes, which has a vif less than 5."
      ]
    },
    {
      "cell_type": "code",
      "execution_count": null,
      "metadata": {
        "id": "QwA4bKFfTMoR"
      },
      "outputs": [],
      "source": [
        "features_updated = ['Age', 'DailyRate', 'DistanceFromHome', 'Education', 'EnvironmentSatisfaction', 'HourlyRate', 'JobInvolvement', 'JobSatisfaction', 'NumCompaniesWorked', 'PercentSalaryHike',\n",
        "             'PerformanceRating', 'RelationshipSatisfaction', 'StandardHours', 'Shift', 'TotalWorkingYears',  'TrainingTimesLastYear', 'WorkLifeBalance',\n",
        "             'YearsAtCompany', 'YearsInCurrentRole', 'YearsSinceLastPromotion']\n",
        "\n",
        "X = df[features_updated]\n",
        "Y = df[['MonthlyRate']]"
      ]
    },
    {
      "cell_type": "code",
      "execution_count": null,
      "metadata": {
        "id": "o3WkoXw9UWvk"
      },
      "outputs": [],
      "source": [
        "model8 =LinearRegression()\n",
        "X_train, X_test, Y_train, Y_test = train_test_split(X, Y, test_size =0.34, random_state = 42)"
      ]
    },
    {
      "cell_type": "code",
      "execution_count": null,
      "metadata": {
        "colab": {
          "base_uri": "https://localhost:8080/",
          "height": 74
        },
        "id": "pw1ujQAXUuSK",
        "outputId": "b2a11b6f-17fb-4b6a-dd3f-6b4da3db7f17"
      },
      "outputs": [
        {
          "output_type": "execute_result",
          "data": {
            "text/plain": [
              "LinearRegression()"
            ],
            "text/html": [
              "<style>#sk-container-id-24 {color: black;background-color: white;}#sk-container-id-24 pre{padding: 0;}#sk-container-id-24 div.sk-toggleable {background-color: white;}#sk-container-id-24 label.sk-toggleable__label {cursor: pointer;display: block;width: 100%;margin-bottom: 0;padding: 0.3em;box-sizing: border-box;text-align: center;}#sk-container-id-24 label.sk-toggleable__label-arrow:before {content: \"▸\";float: left;margin-right: 0.25em;color: #696969;}#sk-container-id-24 label.sk-toggleable__label-arrow:hover:before {color: black;}#sk-container-id-24 div.sk-estimator:hover label.sk-toggleable__label-arrow:before {color: black;}#sk-container-id-24 div.sk-toggleable__content {max-height: 0;max-width: 0;overflow: hidden;text-align: left;background-color: #f0f8ff;}#sk-container-id-24 div.sk-toggleable__content pre {margin: 0.2em;color: black;border-radius: 0.25em;background-color: #f0f8ff;}#sk-container-id-24 input.sk-toggleable__control:checked~div.sk-toggleable__content {max-height: 200px;max-width: 100%;overflow: auto;}#sk-container-id-24 input.sk-toggleable__control:checked~label.sk-toggleable__label-arrow:before {content: \"▾\";}#sk-container-id-24 div.sk-estimator input.sk-toggleable__control:checked~label.sk-toggleable__label {background-color: #d4ebff;}#sk-container-id-24 div.sk-label input.sk-toggleable__control:checked~label.sk-toggleable__label {background-color: #d4ebff;}#sk-container-id-24 input.sk-hidden--visually {border: 0;clip: rect(1px 1px 1px 1px);clip: rect(1px, 1px, 1px, 1px);height: 1px;margin: -1px;overflow: hidden;padding: 0;position: absolute;width: 1px;}#sk-container-id-24 div.sk-estimator {font-family: monospace;background-color: #f0f8ff;border: 1px dotted black;border-radius: 0.25em;box-sizing: border-box;margin-bottom: 0.5em;}#sk-container-id-24 div.sk-estimator:hover {background-color: #d4ebff;}#sk-container-id-24 div.sk-parallel-item::after {content: \"\";width: 100%;border-bottom: 1px solid gray;flex-grow: 1;}#sk-container-id-24 div.sk-label:hover label.sk-toggleable__label {background-color: #d4ebff;}#sk-container-id-24 div.sk-serial::before {content: \"\";position: absolute;border-left: 1px solid gray;box-sizing: border-box;top: 0;bottom: 0;left: 50%;z-index: 0;}#sk-container-id-24 div.sk-serial {display: flex;flex-direction: column;align-items: center;background-color: white;padding-right: 0.2em;padding-left: 0.2em;position: relative;}#sk-container-id-24 div.sk-item {position: relative;z-index: 1;}#sk-container-id-24 div.sk-parallel {display: flex;align-items: stretch;justify-content: center;background-color: white;position: relative;}#sk-container-id-24 div.sk-item::before, #sk-container-id-24 div.sk-parallel-item::before {content: \"\";position: absolute;border-left: 1px solid gray;box-sizing: border-box;top: 0;bottom: 0;left: 50%;z-index: -1;}#sk-container-id-24 div.sk-parallel-item {display: flex;flex-direction: column;z-index: 1;position: relative;background-color: white;}#sk-container-id-24 div.sk-parallel-item:first-child::after {align-self: flex-end;width: 50%;}#sk-container-id-24 div.sk-parallel-item:last-child::after {align-self: flex-start;width: 50%;}#sk-container-id-24 div.sk-parallel-item:only-child::after {width: 0;}#sk-container-id-24 div.sk-dashed-wrapped {border: 1px dashed gray;margin: 0 0.4em 0.5em 0.4em;box-sizing: border-box;padding-bottom: 0.4em;background-color: white;}#sk-container-id-24 div.sk-label label {font-family: monospace;font-weight: bold;display: inline-block;line-height: 1.2em;}#sk-container-id-24 div.sk-label-container {text-align: center;}#sk-container-id-24 div.sk-container {/* jupyter's `normalize.less` sets `[hidden] { display: none; }` but bootstrap.min.css set `[hidden] { display: none !important; }` so we also need the `!important` here to be able to override the default hidden behavior on the sphinx rendered scikit-learn.org. See: https://github.com/scikit-learn/scikit-learn/issues/21755 */display: inline-block !important;position: relative;}#sk-container-id-24 div.sk-text-repr-fallback {display: none;}</style><div id=\"sk-container-id-24\" class=\"sk-top-container\"><div class=\"sk-text-repr-fallback\"><pre>LinearRegression()</pre><b>In a Jupyter environment, please rerun this cell to show the HTML representation or trust the notebook. <br />On GitHub, the HTML representation is unable to render, please try loading this page with nbviewer.org.</b></div><div class=\"sk-container\" hidden><div class=\"sk-item\"><div class=\"sk-estimator sk-toggleable\"><input class=\"sk-toggleable__control sk-hidden--visually\" id=\"sk-estimator-id-24\" type=\"checkbox\" checked><label for=\"sk-estimator-id-24\" class=\"sk-toggleable__label sk-toggleable__label-arrow\">LinearRegression</label><div class=\"sk-toggleable__content\"><pre>LinearRegression()</pre></div></div></div></div></div>"
            ]
          },
          "metadata": {},
          "execution_count": 161
        }
      ],
      "source": [
        "model8.fit(X_train, Y_train)"
      ]
    },
    {
      "cell_type": "code",
      "execution_count": null,
      "metadata": {
        "colab": {
          "base_uri": "https://localhost:8080/"
        },
        "id": "H-cVFYBAU5NF",
        "outputId": "c6098f9c-1c1c-4aed-bfc9-4a72672220e5"
      },
      "outputs": [
        {
          "output_type": "stream",
          "name": "stdout",
          "text": [
            "Mean Absolute Error of Multiple Linear Regression Model:  6265.93441756572\n",
            "Mean Squared Error of Multiple Linear  Regression Model:  51709776.11081769\n",
            "R2 score of Multiple Linear  Regression Model:  -36.025764487353264\n"
          ]
        }
      ],
      "source": [
        "y_pred = model8.predict(X_test)\n",
        "print(\"Mean Absolute Error of Multiple Linear Regression Model: \", mean_absolute_error(y_pred, Y_test))\n",
        "print(\"Mean Squared Error of Multiple Linear  Regression Model: \", mean_squared_error(y_pred, Y_test))\n",
        "print(\"R2 score of Multiple Linear  Regression Model: \", r2_score(y_pred, Y_test))"
      ]
    },
    {
      "cell_type": "code",
      "source": [
        "print(\"Intercept: \", model8.intercept_)\n",
        "print(\"Coefficient: \", model8.coef_)"
      ],
      "metadata": {
        "colab": {
          "base_uri": "https://localhost:8080/"
        },
        "id": "Vh-qnhRdecBU",
        "outputId": "4ad1e9b9-13a8-42ea-ffae-7ab38206c96f"
      },
      "execution_count": null,
      "outputs": [
        {
          "output_type": "stream",
          "name": "stdout",
          "text": [
            "Intercept:  [22357.2609449]\n",
            "Coefficient:  [[-6.76894891e+00 -6.12247902e-01  2.01132985e+01 -2.71910320e+02\n",
            "   4.11660912e+02 -2.24688530e+01 -7.09164894e+01 -3.95977257e+01\n",
            "  -1.04667999e+02  1.28810831e+02 -2.68608557e+03  3.54354445e+01\n",
            "   1.68007648e+00 -1.54821532e+02  8.32890253e+01  6.69933858e+01\n",
            "   1.63344751e+02 -1.34199483e+02 -4.05036864e+00  3.78270540e+01]]\n"
          ]
        }
      ]
    },
    {
      "cell_type": "markdown",
      "metadata": {
        "id": "OPz_4FoaVLiK"
      },
      "source": [
        "As we can see, the multiple linear regression model performs poorly, hence we need to remove some of the predictor variables in order to improve the accuracy."
      ]
    },
    {
      "cell_type": "markdown",
      "metadata": {
        "id": "7OO-BvYWVoWK"
      },
      "source": [
        "**8. Build a polynomial regression model using the attribute that has highest VIF for three different degrees greater than 3. Target variable is ‘Monthly rate’.**"
      ]
    },
    {
      "cell_type": "code",
      "execution_count": null,
      "metadata": {
        "id": "fausdrR1Vbch"
      },
      "outputs": [],
      "source": [
        "features_highvif = ['EmployeeCount', 'JobLevel', 'MonthlyIncome']\n",
        "X = df[features_highvif]\n",
        "Y = df[['MonthlyRate']]\n",
        "\n",
        "X_train, X_test, Y_train, Y_test = train_test_split(X, Y, test_size =0.34, random_state = 42)"
      ]
    },
    {
      "cell_type": "code",
      "execution_count": null,
      "metadata": {
        "id": "rmYRLLZMW6lI"
      },
      "outputs": [],
      "source": [
        "p1 = PolynomialFeatures(degree=7, include_bias=True)\n",
        "x_train_p1 = p1.fit_transform(X_train)\n",
        "x_test_p1 = p1.transform(X_test)\n",
        "\n",
        "p2 = PolynomialFeatures(degree=10, include_bias=True)\n",
        "x_train_p2 = p2.fit_transform(X_train)\n",
        "x_test_p2 = p2.transform(X_test)\n",
        "\n",
        "p3 = PolynomialFeatures(degree=15, include_bias=True)\n",
        "x_train_p3 = p3.fit_transform(X_train)\n",
        "x_test_p3 = p3.transform(X_test)\n"
      ]
    },
    {
      "cell_type": "code",
      "execution_count": null,
      "metadata": {
        "id": "XVlQNbpxXVkX"
      },
      "outputs": [],
      "source": [
        "model9 = LinearRegression()\n",
        "model10 = LinearRegression()\n",
        "model11 = LinearRegression()\n",
        "\n",
        "model9.fit(x_train_p1, Y_train)\n",
        "model10.fit(x_train_p2, Y_train)\n",
        "model11.fit(x_train_p3, Y_train)\n",
        "\n",
        "\n",
        "y_pred1 = model9.predict(x_test_p1)\n",
        "y_pred2 = model10.predict(x_test_p2)\n",
        "y_pred3 = model11.predict(x_test_p3)"
      ]
    },
    {
      "cell_type": "code",
      "execution_count": null,
      "metadata": {
        "colab": {
          "base_uri": "https://localhost:8080/"
        },
        "id": "yWQg3QJaX2TC",
        "outputId": "24c64bc7-90e3-47a1-979b-4fb631476c57"
      },
      "outputs": [
        {
          "output_type": "stream",
          "name": "stdout",
          "text": [
            "Mean Absolute Error of Poylnomial Regression Model with degree 7:  6167.756391417397\n",
            "Mean Squared Error of  Poylnomial Regression Model with degree 7:  50024853.55398439\n",
            "R2 score of  Poylnomial Regression Model with degree 7:  -119.37256190643596\n",
            "Adjusted R2 score of  Poylnomial Regression Model with degree 7:  MonthlyRate    120.023137\n",
            "dtype: float64\n",
            "\n",
            "\n",
            "Mean Absolute Error of  Poylnomial Regression Model with degree 10:  6195.556546852626\n",
            "Mean Squared Error of  Poylnomial Regression Model with degree 10:  50207334.09590737\n",
            "R2 score of  Poylnomial Regression Model with degree 10:  -98.60606090959062\n",
            "Adjusted R2 score of  Poylnomial Regression Model with degree 7:  MonthlyRate    120.023137\n",
            "dtype: float64\n",
            "\n",
            "\n",
            "Mean Absolute Error of  Poylnomial Regression Model with degree 15:  6134.457899054737\n",
            "Mean Squared Error of  Poylnomial Regression Model with degree 15:  49633697.68699187\n",
            "R2 score of  Poylnomial Regression Model with degree 15:  -49.026675955574134\n",
            "Adjusted R2 score of  Poylnomial Regression Model with degree 7:  MonthlyRate    120.023137\n",
            "dtype: float64\n"
          ]
        }
      ],
      "source": [
        "print(\"Mean Absolute Error of Poylnomial Regression Model with degree 7: \", mean_absolute_error(y_pred1, Y_test))\n",
        "print(\"Mean Squared Error of  Poylnomial Regression Model with degree 7: \", mean_squared_error(y_pred1, Y_test))\n",
        "print(\"R2 score of  Poylnomial Regression Model with degree 7: \", r2_score(y_pred1, Y_test))\n",
        "ad_r2_1 = ((1-r2_score(y_pred1, Y_test)*(Y_test.count()-1))/(Y_test.count()-len(features_highvif)-1))\n",
        "print(\"Adjusted R2 score of  Poylnomial Regression Model with degree 7: \", ad_r2_1)\n",
        "print('\\n')\n",
        "print(\"Mean Absolute Error of  Poylnomial Regression Model with degree 10: \", mean_absolute_error(y_pred2, Y_test))\n",
        "print(\"Mean Squared Error of  Poylnomial Regression Model with degree 10: \", mean_squared_error(y_pred2, Y_test))\n",
        "print(\"R2 score of  Poylnomial Regression Model with degree 10: \", r2_score(y_pred2, Y_test))\n",
        "ad_r2_2 = ((1-r2_score(y_pred2, Y_test)*(Y_test.count()-1))/(Y_test.count()-len(features_highvif)-1))\n",
        "print(\"Adjusted R2 score of  Poylnomial Regression Model with degree 7: \", ad_r2_1)\n",
        "print('\\n')\n",
        "print(\"Mean Absolute Error of  Poylnomial Regression Model with degree 15: \", mean_absolute_error(y_pred3, Y_test))\n",
        "print(\"Mean Squared Error of  Poylnomial Regression Model with degree 15: \", mean_squared_error(y_pred3, Y_test))\n",
        "print(\"R2 score of  Poylnomial Regression Model with degree 15: \", r2_score(y_pred3, Y_test))\n",
        "ad_r2_3 = ((1-r2_score(y_pred3, Y_test)*(Y_test.count()-1))/(Y_test.count()-len(features_highvif)-1))\n",
        "print(\"Adjusted R2 score of  Poylnomial Regression Model with degree 7: \", ad_r2_1)"
      ]
    },
    {
      "cell_type": "code",
      "source": [
        "print(\"Intercept: \", model9.intercept_)\n",
        "print(\"Coefficient: \", model9.coef_[0])\n",
        "print('\\n')\n",
        "print(\"Intercept: \", model10.intercept_)\n",
        "print(\"Coefficient: \", model10.coef_[0])\n",
        "print('\\n')\n",
        "print(\"Intercept: \", model11.intercept_)\n",
        "print(\"Coefficient: \", model11.coef_[0])"
      ],
      "metadata": {
        "colab": {
          "base_uri": "https://localhost:8080/"
        },
        "id": "F1SJWkAbfMsN",
        "outputId": "d9b10e32-1cda-43f8-eb63-79eb74672d06"
      },
      "execution_count": null,
      "outputs": [
        {
          "output_type": "stream",
          "name": "stdout",
          "text": [
            "Intercept:  [13885.16895427]\n",
            "Coefficient:  [-8.86393080e-16 -1.22812607e-15 -7.89775304e-19 -2.20284930e-19\n",
            "  6.85585261e-24  8.28094939e-25  7.36405544e-24 -2.67581619e-27\n",
            "  2.83310874e-24  3.81309242e-20 -2.01948392e-28 -7.06819371e-28\n",
            "  5.51091803e-24 -2.46482228e-27  2.83285962e-24  3.81309241e-20\n",
            " -6.20188885e-27 -4.97177686e-24  2.10855960e-20  1.87803783e-16\n",
            "  0.00000000e+00 -7.16988935e-28  5.51091803e-24 -2.46482228e-27\n",
            "  2.83285962e-24  3.81309241e-20 -6.20188885e-27 -4.97177686e-24\n",
            "  2.10855960e-20  1.87803783e-16 -1.23852298e-26 -1.96103855e-23\n",
            " -2.25726444e-20  3.91385474e-17  5.88784168e-13  0.00000000e+00\n",
            " -7.16988935e-28  5.51091803e-24 -2.46482228e-27  2.83285962e-24\n",
            "  3.81309241e-20 -6.20188885e-27 -4.97177686e-24  2.10855960e-20\n",
            "  1.87803783e-16 -1.23852298e-26 -1.96103855e-23 -2.25726444e-20\n",
            "  3.91385474e-17  5.88784168e-13 -1.67479396e-26 -2.72866977e-23\n",
            " -5.53703713e-20 -1.45473616e-16 -3.60992855e-13 -4.94511220e-17\n",
            "  0.00000000e+00 -7.16988935e-28  5.51091803e-24 -2.46482228e-27\n",
            "  2.83285962e-24  3.81309241e-20 -6.20188885e-27 -4.97177686e-24\n",
            "  2.10855960e-20  1.87803783e-16 -1.23852298e-26 -1.96103855e-23\n",
            " -2.25726444e-20  3.91385474e-17  5.88784168e-13 -1.67479396e-26\n",
            " -2.72866977e-23 -5.53703713e-20 -1.45473616e-16 -3.60992855e-13\n",
            " -4.94511220e-17 -4.57692020e-27  2.40391364e-23  1.02622908e-19\n",
            "  2.56492040e-16  3.87788008e-13 -1.32403388e-16  1.55301312e-20\n",
            "  0.00000000e+00 -7.16988935e-28  5.51091803e-24 -2.46482228e-27\n",
            "  2.83285962e-24  3.81309241e-20 -6.20188885e-27 -4.97177686e-24\n",
            "  2.10855960e-20  1.87803783e-16 -1.23852298e-26 -1.96103855e-23\n",
            " -2.25726444e-20  3.91385474e-17  5.88784168e-13 -1.67479396e-26\n",
            " -2.72866977e-23 -5.53703713e-20 -1.45473616e-16 -3.60992855e-13\n",
            " -4.94511220e-17 -4.57692020e-27  2.40391364e-23  1.02622908e-19\n",
            "  2.56492040e-16  3.87788008e-13 -1.32403389e-16  2.75522440e-20\n",
            " -2.82167667e-26 -3.01703747e-23 -3.47622066e-20 -4.97285405e-17\n",
            " -6.22921152e-14 -7.68018046e-18  1.21069938e-20 -2.08860846e-24]\n",
            "\n",
            "\n",
            "Intercept:  [14486.35407536]\n",
            "Coefficient:  [ 7.24437782e-27 -4.62214886e-25  1.19604460e-28 -6.58215999e-29\n",
            " -1.06097434e-29 -7.89238829e-30 -3.46031972e-29 -3.21068628e-25\n",
            " -1.44324944e-25 -1.65075065e-25  1.43855648e-26 -5.40877474e-27\n",
            "  1.81561589e-26 -8.45862296e-26  1.83086999e-26 -1.97258791e-25\n",
            "  2.59666117e-25  0.00000000e+00 -2.49349181e-45 -9.88215350e-42\n",
            "  0.00000000e+00 -5.10795218e-54  1.50386205e-49 -8.33427989e-54\n",
            " -1.32912510e-49 -4.09398076e-46 -9.21656410e-54 -5.99777148e-49\n",
            " -2.49349181e-45 -9.88215350e-42 -5.44679130e-53 -1.41669521e-48\n",
            " -5.55291856e-45 -1.95211019e-41 -7.78343636e-38  0.00000000e+00\n",
            " -5.10795218e-54  1.50386205e-49 -8.33427989e-54 -1.32912510e-49\n",
            " -4.09398076e-46 -9.21656410e-54 -5.99777148e-49 -2.49349181e-45\n",
            " -9.88215350e-42 -5.44679130e-53 -1.41669521e-48 -5.55291856e-45\n",
            " -1.95211019e-41 -7.78343636e-38 -5.09244825e-52 -3.39285167e-48\n",
            " -1.05175105e-44 -2.88630371e-41 -9.18067658e-38 -4.06291243e-34\n",
            "  0.00000000e+00 -5.10795218e-54  1.50386205e-49 -8.33427989e-54\n",
            " -1.32912510e-49 -4.09398076e-46 -9.21656410e-54 -5.99777148e-49\n",
            " -2.49349181e-45 -9.88215350e-42 -5.44679130e-53 -1.41669521e-48\n",
            " -5.55291856e-45 -1.95211019e-41 -7.78343636e-38 -5.09244825e-52\n",
            " -3.39285167e-48 -1.05175105e-44 -2.88630371e-41 -9.18067658e-38\n",
            " -4.06291243e-34 -3.41198826e-51 -1.09591684e-47 -2.48315391e-44\n",
            " -4.29867230e-41 -5.57472529e-38 -1.33584951e-34 -1.35066653e-30\n",
            "  0.00000000e+00 -5.10795218e-54  1.50386205e-49 -8.33427989e-54\n",
            " -1.32912510e-49 -4.09398076e-46 -9.21656410e-54 -5.99777148e-49\n",
            " -2.49349181e-45 -9.88215350e-42 -5.44679130e-53 -1.41669521e-48\n",
            " -5.55291856e-45 -1.95211019e-41 -7.78343636e-38 -5.09244825e-52\n",
            " -3.39285167e-48 -1.05175105e-44 -2.88630371e-41 -9.18067658e-38\n",
            " -4.06291243e-34 -3.41198826e-51 -1.09591684e-47 -2.48315391e-44\n",
            " -4.29867230e-41 -5.57472529e-38 -1.33584951e-34 -1.35066653e-30\n",
            " -1.86240693e-50 -4.63621182e-47 -9.38023861e-44 -1.40869638e-40\n",
            " -6.36493060e-38  5.16890680e-34  1.91450789e-30 -1.59854705e-27\n",
            "  0.00000000e+00 -5.10795218e-54  1.50386205e-49 -8.33427989e-54\n",
            " -1.32912510e-49 -4.09398076e-46 -9.21656410e-54 -5.99777148e-49\n",
            " -2.49349181e-45 -9.88215350e-42 -5.44679130e-53 -1.41669521e-48\n",
            " -5.55291856e-45 -1.95211019e-41 -7.78343636e-38 -5.09244825e-52\n",
            " -3.39285167e-48 -1.05175105e-44 -2.88630371e-41 -9.18067658e-38\n",
            " -4.06291243e-34 -3.41198826e-51 -1.09591684e-47 -2.48315391e-44\n",
            " -4.29867230e-41 -5.57472529e-38 -1.33584951e-34 -1.35066653e-30\n",
            " -1.86240693e-50 -4.63621182e-47 -9.38023861e-44 -1.40869638e-40\n",
            " -6.36493060e-38  5.16890680e-34  1.91450789e-30 -1.59854705e-27\n",
            " -9.01039020e-50 -2.11092857e-46 -4.40514153e-43 -7.90432978e-40\n",
            " -1.05723158e-36 -2.87854581e-34  4.16480878e-30  1.48490104e-26\n",
            "  8.47533083e-30  0.00000000e+00 -5.10795218e-54  1.50386205e-49\n",
            " -8.33427989e-54 -1.32912510e-49 -4.09398076e-46 -9.21656410e-54\n",
            " -5.99777148e-49 -2.49349181e-45 -9.88215350e-42 -5.44679130e-53\n",
            " -1.41669521e-48 -5.55291856e-45 -1.95211019e-41 -7.78343636e-38\n",
            " -5.09244825e-52 -3.39285167e-48 -1.05175105e-44 -2.88630371e-41\n",
            " -9.18067658e-38 -4.06291243e-34 -3.41198826e-51 -1.09591684e-47\n",
            " -2.48315391e-44 -4.29867230e-41 -5.57472529e-38 -1.33584951e-34\n",
            " -1.35066653e-30 -1.86240693e-50 -4.63621182e-47 -9.38023861e-44\n",
            " -1.40869638e-40 -6.36493060e-38  5.16890680e-34  1.91450789e-30\n",
            " -1.59854705e-27 -9.01039020e-50 -2.11092857e-46 -4.40514153e-43\n",
            " -7.90432978e-40 -1.05723158e-36 -2.87854581e-34  4.16480878e-30\n",
            "  1.48490104e-26  8.47533083e-30 -4.03213068e-49 -9.31787764e-46\n",
            " -2.00615813e-42 -3.98864819e-39 -7.17648443e-36 -1.12870282e-32\n",
            " -1.45638825e-29 -1.29322122e-26 -1.16948129e-30 -2.51197015e-30\n",
            "  0.00000000e+00 -5.10795218e-54  1.50386205e-49 -8.33427989e-54\n",
            " -1.32912510e-49 -4.09398076e-46 -9.21656410e-54 -5.99777148e-49\n",
            " -2.49349181e-45 -9.88215350e-42 -5.44679130e-53 -1.41669521e-48\n",
            " -5.55291856e-45 -1.95211019e-41 -7.78343636e-38 -5.09244825e-52\n",
            " -3.39285167e-48 -1.05175105e-44 -2.88630371e-41 -9.18067658e-38\n",
            " -4.06291243e-34 -3.41198826e-51 -1.09591684e-47 -2.48315391e-44\n",
            " -4.29867230e-41 -5.57472529e-38 -1.33584951e-34 -1.35066653e-30\n",
            " -1.86240693e-50 -4.63621182e-47 -9.38023861e-44 -1.40869638e-40\n",
            " -6.36493060e-38  5.16890680e-34  1.91450789e-30 -1.59854705e-27\n",
            " -9.01039020e-50 -2.11092857e-46 -4.40514153e-43 -7.90432978e-40\n",
            " -1.05723158e-36 -2.87854581e-34  4.16480878e-30  1.48490104e-26\n",
            "  8.47533083e-30 -4.03213068e-49 -9.31787764e-46 -2.00615813e-42\n",
            " -3.98864819e-39 -7.17648443e-36 -1.12870282e-32 -1.45638825e-29\n",
            " -1.29322122e-26 -1.16948129e-30  2.51012879e-30 -1.70600453e-48\n",
            " -3.86973026e-45 -8.21246546e-42 -1.60237906e-38 -2.78457405e-35\n",
            " -4.06900531e-32 -4.44737177e-29 -2.65910819e-26  2.14388627e-29\n",
            " -4.98924117e-33  4.34239027e-37]\n",
            "\n",
            "\n",
            "Intercept:  [14105.94924401]\n",
            "Coefficient:  [-4.62189957e-49 -1.05035979e-46  4.33849489e-50 -1.03509082e-49\n",
            "  1.98737326e-52 -3.67537126e-50  5.38680264e-50 -1.45715611e-46\n",
            "  9.25922586e-47 -8.34768992e-47 -1.92744863e-47 -4.59115550e-47\n",
            " -1.03808840e-46 -1.72344923e-47 -6.80593957e-47 -4.70114255e-47\n",
            " -5.47020844e-47  1.50714143e-46  6.64726013e-47  6.30013587e-47\n",
            "  1.27697303e-46  5.48831646e-48  8.07208280e-48 -3.89923631e-47\n",
            "  1.22260433e-49 -6.38988459e-47  4.85714686e-47  2.52230655e-47\n",
            "  2.36124266e-46  2.03740058e-46 -3.05723308e-46  1.21958315e-48\n",
            " -1.24964899e-46  1.16681536e-61 -1.15932319e-77  0.00000000e+00\n",
            " -4.34841575e-93 -8.47972287e-90 -1.48140450e-92 -3.85929238e-89\n",
            " -1.05596887e-85 -4.10288736e-92 -1.14605047e-88 -3.34115626e-85\n",
            " -1.01577252e-81 -1.09221139e-91 -3.13460605e-88 -9.32791318e-85\n",
            " -2.87066382e-81 -9.12483523e-78 -2.92557055e-91 -8.49639625e-88\n",
            " -2.54555097e-84 -7.84544166e-81 -2.48270643e-77 -8.05648483e-74\n",
            "  0.00000000e+00 -4.34841575e-93 -8.47972287e-90 -1.48140450e-92\n",
            " -3.85929238e-89 -1.05596887e-85 -4.10288736e-92 -1.14605047e-88\n",
            " -3.34115626e-85 -1.01577252e-81 -1.09221139e-91 -3.13460605e-88\n",
            " -9.32791318e-85 -2.87066382e-81 -9.12483523e-78 -2.92557055e-91\n",
            " -8.49639625e-88 -2.54555097e-84 -7.84544166e-81 -2.48270643e-77\n",
            " -8.05648483e-74 -7.98817094e-91 -2.32968407e-87 -6.98096322e-84\n",
            " -2.14371486e-80 -6.73254171e-77 -2.15877496e-73 -7.05695089e-70\n",
            "  0.00000000e+00 -4.34841575e-93 -8.47972287e-90 -1.48140450e-92\n",
            " -3.85929238e-89 -1.05596887e-85 -4.10288736e-92 -1.14605047e-88\n",
            " -3.34115626e-85 -1.01577252e-81 -1.09221139e-91 -3.13460605e-88\n",
            " -9.32791318e-85 -2.87066382e-81 -9.12483523e-78 -2.92557055e-91\n",
            " -8.49639625e-88 -2.54555097e-84 -7.84544166e-81 -2.48270643e-77\n",
            " -8.05648483e-74 -7.98817094e-91 -2.32968407e-87 -6.98096322e-84\n",
            " -2.14371486e-80 -6.73254171e-77 -2.15877496e-73 -7.05695089e-70\n",
            " -2.22543708e-90 -6.48389725e-87 -1.93446073e-83 -5.89704519e-80\n",
            " -1.83332972e-76 -5.80182881e-73 -1.86533509e-69 -6.08036389e-66\n",
            "  0.00000000e+00 -4.34841575e-93 -8.47972287e-90 -1.48140450e-92\n",
            " -3.85929238e-89 -1.05596887e-85 -4.10288736e-92 -1.14605047e-88\n",
            " -3.34115626e-85 -1.01577252e-81 -1.09221139e-91 -3.13460605e-88\n",
            " -9.32791318e-85 -2.87066382e-81 -9.12483523e-78 -2.92557055e-91\n",
            " -8.49639625e-88 -2.54555097e-84 -7.84544166e-81 -2.48270643e-77\n",
            " -8.05648483e-74 -7.98817094e-91 -2.32968407e-87 -6.98096322e-84\n",
            " -2.14371486e-80 -6.73254171e-77 -2.15877496e-73 -7.05695089e-70\n",
            " -2.22543708e-90 -6.48389725e-87 -1.93446073e-83 -5.89704519e-80\n",
            " -1.83332972e-76 -5.80182881e-73 -1.86533509e-69 -6.08036389e-66\n",
            " -6.30431338e-90 -1.82686277e-86 -5.40452581e-83 -1.62954339e-79\n",
            " -4.99978279e-76 -1.55828026e-72 -4.92278228e-69 -1.57206962e-65\n",
            " -5.05762891e-62  0.00000000e+00 -4.34841575e-93 -8.47972287e-90\n",
            " -1.48140450e-92 -3.85929238e-89 -1.05596887e-85 -4.10288736e-92\n",
            " -1.14605047e-88 -3.34115626e-85 -1.01577252e-81 -1.09221139e-91\n",
            " -3.13460605e-88 -9.32791318e-85 -2.87066382e-81 -9.12483523e-78\n",
            " -2.92557055e-91 -8.49639625e-88 -2.54555097e-84 -7.84544166e-81\n",
            " -2.48270643e-77 -8.05648483e-74 -7.98817094e-91 -2.32968407e-87\n",
            " -6.98096322e-84 -2.14371486e-80 -6.73254171e-77 -2.15877496e-73\n",
            " -7.05695089e-70 -2.22543708e-90 -6.48389725e-87 -1.93446073e-83\n",
            " -5.89704519e-80 -1.83332972e-76 -5.80182881e-73 -1.86533509e-69\n",
            " -6.08036389e-66 -6.30431338e-90 -1.82686277e-86 -5.40452581e-83\n",
            " -1.62954339e-79 -4.99978279e-76 -1.55828026e-72 -4.92278228e-69\n",
            " -1.57206962e-65 -5.05762891e-62 -1.80822985e-89 -5.18910822e-86\n",
            " -1.51557967e-82 -4.50013745e-79 -1.35695500e-75 -4.14953826e-72\n",
            " -1.28430976e-68 -4.01150802e-65 -1.25902452e-61 -3.94484473e-58\n",
            "  0.00000000e+00 -4.34841575e-93 -8.47972287e-90 -1.48140450e-92\n",
            " -3.85929238e-89 -1.05596887e-85 -4.10288736e-92 -1.14605047e-88\n",
            " -3.34115626e-85 -1.01577252e-81 -1.09221139e-91 -3.13460605e-88\n",
            " -9.32791318e-85 -2.87066382e-81 -9.12483523e-78 -2.92557055e-91\n",
            " -8.49639625e-88 -2.54555097e-84 -7.84544166e-81 -2.48270643e-77\n",
            " -8.05648483e-74 -7.98817094e-91 -2.32968407e-87 -6.98096322e-84\n",
            " -2.14371486e-80 -6.73254171e-77 -2.15877496e-73 -7.05695089e-70\n",
            " -2.22543708e-90 -6.48389725e-87 -1.93446073e-83 -5.89704519e-80\n",
            " -1.83332972e-76 -5.80182881e-73 -1.86533509e-69 -6.08036389e-66\n",
            " -6.30431338e-90 -1.82686277e-86 -5.40452581e-83 -1.62954339e-79\n",
            " -4.99978279e-76 -1.55828026e-72 -4.92278228e-69 -1.57206962e-65\n",
            " -5.05762891e-62 -1.80822985e-89 -5.18910822e-86 -1.51557967e-82\n",
            " -4.50013745e-79 -1.35695500e-75 -4.14953826e-72 -1.28430976e-68\n",
            " -4.01150802e-65 -1.25902452e-61 -3.94484473e-58 -5.23221456e-89\n",
            " -1.48033074e-85 -4.24741408e-82 -1.23511334e-78 -3.63817340e-75\n",
            " -1.08477477e-71 -3.26961551e-68 -9.93749190e-65 -3.03211169e-61\n",
            " -9.21520134e-58 -2.75105227e-54  0.00000000e+00 -4.34841575e-93\n",
            " -8.47972287e-90 -1.48140450e-92 -3.85929238e-89 -1.05596887e-85\n",
            " -4.10288736e-92 -1.14605047e-88 -3.34115626e-85 -1.01577252e-81\n",
            " -1.09221139e-91 -3.13460605e-88 -9.32791318e-85 -2.87066382e-81\n",
            " -9.12483523e-78 -2.92557055e-91 -8.49639625e-88 -2.54555097e-84\n",
            " -7.84544166e-81 -2.48270643e-77 -8.05648483e-74 -7.98817094e-91\n",
            " -2.32968407e-87 -6.98096322e-84 -2.14371486e-80 -6.73254171e-77\n",
            " -2.15877496e-73 -7.05695089e-70 -2.22543708e-90 -6.48389725e-87\n",
            " -1.93446073e-83 -5.89704519e-80 -1.83332972e-76 -5.80182881e-73\n",
            " -1.86533509e-69 -6.08036389e-66 -6.30431338e-90 -1.82686277e-86\n",
            " -5.40452581e-83 -1.62954339e-79 -4.99978279e-76 -1.55828026e-72\n",
            " -4.92278228e-69 -1.57206962e-65 -5.05762891e-62 -1.80822985e-89\n",
            " -5.18910822e-86 -1.51557967e-82 -4.50013745e-79 -1.35695500e-75\n",
            " -4.14953826e-72 -1.28430976e-68 -4.01150802e-65 -1.25902452e-61\n",
            " -3.94484473e-58 -5.23221456e-89 -1.48033074e-85 -4.24741408e-82\n",
            " -1.23511334e-78 -3.63817340e-75 -1.08477477e-71 -3.26961551e-68\n",
            " -9.93749190e-65 -3.03211169e-61 -9.21520134e-58 -2.75105227e-54\n",
            " -1.52395617e-88 -4.23169609e-85 -1.18617016e-81 -3.35481197e-78\n",
            " -9.57235473e-75 -2.75537129e-71 -7.99866385e-68 -2.33884198e-64\n",
            " -6.86596218e-61 -2.00844721e-57 -5.76095262e-54 -1.56353218e-50\n",
            "  0.00000000e+00 -4.34841575e-93 -8.47972287e-90 -1.48140450e-92\n",
            " -3.85929238e-89 -1.05596887e-85 -4.10288736e-92 -1.14605047e-88\n",
            " -3.34115626e-85 -1.01577252e-81 -1.09221139e-91 -3.13460605e-88\n",
            " -9.32791318e-85 -2.87066382e-81 -9.12483523e-78 -2.92557055e-91\n",
            " -8.49639625e-88 -2.54555097e-84 -7.84544166e-81 -2.48270643e-77\n",
            " -8.05648483e-74 -7.98817094e-91 -2.32968407e-87 -6.98096322e-84\n",
            " -2.14371486e-80 -6.73254171e-77 -2.15877496e-73 -7.05695089e-70\n",
            " -2.22543708e-90 -6.48389725e-87 -1.93446073e-83 -5.89704519e-80\n",
            " -1.83332972e-76 -5.80182881e-73 -1.86533509e-69 -6.08036389e-66\n",
            " -6.30431338e-90 -1.82686277e-86 -5.40452581e-83 -1.62954339e-79\n",
            " -4.99978279e-76 -1.55828026e-72 -4.92278228e-69 -1.57206962e-65\n",
            " -5.05762891e-62 -1.80822985e-89 -5.18910822e-86 -1.51557967e-82\n",
            " -4.50013745e-79 -1.35695500e-75 -4.14953826e-72 -1.28430976e-68\n",
            " -4.01150802e-65 -1.25902452e-61 -3.94484473e-58 -5.23221456e-89\n",
            " -1.48033074e-85 -4.24741408e-82 -1.23511334e-78 -3.63817340e-75\n",
            " -1.08477477e-71 -3.26961551e-68 -9.93749190e-65 -3.03211169e-61\n",
            " -9.21520134e-58 -2.75105227e-54 -1.52395617e-88 -4.23169609e-85\n",
            " -1.18617016e-81 -3.35481197e-78 -9.57235473e-75 -2.75537129e-71\n",
            " -7.99866385e-68 -2.33884198e-64 -6.86596218e-61 -2.00844721e-57\n",
            " -5.76095262e-54 -1.56353218e-50 -4.46739618e-88 -1.21269001e-84\n",
            " -3.30302750e-81 -9.01760396e-78 -2.46613646e-74 -6.75463977e-71\n",
            " -1.85321221e-67 -5.09460819e-64 -1.40253719e-60 -3.85137240e-57\n",
            " -1.04068496e-53 -2.65932202e-50 -5.64372802e-47  0.00000000e+00\n",
            " -4.34841575e-93 -8.47972287e-90 -1.48140450e-92 -3.85929238e-89\n",
            " -1.05596887e-85 -4.10288736e-92 -1.14605047e-88 -3.34115626e-85\n",
            " -1.01577252e-81 -1.09221139e-91 -3.13460605e-88 -9.32791318e-85\n",
            " -2.87066382e-81 -9.12483523e-78 -2.92557055e-91 -8.49639625e-88\n",
            " -2.54555097e-84 -7.84544166e-81 -2.48270643e-77 -8.05648483e-74\n",
            " -7.98817094e-91 -2.32968407e-87 -6.98096322e-84 -2.14371486e-80\n",
            " -6.73254171e-77 -2.15877496e-73 -7.05695089e-70 -2.22543708e-90\n",
            " -6.48389725e-87 -1.93446073e-83 -5.89704519e-80 -1.83332972e-76\n",
            " -5.80182881e-73 -1.86533509e-69 -6.08036389e-66 -6.30431338e-90\n",
            " -1.82686277e-86 -5.40452581e-83 -1.62954339e-79 -4.99978279e-76\n",
            " -1.55828026e-72 -4.92278228e-69 -1.57206962e-65 -5.05762891e-62\n",
            " -1.80822985e-89 -5.18910822e-86 -1.51557967e-82 -4.50013745e-79\n",
            " -1.35695500e-75 -4.14953826e-72 -1.28430976e-68 -4.01150802e-65\n",
            " -1.25902452e-61 -3.94484473e-58 -5.23221456e-89 -1.48033074e-85\n",
            " -4.24741408e-82 -1.23511334e-78 -3.63817340e-75 -1.08477477e-71\n",
            " -3.26961551e-68 -9.93749190e-65 -3.03211169e-61 -9.21520134e-58\n",
            " -2.75105227e-54 -1.52395617e-88 -4.23169609e-85 -1.18617016e-81\n",
            " -3.35481197e-78 -9.57235473e-75 -2.75537129e-71 -7.99866385e-68\n",
            " -2.33884198e-64 -6.86596218e-61 -2.00844721e-57 -5.76095262e-54\n",
            " -1.56353218e-50 -4.46739618e-88 -1.21269001e-84 -3.30302750e-81\n",
            " -9.01760396e-78 -2.46613646e-74 -6.75463977e-71 -1.85321221e-67\n",
            " -5.09460819e-64 -1.40253719e-60 -3.85137240e-57 -1.04068496e-53\n",
            " -2.65932202e-50 -5.64372802e-47 -1.32191739e-87 -3.50245382e-84\n",
            " -9.24631379e-81 -2.42562973e-77 -6.30510562e-74 -1.61893763e-70\n",
            " -4.09314078e-67 -1.01606378e-63 -2.47177541e-60 -5.89082865e-57\n",
            " -1.37331126e-53 -3.06487185e-50 -5.69398567e-47  5.78170687e-50\n",
            "  0.00000000e+00 -4.34841575e-93 -8.47972287e-90 -1.48140450e-92\n",
            " -3.85929238e-89 -1.05596887e-85 -4.10288736e-92 -1.14605047e-88\n",
            " -3.34115626e-85 -1.01577252e-81 -1.09221139e-91 -3.13460605e-88\n",
            " -9.32791318e-85 -2.87066382e-81 -9.12483523e-78 -2.92557055e-91\n",
            " -8.49639625e-88 -2.54555097e-84 -7.84544166e-81 -2.48270643e-77\n",
            " -8.05648483e-74 -7.98817094e-91 -2.32968407e-87 -6.98096322e-84\n",
            " -2.14371486e-80 -6.73254171e-77 -2.15877496e-73 -7.05695089e-70\n",
            " -2.22543708e-90 -6.48389725e-87 -1.93446073e-83 -5.89704519e-80\n",
            " -1.83332972e-76 -5.80182881e-73 -1.86533509e-69 -6.08036389e-66\n",
            " -6.30431338e-90 -1.82686277e-86 -5.40452581e-83 -1.62954339e-79\n",
            " -4.99978279e-76 -1.55828026e-72 -4.92278228e-69 -1.57206962e-65\n",
            " -5.05762891e-62 -1.80822985e-89 -5.18910822e-86 -1.51557967e-82\n",
            " -4.50013745e-79 -1.35695500e-75 -4.14953826e-72 -1.28430976e-68\n",
            " -4.01150802e-65 -1.25902452e-61 -3.94484473e-58 -5.23221456e-89\n",
            " -1.48033074e-85 -4.24741408e-82 -1.23511334e-78 -3.63817340e-75\n",
            " -1.08477477e-71 -3.26961551e-68 -9.93749190e-65 -3.03211169e-61\n",
            " -9.21520134e-58 -2.75105227e-54 -1.52395617e-88 -4.23169609e-85\n",
            " -1.18617016e-81 -3.35481197e-78 -9.57235473e-75 -2.75537129e-71\n",
            " -7.99866385e-68 -2.33884198e-64 -6.86596218e-61 -2.00844721e-57\n",
            " -5.76095262e-54 -1.56353218e-50 -4.46739618e-88 -1.21269001e-84\n",
            " -3.30302750e-81 -9.01760396e-78 -2.46613646e-74 -6.75463977e-71\n",
            " -1.85321221e-67 -5.09460819e-64 -1.40253719e-60 -3.85137240e-57\n",
            " -1.04068496e-53 -2.65932202e-50 -5.64372802e-47 -1.32191739e-87\n",
            " -3.50245382e-84 -9.24631379e-81 -2.42562973e-77 -6.30510562e-74\n",
            " -1.61893763e-70 -4.09314078e-67 -1.01606378e-63 -2.47177541e-60\n",
            " -5.89082865e-57 -1.37331126e-53 -3.06487185e-50 -5.69398567e-47\n",
            "  5.78170687e-50 -3.97851518e-87 -1.03371861e-83 -2.66334651e-80\n",
            " -6.77614111e-77 -1.69304752e-73 -4.12209743e-70 -9.66826232e-67\n",
            " -2.14581350e-63 -4.37355239e-60 -7.73801776e-57 -1.04269576e-53\n",
            " -6.26623354e-51  9.70761003e-48 -2.52883891e-51 -6.14039520e-54\n",
            "  0.00000000e+00 -4.34841575e-93 -8.47972287e-90 -1.48140450e-92\n",
            " -3.85929238e-89 -1.05596887e-85 -4.10288736e-92 -1.14605047e-88\n",
            " -3.34115626e-85 -1.01577252e-81 -1.09221139e-91 -3.13460605e-88\n",
            " -9.32791318e-85 -2.87066382e-81 -9.12483523e-78 -2.92557055e-91\n",
            " -8.49639625e-88 -2.54555097e-84 -7.84544166e-81 -2.48270643e-77\n",
            " -8.05648483e-74 -7.98817094e-91 -2.32968407e-87 -6.98096322e-84\n",
            " -2.14371486e-80 -6.73254171e-77 -2.15877496e-73 -7.05695089e-70\n",
            " -2.22543708e-90 -6.48389725e-87 -1.93446073e-83 -5.89704519e-80\n",
            " -1.83332972e-76 -5.80182881e-73 -1.86533509e-69 -6.08036389e-66\n",
            " -6.30431338e-90 -1.82686277e-86 -5.40452581e-83 -1.62954339e-79\n",
            " -4.99978279e-76 -1.55828026e-72 -4.92278228e-69 -1.57206962e-65\n",
            " -5.05762891e-62 -1.80822985e-89 -5.18910822e-86 -1.51557967e-82\n",
            " -4.50013745e-79 -1.35695500e-75 -4.14953826e-72 -1.28430976e-68\n",
            " -4.01150802e-65 -1.25902452e-61 -3.94484473e-58 -5.23221456e-89\n",
            " -1.48033074e-85 -4.24741408e-82 -1.23511334e-78 -3.63817340e-75\n",
            " -1.08477477e-71 -3.26961551e-68 -9.93749190e-65 -3.03211169e-61\n",
            " -9.21520134e-58 -2.75105227e-54 -1.52395617e-88 -4.23169609e-85\n",
            " -1.18617016e-81 -3.35481197e-78 -9.57235473e-75 -2.75537129e-71\n",
            " -7.99866385e-68 -2.33884198e-64 -6.86596218e-61 -2.00844721e-57\n",
            " -5.76095262e-54 -1.56353218e-50 -4.46739618e-88 -1.21269001e-84\n",
            " -3.30302750e-81 -9.01760396e-78 -2.46613646e-74 -6.75463977e-71\n",
            " -1.85321221e-67 -5.09460819e-64 -1.40253719e-60 -3.85137240e-57\n",
            " -1.04068496e-53 -2.65932202e-50 -5.64372802e-47 -1.32191739e-87\n",
            " -3.50245382e-84 -9.24631379e-81 -2.42562973e-77 -6.30510562e-74\n",
            " -1.61893763e-70 -4.09314078e-67 -1.01606378e-63 -2.47177541e-60\n",
            " -5.89082865e-57 -1.37331126e-53 -3.06487185e-50 -5.69398567e-47\n",
            "  5.78170687e-50 -3.97851518e-87 -1.03371861e-83 -2.66334651e-80\n",
            " -6.77614111e-77 -1.69304752e-73 -4.12209743e-70 -9.66826232e-67\n",
            " -2.14581350e-63 -4.37355239e-60 -7.73801776e-57 -1.04269576e-53\n",
            " -6.26623354e-51  9.70761003e-48 -2.52883891e-51 -6.14039520e-54\n",
            " -1.23534215e-86 -3.20199655e-83 -8.27048377e-80 -2.12591907e-76\n",
            " -5.42794154e-73 -1.37212816e-69 -3.41517132e-66 -8.29118547e-63\n",
            " -1.93312218e-59 -4.21765019e-56 -8.22562034e-53 -1.30773144e-49\n",
            " -1.32018581e-46  1.00550880e-49 -2.51714981e-53  2.38944340e-57]\n"
          ]
        }
      ]
    },
    {
      "cell_type": "markdown",
      "source": [
        "As we can see, we are getting worse models when we consider the attributes with higher VIF, hence we should always go for independent attributes with low VIF values in order to get a more accurate regression Model."
      ],
      "metadata": {
        "id": "x6de3VmUbMHC"
      }
    },
    {
      "cell_type": "markdown",
      "metadata": {
        "id": "mCy7HHJuVuFV"
      },
      "source": [
        "**9. Build a Ridge regression model using the attribute that has highest VIF for 50 different values of alpha ranging from 0.01 to 100. Target variable is ‘Monthly rate’.**"
      ]
    },
    {
      "cell_type": "code",
      "execution_count": null,
      "metadata": {
        "colab": {
          "base_uri": "https://localhost:8080/"
        },
        "id": "gYtXMuo7VzMF",
        "outputId": "3b5cd916-ef03-415c-bccf-534236f15e58"
      },
      "outputs": [
        {
          "output_type": "stream",
          "name": "stdout",
          "text": [
            "{'alpha': 100}\n",
            "-51943870.10185916\n"
          ]
        }
      ],
      "source": [
        "from sklearn.linear_model import Ridge\n",
        "from sklearn.model_selection import GridSearchCV\n",
        "\n",
        "ridge=Ridge()\n",
        "parameters={'alpha':[0.01, 0.1, 1, 2, 3, 4, 5, 10, 11, 12, 13, 14, 15, 20, 21, 22, 23, 24, 25, 30, 31, 32, 33, 34, 35, 40, 41, 42, 43, 44, 45, 50, 51, 52, 53, 54, 55, 60, 61, 62, 63, 64, 65, 70, 75, 80, 81, 82, 83, 84, 85, 90, 91, 92,93, 94, 95, 100]}\n",
        "ridge_regressor=GridSearchCV(ridge,parameters,scoring='neg_mean_squared_error',cv=5)\n",
        "\n",
        "ridge_regressor.fit(X_train,Y_train)\n",
        "\n",
        "print(ridge_regressor.best_params_)\n",
        "print(ridge_regressor.best_score_)"
      ]
    },
    {
      "cell_type": "code",
      "source": [
        "prediction_ridge = ridge_regressor.predict(X_test)\n",
        "print(\"Ridge Regression Prediction Score: \", prediction_ridge[0])"
      ],
      "metadata": {
        "colab": {
          "base_uri": "https://localhost:8080/"
        },
        "id": "V4ZdGEvdbgHT",
        "outputId": "41f8069f-26af-4cdc-914f-38c0238d147a"
      },
      "execution_count": null,
      "outputs": [
        {
          "output_type": "stream",
          "name": "stdout",
          "text": [
            "Ridge Regression Prediction Score:  [14583.24880641]\n"
          ]
        }
      ]
    },
    {
      "cell_type": "markdown",
      "source": [
        "**10. Build a LASSO regression model using the attribute that has highest VIF for 25 different values of alpha ranging from 0.01 to 100. Target variable is ‘Monthly rate’.**\n",
        "\n",
        "**11. Use N-fold cross validation for training the model created**"
      ],
      "metadata": {
        "id": "_j6-_6uUb-x3"
      }
    },
    {
      "cell_type": "code",
      "execution_count": null,
      "metadata": {
        "colab": {
          "base_uri": "https://localhost:8080/"
        },
        "id": "chv9DD8QYcwU",
        "outputId": "e5cd4f36-2759-47ab-b883-0f5830657cb4"
      },
      "outputs": [
        {
          "output_type": "stream",
          "name": "stdout",
          "text": [
            "{'alpha': 100}\n",
            "-51942443.122240886\n"
          ]
        }
      ],
      "source": [
        "from sklearn.linear_model import Lasso\n",
        "from sklearn.model_selection import GridSearchCV\n",
        "lasso=Lasso()\n",
        "parameters={'alpha':[0.01,0.1,1,2,3,5,10,15,20,25,30,35,40,45,50,55,60,65,70,75,80,85,90,95,100]}\n",
        "lasso_regressor=GridSearchCV(lasso,parameters,scoring='neg_mean_squared_error',cv=5)\n",
        "\n",
        "lasso_regressor.fit(X_train, Y_train)\n",
        "\n",
        "print(lasso_regressor.best_params_)\n",
        "print(lasso_regressor.best_score_)"
      ]
    },
    {
      "cell_type": "code",
      "source": [
        "prediction_lasso = lasso_regressor.predict(X_test)\n",
        "print(\"Lasso Regression Prediction Score: \", prediction_lasso[0])"
      ],
      "metadata": {
        "colab": {
          "base_uri": "https://localhost:8080/"
        },
        "id": "Ri4uNMmjcKhp",
        "outputId": "ce7587e4-5dbd-4ad3-cd2e-de5ecd10fb11"
      },
      "execution_count": null,
      "outputs": [
        {
          "output_type": "stream",
          "name": "stdout",
          "text": [
            "Lasso Regression Prediction Score:  14451.762687160495\n"
          ]
        }
      ]
    },
    {
      "cell_type": "markdown",
      "source": [
        "12. Identify the predictors based on the VIF that will be useful for predicting ‘PercentSalaryHike’. Comment on the predictors identified by you.\n",
        "\n",
        "ince we can clearly see that x_updated features have the least vif, we will first try using that as our predictor variables. After that, we can keep on removing attributes in order to increase the R2 value and reduce the Mean Squared Error value. This is because some of the attributes might be unnecesary in order to predict 'PercentSalaryHike' such as 'WorkLifeBalance', 'Shift', etc."
      ],
      "metadata": {
        "id": "X_3VhyQPfpAf"
      }
    },
    {
      "cell_type": "markdown",
      "source": [
        "13. Also, MonthlyRate is not a good depedent variable or predicted variable to work with, since it has really low vif, which basically means that the values of MonthlyRate cannot be explained much by the other indepedent variables. On the other hand, EmployeeCount and MonthlyIncome have a higher vif value, so they can be used as our depedent variable."
      ],
      "metadata": {
        "id": "5J4q4x1ngk8t"
      }
    }
  ],
  "metadata": {
    "accelerator": "GPU",
    "colab": {
      "provenance": []
    },
    "kernelspec": {
      "display_name": "Python 3",
      "name": "python3"
    },
    "language_info": {
      "name": "python"
    }
  },
  "nbformat": 4,
  "nbformat_minor": 0
}