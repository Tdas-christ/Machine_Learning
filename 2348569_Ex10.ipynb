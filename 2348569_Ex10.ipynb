{
  "nbformat": 4,
  "nbformat_minor": 0,
  "metadata": {
    "colab": {
      "provenance": []
    },
    "kernelspec": {
      "name": "python3",
      "display_name": "Python 3"
    },
    "language_info": {
      "name": "python"
    }
  },
  "cells": [
    {
      "cell_type": "code",
      "execution_count": 2,
      "metadata": {
        "colab": {
          "base_uri": "https://localhost:8080/"
        },
        "id": "Hrq1XW3uDoan",
        "outputId": "22300484-4a43-4221-e260-33baba5bf816"
      },
      "outputs": [
        {
          "output_type": "stream",
          "name": "stdout",
          "text": [
            "Final Q-Values:\n",
            "[[  0.    0.    0.    0.   80.    0. ]\n",
            " [  0.    0.    0.   64.    0.  100. ]\n",
            " [  0.    0.    0.   64.    0.    0. ]\n",
            " [  0.   80.   51.2   0.   80.    0. ]\n",
            " [ 64.    0.    0.   64.    0.  100. ]\n",
            " [  0.    0.    0.    0.    0.    0. ]]\n"
          ]
        }
      ],
      "source": [
        "import numpy as np\n",
        "\n",
        "# Defining the number of rooms\n",
        "num_rooms = 6  # 5 rooms (numbered 0-4) and the outside (numbered 5)\n",
        "\n",
        "# Defining the rewards for each transition in the environment\n",
        "# The rewards matrix is in the form of (current_state, action) -> reward\n",
        "rewards = np.array([[-1, -1, -1, -1, 0, -1],\n",
        "                    [-1, -1, -1, 0, -1, 100],\n",
        "                    [-1, -1, -1, 0, -1, -1],\n",
        "                    [-1, 0, 0, -1, 0, -1],\n",
        "                    [0, -1, -1, 0, -1, 100],\n",
        "                    [-1, 0, -1, -1, 0, 100]])\n",
        "\n",
        "# Initializing the Q-values matrix with zeros\n",
        "q_values = np.zeros((num_rooms, num_rooms))\n",
        "\n",
        "# Defining the discount factor\n",
        "gamma = 0.8\n",
        "\n",
        "# Defining the number of episodes for training\n",
        "num_episodes = 1000\n",
        "\n",
        "# Performing Q-learning\n",
        "for _ in range(num_episodes):\n",
        "    current_state = np.random.randint(0, num_rooms)  # Starting from a random room\n",
        "    while current_state != 5:  # 5 is the index of the outside room\n",
        "        possible_actions = np.where(rewards[current_state] >= 0)[0]  # Retrieving possible actions from the current state\n",
        "        action = np.random.choice(possible_actions)  # Choosing a random action\n",
        "        next_state = action  # Transitioning to the next state\n",
        "        future_rewards = []\n",
        "        for action_next in range(num_rooms):\n",
        "            future_rewards.append(q_values[next_state, action_next])\n",
        "        q_values[current_state, action] = rewards[current_state, action] + gamma * max(future_rewards)\n",
        "        current_state = next_state\n",
        "\n",
        "print(\"Final Q-Values:\")\n",
        "print(q_values)\n"
      ]
    }
  ]
}